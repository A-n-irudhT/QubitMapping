{
 "cells": [
  {
   "cell_type": "code",
   "execution_count": 1,
   "id": "961feace",
   "metadata": {},
   "outputs": [],
   "source": [
    "import numpy as np\n",
    "from utils import *\n",
    "from qiskit import *\n",
    "from qiskit import IBMQ\n",
    "import matplotlib.pyplot as plt\n",
    "from IPython.display import display\n",
    "from qiskit import QuantumCircuit, transpile\n",
    "from sympy.utilities.iterables import multiset_permutations\n",
    "from qiskit.circuit import QuantumRegister, ClassicalRegister, QuantumCircuit"
   ]
  },
  {
   "cell_type": "code",
   "execution_count": 2,
   "id": "08092d63",
   "metadata": {},
   "outputs": [],
   "source": [
    "IBMQ.save_account('de404b7eba21afacf3e900bcd1cc1244967cecad8f7051683e08ff88d444aee2e6cb029f51036d2eb8efd6f18bd04acf5d9bc0891891ebe4c1bb1ab062f7741b', overwrite=True)\n",
    "IBMQ.load_account()\n",
    "\n",
    "my_provider = IBMQ.get_provider()\n",
    "backend  = my_provider.get_backend('ibmq_lima')"
   ]
  },
  {
   "cell_type": "code",
   "execution_count": 3,
   "id": "5435c42b",
   "metadata": {},
   "outputs": [
    {
     "name": "stdout",
     "output_type": "stream",
     "text": [
      "Iteration 1\n",
      "Iteration 1001\n",
      "Iteration 2001\n",
      "Iteration 3001\n",
      "Iteration 4001\n",
      "Iteration 5001\n",
      "Iteration 6001\n",
      "Iteration 7001\n",
      "Iteration 8001\n",
      "Iteration 9001\n",
      "Iteration 10001\n",
      "Iteration 11001\n",
      "Iteration 12001\n",
      "Iteration 13001\n",
      "Iteration 14001\n",
      "Iteration 15001\n",
      "Iteration 16001\n",
      "Iteration 17001\n",
      "Iteration 18001\n",
      "Iteration 19001\n"
     ]
    }
   ],
   "source": [
    "x_data, y_data = get_traindata_and_targetdata(datasetsize=20000, qubitno=5, backend=backend)"
   ]
  },
  {
   "cell_type": "code",
   "execution_count": 4,
   "id": "77e04531",
   "metadata": {},
   "outputs": [
    {
     "name": "stdout",
     "output_type": "stream",
     "text": [
      "[2 3 4 0 0 2 1 3 0 3 4 1 2 0 3 1 3 2 4 0 3 4 2 0 4 2 0 3 3 0 4 2 3 1 4 2 4\n",
      " 0 2 1 1 0 3 2 1 4 3 0 2 3 4 0 2 0 3 4 3 1 4 0 0 0 0 0]\n",
      "[0 0 0 0 0 1 0 0 0 0 0 1 0 0 0 0 0 0 0 0 0 0 0 0 0 0 0 0 0 1 0 0 0 0 0 0 0\n",
      " 0 1 0 0 0 0 0 0 0 0 0 0 0 0 0 0 1 0 0 0 0 0 0 0 0 0 0 0 0 0 0 0 0 0 0 0 0\n",
      " 0 0 1 0 0 0 0 0 1 1 1 0 1 0 0 0 0 0 0 0 0 0 1 0 1 0 0 1 1 0 0 0 0 0 0 0 1\n",
      " 0 0 0 0 0 0 0 0 0]\n"
     ]
    }
   ],
   "source": [
    "print(x_data[0])\n",
    "print(y_data[0])"
   ]
  },
  {
   "cell_type": "code",
   "execution_count": 5,
   "id": "8bb1be4a",
   "metadata": {},
   "outputs": [],
   "source": [
    "np.savetxt('x_data3.txt', x_data, fmt='%d')\n",
    "np.savetxt('y_data3.txt', y_data, fmt='%d')"
   ]
  },
  {
   "cell_type": "code",
   "execution_count": null,
   "id": "7fb12676",
   "metadata": {},
   "outputs": [],
   "source": []
  }
 ],
 "metadata": {
  "kernelspec": {
   "display_name": "Python 3 (ipykernel)",
   "language": "python",
   "name": "python3"
  },
  "language_info": {
   "codemirror_mode": {
    "name": "ipython",
    "version": 3
   },
   "file_extension": ".py",
   "mimetype": "text/x-python",
   "name": "python",
   "nbconvert_exporter": "python",
   "pygments_lexer": "ipython3",
   "version": "3.9.7"
  }
 },
 "nbformat": 4,
 "nbformat_minor": 5
}
