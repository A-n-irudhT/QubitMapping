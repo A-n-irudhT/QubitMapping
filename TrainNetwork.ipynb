{
 "cells": [
  {
   "cell_type": "code",
   "execution_count": 1,
   "id": "c3692888",
   "metadata": {
    "scrolled": false
   },
   "outputs": [],
   "source": [
    "import numpy as np\n",
    "from qiskit import *\n",
    "from qiskit import IBMQ\n",
    "import tensorflow as tf\n",
    "from sklearn import metrics\n",
    "import matplotlib.pyplot as plt\n",
    "from sklearn import preprocessing\n",
    "import tensorflow.keras.backend as K\n",
    "from sklearn.metrics import accuracy_score\n",
    "from tensorflow.keras import layers, models\n",
    "from qiskit import QuantumCircuit, transpile\n",
    "from qiskit.providers.ibmq import least_busy\n",
    "from tensorflow.keras.models import Sequential\n",
    "from tensorflow.keras.optimizers import SGD, Adam\n",
    "from sklearn.model_selection import train_test_split\n",
    "from tensorflow.keras.layers import Input, Dense, Dropout\n",
    "from sympy.utilities.iterables import multiset_permutations"
   ]
  },
  {
   "cell_type": "code",
   "execution_count": 2,
   "id": "16bb6df3",
   "metadata": {},
   "outputs": [
    {
     "data": {
      "text/plain": [
       "<AccountProvider for IBMQ(hub='ibm-q', group='open', project='main')>"
      ]
     },
     "execution_count": 2,
     "metadata": {},
     "output_type": "execute_result"
    }
   ],
   "source": [
    "IBMQ.save_account('de404b7eba21afacf3e900bcd1cc1244967cecad8f7051683e08ff88d444aee2e6cb029f51036d2eb8efd6f18bd04acf5d9bc0891891ebe4c1bb1ab062f7741b', overwrite=True)\n",
    "IBMQ.load_account()"
   ]
  },
  {
   "cell_type": "code",
   "execution_count": 3,
   "id": "7bb89512",
   "metadata": {},
   "outputs": [],
   "source": [
    "my_provider = IBMQ.get_provider()\n",
    "backend  = my_provider.get_backend('ibmq_lima')"
   ]
  },
  {
   "cell_type": "code",
   "execution_count": 4,
   "id": "d43729c6",
   "metadata": {
    "scrolled": false
   },
   "outputs": [],
   "source": [
    "x_data0 = np.loadtxt('x_data0.txt', dtype=int)\n",
    "x_data1 = np.loadtxt('x_data1.txt', dtype=int)\n",
    "x_data2 = np.loadtxt('x_data2.txt', dtype=int)\n",
    "\n",
    "y_data0 = np.loadtxt('y_data0.txt', dtype=int)\n",
    "y_data1 = np.loadtxt('y_data1.txt', dtype=int)\n",
    "y_data2 = np.loadtxt('y_data2.txt', dtype=int)"
   ]
  },
  {
   "cell_type": "code",
   "execution_count": 5,
   "id": "7f7ecc12",
   "metadata": {},
   "outputs": [
    {
     "name": "stdout",
     "output_type": "stream",
     "text": [
      "(30000, 54)\n",
      "(30000, 54)\n",
      "(30000, 54)\n"
     ]
    }
   ],
   "source": [
    "print(np.shape(x_data0))\n",
    "print(np.shape(x_data1))\n",
    "print(np.shape(x_data2))"
   ]
  },
  {
   "cell_type": "code",
   "execution_count": 6,
   "id": "52b10fff",
   "metadata": {},
   "outputs": [
    {
     "name": "stdout",
     "output_type": "stream",
     "text": [
      "[4 3 1 0 2 4 1 0 2 0 4 3 4 2 0 0 0 0 0 0 0 0 0 0 0 0 0 0 0 0 0 0 0 0 0 0 0\n",
      " 0 0 0 0 0 0 0 0 0 0 0 0 0 0 0 0 0]\n",
      "[3 4 0 1 3 1 0 2 2 0 3 2 0 2 1 4 4 0 0 0 0 0 0 0 0 0 0 0 0 0 0 0 0 0 0 0 0\n",
      " 0 0 0 0 0 0 0 0 0 0 0 0 0 0 0 0 0]\n",
      "[0 1 2 3 0 0 0 0 0 0 0 0 0 0 0 0 0 0 0 0 0 0 0 0 0 0 0 0 0 0 0 0 0 0 0 0 0\n",
      " 0 0 0 0 0 0 0 0 0 0 0 0 0 0 0 0 0]\n"
     ]
    }
   ],
   "source": [
    "print(x_data0[0])\n",
    "print(x_data1[0])\n",
    "print(x_data2[0])"
   ]
  },
  {
   "cell_type": "code",
   "execution_count": 7,
   "id": "e1018d94",
   "metadata": {},
   "outputs": [
    {
     "name": "stdout",
     "output_type": "stream",
     "text": [
      "[54 54 54]\n"
     ]
    }
   ],
   "source": [
    "dim1 = np.shape(x_data0)[1]\n",
    "dim2 = np.shape(x_data1)[1]\n",
    "dim3 = np.shape(x_data2)[1]\n",
    "dimarray = np.array([dim1,dim2,dim3])\n",
    "print(dimarray)\n",
    "max_length = np.amax(dimarray)\n",
    "\n",
    "x_data0 = np.array([np.pad(row, (0, max_length-len(row))) for row in x_data0])\n",
    "x_data1 = np.array([np.pad(row, (0, max_length-len(row))) for row in x_data1])\n",
    "x_data2 = np.array([np.pad(row, (0, max_length-len(row))) for row in x_data2])\n",
    "x_data = np.concatenate((x_data0, x_data1, x_data2))\n",
    "y_data = np.concatenate((y_data0, y_data1, y_data2))\n",
    "\n",
    "x_data = preprocessing.normalize(x_data)\n",
    "x_train, x_test, y_train, y_test = train_test_split(x_data, y_data, test_size = 0.2)\n",
    "size = np.shape(x_data)[1]"
   ]
  },
  {
   "cell_type": "code",
   "execution_count": 46,
   "id": "ed555ec6",
   "metadata": {},
   "outputs": [],
   "source": [
    "layouts = np.array([0, 1, 2, 3, 4])\n",
    "k = []\n",
    "for p in multiset_permutations(layouts):\n",
    "    k.append(p)\n",
    "layoutdict = dict(enumerate(k, 0))\n",
    "\n",
    "encoded = np.empty(np.shape(y_data)[0], dtype=int)\n",
    "for i in range(np.shape(y_data)[0]):\n",
    "    for j in range(120):\n",
    "        if(y_data[i][j] == 1):\n",
    "            encoded[i] = j\n",
    "\n",
    "def find_layout_from_encoded(y_pred):\n",
    "    layouts = np.array([0, 1, 2, 3, 4])\n",
    "    arr = []\n",
    "    for p in multiset_permutations(layouts):\n",
    "        arr.append(p)\n",
    "    layoutdict = dict(enumerate(arr, 0))\n",
    "    \n",
    "    for j in range(120):\n",
    "        if(y_pred[j] == 1):\n",
    "            return layoutdict[j]\n",
    "        \n",
    "def gatecount(qc, transpiled_circuit):\n",
    "    count = transpiled_circuit.count_ops()\n",
    "    items = list(count.items())\n",
    "    pieces = len(items)\n",
    "    new_arrays = np.array_split(items, pieces)\n",
    "    new_arrays\n",
    "    for i in range(pieces):\n",
    "        if(new_arrays[i][0][0] == 'cx'):\n",
    "            cnotcount = int(new_arrays[i][0][1])\n",
    "            \n",
    "    return cnotcount\n",
    "        \n",
    "def getcircuitfromx(x):\n",
    "    x = tf.reshape(x, (32, -1, 2))\n",
    "    dimensions = x.shape\n",
    "    print(dimensions)\n",
    "    xprint = K.print_tensor(x[0])\n",
    "    print(xprint)\n",
    "    \n",
    "    qc = QuantumCircuit(5,5)\n",
    "    qc.cx(x[0,0,0], x[0,0,1])\n",
    "    \n",
    "    cnotarray = []\n",
    "    j = 0\n",
    "    while(j < dimensions[0]):\n",
    "        if(x[j] == x[j+1] == 0):\n",
    "            break\n",
    "        else:\n",
    "            cnotdata = x[j:j+2]\n",
    "            cnotarray.append(cnotdata)\n",
    "            j = j+2\n",
    "            \n",
    "    array = np.array(cnotarray)\n",
    "    cnotdim = np.shape(array)\n",
    "    \n",
    "    qc = QuantumCircuit(5,5)\n",
    "    for i in range(cnotdim[0]):\n",
    "        qc.cx(array[i][0], array[i][1])\n",
    "    \n",
    "    return qc\n",
    "\n",
    "#@tf.function\n",
    "def qiskit_difference(y_true, y_pred, x):\n",
    "    my_provider = IBMQ.get_provider()\n",
    "    backend  = my_provider.get_backend('ibmq_lima')\n",
    "    qc = getcircuitfromx(x)\n",
    "\n",
    "    layout_true = find_layout_from_encoded(y_true)\n",
    "    layout_pred = find_layout_from_encoded(y_pred)\n",
    "\n",
    "    transpiledcircuit_true = transpile(qc, backend, optimization_level=3)\n",
    "    cnotcount_true = gatecount(qc, transpiledcircuit_true)\n",
    "    \n",
    "    transpiledcircuit_pred = transpile(qc, backend, initial_layout=layout_pred)\n",
    "    cnotcount_pred = gatecount(qc, transpiledcircuit_pred)\n",
    "\n",
    "    diff = cnotcount_pred - cnotcount_true\n",
    "\n",
    "    return diff\n",
    "\n",
    "def custom_loss(x, backend):\n",
    "    def loss(y_true, y_pred):\n",
    "        diff = qiskit_difference(y_true=y_true, y_pred=y_pred, x=x, backend=backend)\n",
    "        return diff    \n",
    "    return loss"
   ]
  },
  {
   "cell_type": "code",
   "execution_count": 47,
   "id": "1e548778",
   "metadata": {},
   "outputs": [],
   "source": [
    "def custom_loss(data, y_pred):\n",
    "    y_true = data[:, 0:120]\n",
    "    x = data[:, 120:]\n",
    "    return qiskit_difference(y_true=y_true, y_pred=y_pred, x=x)\n",
    "\n",
    "def baseline_model(size):\n",
    "    i = Input(shape=(size,))\n",
    "    x = Dense(64, kernel_initializer='glorot_uniform', activation='relu')(i)\n",
    "    o = Dense(120, kernel_initializer='normal', activation='softmax')(x)\n",
    "    model = tf.keras.Model(i, o)\n",
    "    model.compile(loss=custom_loss, optimizer=Adam(learning_rate=0.0005))\n",
    "    return model\n",
    "\n",
    "model = baseline_model(size)"
   ]
  },
  {
   "cell_type": "code",
   "execution_count": 48,
   "id": "1fb6852c",
   "metadata": {},
   "outputs": [
    {
     "name": "stdout",
     "output_type": "stream",
     "text": [
      "Epoch 1/90\n",
      "(32, 27, 2)\n",
      "Tensor(\"custom_loss/Identity:0\", shape=(27, 2), dtype=float32)\n"
     ]
    },
    {
     "ename": "StagingError",
     "evalue": "in user code:\n\n    File \"C:\\Users\\aniru\\AppData\\Local\\Programs\\Python\\Python39\\lib\\site-packages\\keras\\engine\\training.py\", line 1051, in train_function  *\n        return step_function(self, iterator)\n    File \"C:\\Users\\aniru\\AppData\\Local\\Temp/ipykernel_11276/2790879254.py\", line 4, in custom_loss  *\n        return qiskit_difference(y_true=y_true, y_pred=y_pred, x=x)\n    File \"C:\\Users\\aniru\\AppData\\Local\\Temp/ipykernel_11276/1902652884.py\", line 69, in qiskit_difference  *\n        qc = getcircuitfromx(x)\n    File \"C:\\Users\\aniru\\AppData\\Local\\Temp/ipykernel_11276/1902652884.py\", line 44, in getcircuitfromx  *\n        qc.cx(x[0,0,0], x[0,0,1])\n    File \"C:\\Users\\aniru\\AppData\\Local\\Programs\\Python\\Python39\\lib\\site-packages\\qiskit\\circuit\\quantumcircuit.py\", line 3706, in cx  *\n        CXGate(label=label, ctrl_state=ctrl_state), [control_qubit, target_qubit], []\n    File \"C:\\Users\\aniru\\AppData\\Local\\Programs\\Python\\Python39\\lib\\site-packages\\qiskit\\circuit\\quantumcircuit.py\", line 1204, in append  *\n        expanded_qargs = [self.qbit_argument_conversion(qarg) for qarg in qargs or []]\n    File \"C:\\Users\\aniru\\AppData\\Local\\Programs\\Python\\Python39\\lib\\site-packages\\qiskit\\circuit\\quantumcircuit.py\", line 1103, in qbit_argument_conversion  *\n        qubit_representation, self.qubits, self._qubit_indices, Qubit\n    File \"C:\\Users\\aniru\\AppData\\Local\\Programs\\Python\\Python39\\lib\\site-packages\\qiskit\\circuit\\quantumcircuit.py\", line 4833, in _bit_argument_conversion  *\n        raise CircuitError(message) from ex\n\n    CircuitError: 'Invalid bit index: \\'Tensor(\"custom_loss/strided_slice_3:0\", shape=(), dtype=float32)\\' of type \\'<class \\'tensorflow.python.framework.ops.Tensor\\'>\\''\n",
     "output_type": "error",
     "traceback": [
      "\u001b[1;31m---------------------------------------------------------------------------\u001b[0m",
      "\u001b[1;31mStagingError\u001b[0m                              Traceback (most recent call last)",
      "\u001b[1;32m~\\AppData\\Local\\Temp/ipykernel_11276/442491344.py\u001b[0m in \u001b[0;36m<module>\u001b[1;34m\u001b[0m\n\u001b[1;32m----> 1\u001b[1;33m \u001b[0mmodel\u001b[0m\u001b[1;33m.\u001b[0m\u001b[0mfit\u001b[0m\u001b[1;33m(\u001b[0m\u001b[0mx_train\u001b[0m\u001b[1;33m,\u001b[0m \u001b[0mnp\u001b[0m\u001b[1;33m.\u001b[0m\u001b[0mappend\u001b[0m\u001b[1;33m(\u001b[0m\u001b[0my_train\u001b[0m\u001b[1;33m,\u001b[0m \u001b[0mx_train\u001b[0m\u001b[1;33m,\u001b[0m \u001b[0maxis\u001b[0m\u001b[1;33m=\u001b[0m\u001b[1;36m1\u001b[0m\u001b[1;33m)\u001b[0m\u001b[1;33m,\u001b[0m \u001b[0mepochs\u001b[0m\u001b[1;33m=\u001b[0m\u001b[1;36m90\u001b[0m\u001b[1;33m,\u001b[0m \u001b[0mshuffle\u001b[0m\u001b[1;33m=\u001b[0m\u001b[1;32mTrue\u001b[0m\u001b[1;33m,\u001b[0m \u001b[0mverbose\u001b[0m\u001b[1;33m=\u001b[0m\u001b[1;36m1\u001b[0m\u001b[1;33m)\u001b[0m\u001b[1;33m\u001b[0m\u001b[1;33m\u001b[0m\u001b[0m\n\u001b[0m",
      "\u001b[1;32m~\\AppData\\Local\\Programs\\Python\\Python39\\lib\\site-packages\\keras\\utils\\traceback_utils.py\u001b[0m in \u001b[0;36merror_handler\u001b[1;34m(*args, **kwargs)\u001b[0m\n\u001b[0;32m     65\u001b[0m     \u001b[1;32mexcept\u001b[0m \u001b[0mException\u001b[0m \u001b[1;32mas\u001b[0m \u001b[0me\u001b[0m\u001b[1;33m:\u001b[0m  \u001b[1;31m# pylint: disable=broad-except\u001b[0m\u001b[1;33m\u001b[0m\u001b[1;33m\u001b[0m\u001b[0m\n\u001b[0;32m     66\u001b[0m       \u001b[0mfiltered_tb\u001b[0m \u001b[1;33m=\u001b[0m \u001b[0m_process_traceback_frames\u001b[0m\u001b[1;33m(\u001b[0m\u001b[0me\u001b[0m\u001b[1;33m.\u001b[0m\u001b[0m__traceback__\u001b[0m\u001b[1;33m)\u001b[0m\u001b[1;33m\u001b[0m\u001b[1;33m\u001b[0m\u001b[0m\n\u001b[1;32m---> 67\u001b[1;33m       \u001b[1;32mraise\u001b[0m \u001b[0me\u001b[0m\u001b[1;33m.\u001b[0m\u001b[0mwith_traceback\u001b[0m\u001b[1;33m(\u001b[0m\u001b[0mfiltered_tb\u001b[0m\u001b[1;33m)\u001b[0m \u001b[1;32mfrom\u001b[0m \u001b[1;32mNone\u001b[0m\u001b[1;33m\u001b[0m\u001b[1;33m\u001b[0m\u001b[0m\n\u001b[0m\u001b[0;32m     68\u001b[0m     \u001b[1;32mfinally\u001b[0m\u001b[1;33m:\u001b[0m\u001b[1;33m\u001b[0m\u001b[1;33m\u001b[0m\u001b[0m\n\u001b[0;32m     69\u001b[0m       \u001b[1;32mdel\u001b[0m \u001b[0mfiltered_tb\u001b[0m\u001b[1;33m\u001b[0m\u001b[1;33m\u001b[0m\u001b[0m\n",
      "\u001b[1;32m~\\AppData\\Local\\Programs\\Python\\Python39\\lib\\site-packages\\tensorflow\\python\\framework\\func_graph.py\u001b[0m in \u001b[0;36mautograph_handler\u001b[1;34m(*args, **kwargs)\u001b[0m\n\u001b[0;32m   1125\u001b[0m           \u001b[1;32mexcept\u001b[0m \u001b[0mException\u001b[0m \u001b[1;32mas\u001b[0m \u001b[0me\u001b[0m\u001b[1;33m:\u001b[0m  \u001b[1;31m# pylint:disable=broad-except\u001b[0m\u001b[1;33m\u001b[0m\u001b[1;33m\u001b[0m\u001b[0m\n\u001b[0;32m   1126\u001b[0m             \u001b[1;32mif\u001b[0m \u001b[0mhasattr\u001b[0m\u001b[1;33m(\u001b[0m\u001b[0me\u001b[0m\u001b[1;33m,\u001b[0m \u001b[1;34m\"ag_error_metadata\"\u001b[0m\u001b[1;33m)\u001b[0m\u001b[1;33m:\u001b[0m\u001b[1;33m\u001b[0m\u001b[1;33m\u001b[0m\u001b[0m\n\u001b[1;32m-> 1127\u001b[1;33m               \u001b[1;32mraise\u001b[0m \u001b[0me\u001b[0m\u001b[1;33m.\u001b[0m\u001b[0mag_error_metadata\u001b[0m\u001b[1;33m.\u001b[0m\u001b[0mto_exception\u001b[0m\u001b[1;33m(\u001b[0m\u001b[0me\u001b[0m\u001b[1;33m)\u001b[0m\u001b[1;33m\u001b[0m\u001b[1;33m\u001b[0m\u001b[0m\n\u001b[0m\u001b[0;32m   1128\u001b[0m             \u001b[1;32melse\u001b[0m\u001b[1;33m:\u001b[0m\u001b[1;33m\u001b[0m\u001b[1;33m\u001b[0m\u001b[0m\n\u001b[0;32m   1129\u001b[0m               \u001b[1;32mraise\u001b[0m\u001b[1;33m\u001b[0m\u001b[1;33m\u001b[0m\u001b[0m\n",
      "\u001b[1;31mStagingError\u001b[0m: in user code:\n\n    File \"C:\\Users\\aniru\\AppData\\Local\\Programs\\Python\\Python39\\lib\\site-packages\\keras\\engine\\training.py\", line 1051, in train_function  *\n        return step_function(self, iterator)\n    File \"C:\\Users\\aniru\\AppData\\Local\\Temp/ipykernel_11276/2790879254.py\", line 4, in custom_loss  *\n        return qiskit_difference(y_true=y_true, y_pred=y_pred, x=x)\n    File \"C:\\Users\\aniru\\AppData\\Local\\Temp/ipykernel_11276/1902652884.py\", line 69, in qiskit_difference  *\n        qc = getcircuitfromx(x)\n    File \"C:\\Users\\aniru\\AppData\\Local\\Temp/ipykernel_11276/1902652884.py\", line 44, in getcircuitfromx  *\n        qc.cx(x[0,0,0], x[0,0,1])\n    File \"C:\\Users\\aniru\\AppData\\Local\\Programs\\Python\\Python39\\lib\\site-packages\\qiskit\\circuit\\quantumcircuit.py\", line 3706, in cx  *\n        CXGate(label=label, ctrl_state=ctrl_state), [control_qubit, target_qubit], []\n    File \"C:\\Users\\aniru\\AppData\\Local\\Programs\\Python\\Python39\\lib\\site-packages\\qiskit\\circuit\\quantumcircuit.py\", line 1204, in append  *\n        expanded_qargs = [self.qbit_argument_conversion(qarg) for qarg in qargs or []]\n    File \"C:\\Users\\aniru\\AppData\\Local\\Programs\\Python\\Python39\\lib\\site-packages\\qiskit\\circuit\\quantumcircuit.py\", line 1103, in qbit_argument_conversion  *\n        qubit_representation, self.qubits, self._qubit_indices, Qubit\n    File \"C:\\Users\\aniru\\AppData\\Local\\Programs\\Python\\Python39\\lib\\site-packages\\qiskit\\circuit\\quantumcircuit.py\", line 4833, in _bit_argument_conversion  *\n        raise CircuitError(message) from ex\n\n    CircuitError: 'Invalid bit index: \\'Tensor(\"custom_loss/strided_slice_3:0\", shape=(), dtype=float32)\\' of type \\'<class \\'tensorflow.python.framework.ops.Tensor\\'>\\''\n"
     ]
    }
   ],
   "source": [
    "model.fit(x_train, np.append(y_train, x_train, axis=1), epochs=90, shuffle=True, verbose=1)"
   ]
  },
  {
   "cell_type": "code",
   "execution_count": null,
   "id": "e34695df",
   "metadata": {},
   "outputs": [],
   "source": [
    "#def get_model():\n",
    "#    i = Input(shape=(size,))\n",
    "#    x = Dense(64, activation='relu')(i)\n",
    "#    o = Dense(120, activation='softmax')(x)\n",
    "#    model = tf.keras.Model(i, o)\n",
    "#    model.compile(loss=custom_loss(i, backend), optimizer=Adam(learning_rate=0.005), run_eagerly=True)\n",
    "#    return model\n",
    "\n",
    "#model = get_model()"
   ]
  },
  {
   "cell_type": "code",
   "execution_count": null,
   "id": "2c131cc1",
   "metadata": {},
   "outputs": [],
   "source": [
    "#history = model.fit(x_train, y_train, epochs=100, verbose=True, validation_data=(x_test, y_test))"
   ]
  },
  {
   "cell_type": "code",
   "execution_count": null,
   "id": "e15cecab",
   "metadata": {
    "scrolled": false
   },
   "outputs": [],
   "source": [
    "model = Sequential()\n",
    "model.add(Dense(64, input_shape=(size,), activation = \"relu\"))\n",
    "model.add(Dense(64, activation = \"relu\"))\n",
    "model.add(Dense(120, activation = \"softmax\"))\n",
    "\n",
    "opt = Adam(learning_rate=0.01)\n",
    "model.compile(optimizer= opt, loss='categorical_crossentropy', metrics=['accuracy'])\n",
    "model.summary()"
   ]
  },
  {
   "cell_type": "code",
   "execution_count": null,
   "id": "01234b25",
   "metadata": {
    "scrolled": true
   },
   "outputs": [],
   "source": [
    "history = model.fit(x_train, y_train, epochs=100, verbose=True, validation_data=(x_test, y_test))"
   ]
  },
  {
   "cell_type": "code",
   "execution_count": null,
   "id": "500a8268",
   "metadata": {
    "scrolled": true
   },
   "outputs": [],
   "source": [
    "plt.plot(history.history['accuracy'])\n",
    "plt.plot(history.history['val_accuracy'])\n",
    "plt.title('Model Accuracy')\n",
    "plt.ylabel('Accuracy')\n",
    "plt.xlabel('Epoch')\n",
    "plt.legend(['Training', 'Validation'], loc='best')\n",
    "plt.show()"
   ]
  },
  {
   "cell_type": "code",
   "execution_count": null,
   "id": "c67d0585",
   "metadata": {},
   "outputs": [],
   "source": [
    "newx_data = []\n",
    "for i in range(np.shape(x_data)[0]):\n",
    "    newx_data.append(np.reshape(x_data[i], (6, 3, -1)))\n",
    "newx_data = np.array(newx_data)\n",
    "\n",
    "x_train, x_test, y_train, y_test = train_test_split(newx_data, y_data, test_size = 0.25)\n",
    "size = np.shape(x_train[0])"
   ]
  },
  {
   "cell_type": "code",
   "execution_count": null,
   "id": "c7227310",
   "metadata": {
    "scrolled": false
   },
   "outputs": [],
   "source": [
    "model = models.Sequential()\n",
    "model.add(layers.Conv2D(32, (2, 2), activation='relu', input_shape=size))\n",
    "model.add(layers.MaxPooling2D((2, 2)))\n",
    "model.add(layers.Conv2D(32, (1, 1), activation='relu'))\n",
    "model.add(layers.Flatten())\n",
    "model.add(layers.Dense(64, activation='relu'))\n",
    "model.add(layers.Dense(120))\n",
    "          \n",
    "model.compile(optimizer='adam', loss=tf.keras.losses.CategoricalCrossentropy(from_logits=True), metrics=['accuracy'])\n",
    "model.summary()"
   ]
  },
  {
   "cell_type": "code",
   "execution_count": null,
   "id": "ae3cdfe0",
   "metadata": {
    "scrolled": true
   },
   "outputs": [],
   "source": [
    "history = model.fit(x_train, y_train, epochs=100, verbose=True, validation_data=(x_test, y_test))"
   ]
  },
  {
   "cell_type": "code",
   "execution_count": null,
   "id": "4ae2f76e",
   "metadata": {
    "scrolled": true
   },
   "outputs": [],
   "source": [
    "plt.plot(history.history['accuracy'])\n",
    "plt.plot(history.history['val_accuracy'])\n",
    "plt.title('Model Accuracy')\n",
    "plt.ylabel('Accuracy')\n",
    "plt.xlabel('Epoch')\n",
    "plt.legend(['Training', 'Validation'], loc='best')\n",
    "plt.show()"
   ]
  },
  {
   "cell_type": "code",
   "execution_count": null,
   "id": "1eb7fea1",
   "metadata": {},
   "outputs": [],
   "source": [
    "#arr = []\n",
    "#for i in range(np.shape(y_data)[0]):\n",
    "#    for j in range(120):\n",
    "#        if(y_data[i][j] == 1):\n",
    "#            arr.append(j)\n",
    "#arr = np.array(arr)"
   ]
  },
  {
   "cell_type": "code",
   "execution_count": null,
   "id": "546c9dae",
   "metadata": {},
   "outputs": [],
   "source": [
    "from keras.layers import LSTM, Dense, Dropout, Masking, Embedding\n",
    "model = Sequential()\n",
    "\n",
    "# Embedding layer\n",
    "model.add(\n",
    "    Embedding(input_dim=num_words,\n",
    "              input_length = training_length,\n",
    "              output_dim=100,\n",
    "              weights=[embedding_matrix],\n",
    "              trainable=False,\n",
    "              mask_zero=True))\n",
    "\n",
    "# Masking layer for pre-trained embeddings\n",
    "model.add(Masking(mask_value=0.0))\n",
    "\n",
    "# Recurrent layer\n",
    "model.add(LSTM(64, return_sequences=False, \n",
    "               dropout=0.1, recurrent_dropout=0.1))\n",
    "\n",
    "# Fully connected layer\n",
    "model.add(Dense(64, activation='relu'))\n",
    "\n",
    "# Dropout for regularization\n",
    "model.add(Dropout(0.5))\n",
    "\n",
    "# Output layer\n",
    "model.add(Dense(num_words, activation='softmax'))\n",
    "\n",
    "# Compile the model\n",
    "model.compile(\n",
    "    optimizer='adam', loss='categorical_crossentropy', metrics=['accuracy'])"
   ]
  }
 ],
 "metadata": {
  "kernelspec": {
   "display_name": "Python 3 (ipykernel)",
   "language": "python",
   "name": "python3"
  },
  "language_info": {
   "codemirror_mode": {
    "name": "ipython",
    "version": 3
   },
   "file_extension": ".py",
   "mimetype": "text/x-python",
   "name": "python",
   "nbconvert_exporter": "python",
   "pygments_lexer": "ipython3",
   "version": "3.9.7"
  }
 },
 "nbformat": 4,
 "nbformat_minor": 5
}
