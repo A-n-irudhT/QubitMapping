{
 "cells": [
  {
   "cell_type": "code",
   "execution_count": 1,
   "id": "c3692888",
   "metadata": {
    "scrolled": false
   },
   "outputs": [],
   "source": [
    "import numpy as np\n",
    "import tensorflow as tf\n",
    "import matplotlib.pyplot as plt\n",
    "from sklearn import preprocessing\n",
    "from tensorflow.keras import layers, models\n",
    "from tensorflow.keras.models import Sequential\n",
    "from tensorflow.keras.optimizers import SGD, Adam\n",
    "from sklearn.model_selection import train_test_split\n",
    "from tensorflow.keras.layers import Input, Dense, Dropout\n",
    "from sympy.utilities.iterables import multiset_permutations"
   ]
  },
  {
   "cell_type": "code",
   "execution_count": 2,
   "id": "d43729c6",
   "metadata": {
    "scrolled": false
   },
   "outputs": [
    {
     "name": "stdout",
     "output_type": "stream",
     "text": [
      "(120000, 40)\n",
      "(120000, 120)\n"
     ]
    }
   ],
   "source": [
    "x_data = np.loadtxt('x_data.txt', dtype=int)\n",
    "y_data = np.loadtxt('y_data.txt', dtype=int)\n",
    "print(np.shape(x_data))\n",
    "print(np.shape(y_data))"
   ]
  },
  {
   "cell_type": "code",
   "execution_count": 3,
   "id": "c81f76ff",
   "metadata": {},
   "outputs": [],
   "source": [
    "np.savetxt('x_data.txt', x_data, fmt='%d')\n",
    "np.savetxt('y_data.txt', y_data, fmt='%d')"
   ]
  },
  {
   "cell_type": "code",
   "execution_count": 4,
   "id": "27892cd7",
   "metadata": {},
   "outputs": [
    {
     "name": "stdout",
     "output_type": "stream",
     "text": [
      "[4 3 2 0 3 4 2 0 3 4 0 1 2 3 1 4 0 4 3 2 4 2 1 3 3 1 4 2 0 0 0 0 0 0 0 0 0\n",
      " 0 0 0]\n"
     ]
    }
   ],
   "source": [
    "print(x_data[7])"
   ]
  },
  {
   "cell_type": "code",
   "execution_count": 5,
   "id": "e1018d94",
   "metadata": {},
   "outputs": [],
   "source": [
    "x_data = x_data/10\n",
    "x_train, x_test, y_train, y_test = train_test_split(x_data, y_data, test_size = 0.25)\n",
    "size = np.shape(x_data)[1]"
   ]
  },
  {
   "cell_type": "code",
   "execution_count": 6,
   "id": "e15cecab",
   "metadata": {
    "scrolled": false
   },
   "outputs": [
    {
     "name": "stdout",
     "output_type": "stream",
     "text": [
      "Model: \"sequential\"\n",
      "_________________________________________________________________\n",
      " Layer (type)                Output Shape              Param #   \n",
      "=================================================================\n",
      " dense (Dense)               (None, 64)                2624      \n",
      "                                                                 \n",
      " dense_1 (Dense)             (None, 512)               33280     \n",
      "                                                                 \n",
      " dense_2 (Dense)             (None, 1024)              525312    \n",
      "                                                                 \n",
      " dropout (Dropout)           (None, 1024)              0         \n",
      "                                                                 \n",
      " dense_3 (Dense)             (None, 512)               524800    \n",
      "                                                                 \n",
      " dense_4 (Dense)             (None, 256)               131328    \n",
      "                                                                 \n",
      " dense_5 (Dense)             (None, 120)               30840     \n",
      "                                                                 \n",
      "=================================================================\n",
      "Total params: 1,248,184\n",
      "Trainable params: 1,248,184\n",
      "Non-trainable params: 0\n",
      "_________________________________________________________________\n"
     ]
    }
   ],
   "source": [
    "model = Sequential()\n",
    "model.add(Dense(64, input_shape=(size,), activation = \"relu\"))\n",
    "model.add(Dense(512, activation = \"relu\"))\n",
    "model.add(Dense(1024, activation = \"relu\"))\n",
    "model.add(Dropout(0.3))\n",
    "model.add(Dense(512, activation = \"relu\"))\n",
    "model.add(Dense(256, activation = \"relu\"))\n",
    "model.add(Dense(120, activation='softmax'))\n",
    "\n",
    "opt = Adam(learning_rate=0.0003)\n",
    "\n",
    "model.compile(optimizer=opt, loss='categorical_crossentropy', metrics=['accuracy'])\n",
    "model.summary()"
   ]
  },
  {
   "cell_type": "code",
   "execution_count": null,
   "id": "01234b25",
   "metadata": {
    "scrolled": true
   },
   "outputs": [
    {
     "name": "stdout",
     "output_type": "stream",
     "text": [
      "Epoch 1/350\n",
      "2813/2813 [==============================] - 32s 11ms/step - loss: 4.6832 - accuracy: 0.0149 - val_loss: 4.5820 - val_accuracy: 0.0190\n",
      "Epoch 2/350\n",
      "2813/2813 [==============================] - 32s 11ms/step - loss: 4.4472 - accuracy: 0.0224 - val_loss: 4.2607 - val_accuracy: 0.0279\n",
      "Epoch 3/350\n",
      "2813/2813 [==============================] - 30s 11ms/step - loss: 4.2040 - accuracy: 0.0278 - val_loss: 4.1551 - val_accuracy: 0.0287\n",
      "Epoch 4/350\n",
      "2813/2813 [==============================] - 18s 6ms/step - loss: 4.1413 - accuracy: 0.0304 - val_loss: 4.1016 - val_accuracy: 0.0343\n",
      "Epoch 5/350\n",
      "2813/2813 [==============================] - 17s 6ms/step - loss: 3.9220 - accuracy: 0.0495 - val_loss: 3.5834 - val_accuracy: 0.0777\n",
      "Epoch 6/350\n",
      "2813/2813 [==============================] - 17s 6ms/step - loss: 3.3844 - accuracy: 0.0930 - val_loss: 3.2423 - val_accuracy: 0.0993\n",
      "Epoch 7/350\n",
      "2813/2813 [==============================] - 19s 7ms/step - loss: 3.1764 - accuracy: 0.1062 - val_loss: 3.1407 - val_accuracy: 0.1081\n",
      "Epoch 8/350\n",
      "2813/2813 [==============================] - 17s 6ms/step - loss: 3.0923 - accuracy: 0.1161 - val_loss: 3.0389 - val_accuracy: 0.1212\n",
      "Epoch 9/350\n",
      "2813/2813 [==============================] - 18s 7ms/step - loss: 3.0280 - accuracy: 0.1232 - val_loss: 2.9850 - val_accuracy: 0.1256\n",
      "Epoch 10/350\n",
      "2813/2813 [==============================] - 18s 6ms/step - loss: 2.9703 - accuracy: 0.1312 - val_loss: 2.9605 - val_accuracy: 0.1277\n",
      "Epoch 11/350\n",
      "2813/2813 [==============================] - 18s 7ms/step - loss: 2.9205 - accuracy: 0.1381 - val_loss: 2.8996 - val_accuracy: 0.1389\n",
      "Epoch 12/350\n",
      "2813/2813 [==============================] - 19s 7ms/step - loss: 2.8752 - accuracy: 0.1454 - val_loss: 2.8579 - val_accuracy: 0.1471\n",
      "Epoch 13/350\n",
      "2813/2813 [==============================] - 20s 7ms/step - loss: 2.8357 - accuracy: 0.1527 - val_loss: 2.8226 - val_accuracy: 0.1540\n",
      "Epoch 14/350\n",
      "2813/2813 [==============================] - 18s 6ms/step - loss: 2.8010 - accuracy: 0.1565 - val_loss: 2.8018 - val_accuracy: 0.1521\n",
      "Epoch 15/350\n",
      "2813/2813 [==============================] - 17s 6ms/step - loss: 2.7681 - accuracy: 0.1641 - val_loss: 2.7672 - val_accuracy: 0.1627\n",
      "Epoch 16/350\n",
      "2813/2813 [==============================] - 19s 7ms/step - loss: 2.7361 - accuracy: 0.1670 - val_loss: 2.7590 - val_accuracy: 0.1589\n",
      "Epoch 17/350\n",
      "2813/2813 [==============================] - 17s 6ms/step - loss: 2.7087 - accuracy: 0.1724 - val_loss: 2.7416 - val_accuracy: 0.1652\n",
      "Epoch 18/350\n",
      "2813/2813 [==============================] - 18s 6ms/step - loss: 2.6857 - accuracy: 0.1750 - val_loss: 2.7109 - val_accuracy: 0.1705\n",
      "Epoch 19/350\n",
      "2813/2813 [==============================] - 17s 6ms/step - loss: 2.6595 - accuracy: 0.1786 - val_loss: 2.6892 - val_accuracy: 0.1687\n",
      "Epoch 20/350\n",
      "2813/2813 [==============================] - 18s 6ms/step - loss: 2.6385 - accuracy: 0.1824 - val_loss: 2.6825 - val_accuracy: 0.1695\n",
      "Epoch 21/350\n",
      "2813/2813 [==============================] - 17s 6ms/step - loss: 2.6187 - accuracy: 0.1845 - val_loss: 2.6702 - val_accuracy: 0.1710\n",
      "Epoch 22/350\n",
      "2813/2813 [==============================] - 17s 6ms/step - loss: 2.6031 - accuracy: 0.1880 - val_loss: 2.6519 - val_accuracy: 0.1749\n",
      "Epoch 23/350\n",
      "2813/2813 [==============================] - 18s 6ms/step - loss: 2.5864 - accuracy: 0.1881 - val_loss: 2.6378 - val_accuracy: 0.1726\n",
      "Epoch 24/350\n",
      "2813/2813 [==============================] - 18s 6ms/step - loss: 2.5706 - accuracy: 0.1919 - val_loss: 2.6438 - val_accuracy: 0.1739\n",
      "Epoch 25/350\n",
      "2813/2813 [==============================] - 17s 6ms/step - loss: 2.5581 - accuracy: 0.1928 - val_loss: 2.6315 - val_accuracy: 0.1753\n",
      "Epoch 26/350\n",
      "2813/2813 [==============================] - 17s 6ms/step - loss: 2.5486 - accuracy: 0.1928 - val_loss: 2.6218 - val_accuracy: 0.1799\n",
      "Epoch 27/350\n",
      "2813/2813 [==============================] - 17s 6ms/step - loss: 2.5370 - accuracy: 0.1952 - val_loss: 2.6190 - val_accuracy: 0.1738\n",
      "Epoch 28/350\n",
      "2813/2813 [==============================] - 17s 6ms/step - loss: 2.5270 - accuracy: 0.1965 - val_loss: 2.6371 - val_accuracy: 0.1743\n",
      "Epoch 29/350\n",
      "2813/2813 [==============================] - 17s 6ms/step - loss: 2.5165 - accuracy: 0.1977 - val_loss: 2.6214 - val_accuracy: 0.1771\n",
      "Epoch 30/350\n",
      "2813/2813 [==============================] - 17s 6ms/step - loss: 2.5076 - accuracy: 0.1999 - val_loss: 2.6158 - val_accuracy: 0.1821\n",
      "Epoch 31/350\n",
      "2813/2813 [==============================] - 18s 6ms/step - loss: 2.4979 - accuracy: 0.2022 - val_loss: 2.6128 - val_accuracy: 0.1762\n",
      "Epoch 32/350\n",
      "2813/2813 [==============================] - 17s 6ms/step - loss: 2.4915 - accuracy: 0.2043 - val_loss: 2.6251 - val_accuracy: 0.1793\n",
      "Epoch 33/350\n",
      "2813/2813 [==============================] - 17s 6ms/step - loss: 2.4803 - accuracy: 0.2042 - val_loss: 2.6110 - val_accuracy: 0.1750\n",
      "Epoch 34/350\n",
      "2813/2813 [==============================] - 17s 6ms/step - loss: 2.4738 - accuracy: 0.2061 - val_loss: 2.6115 - val_accuracy: 0.1769\n",
      "Epoch 35/350\n",
      "2813/2813 [==============================] - 17s 6ms/step - loss: 2.4659 - accuracy: 0.2072 - val_loss: 2.6121 - val_accuracy: 0.1779\n",
      "Epoch 36/350\n",
      "2813/2813 [==============================] - 17s 6ms/step - loss: 2.4567 - accuracy: 0.2087 - val_loss: 2.6104 - val_accuracy: 0.1774\n",
      "Epoch 37/350\n",
      "2813/2813 [==============================] - 17s 6ms/step - loss: 2.4475 - accuracy: 0.2119 - val_loss: 2.6342 - val_accuracy: 0.1800\n",
      "Epoch 38/350\n",
      "2813/2813 [==============================] - 17s 6ms/step - loss: 2.4399 - accuracy: 0.2125 - val_loss: 2.6184 - val_accuracy: 0.1767\n",
      "Epoch 39/350\n",
      "2813/2813 [==============================] - 18s 6ms/step - loss: 2.4315 - accuracy: 0.2128 - val_loss: 2.6273 - val_accuracy: 0.1723\n",
      "Epoch 40/350\n",
      "2813/2813 [==============================] - 17s 6ms/step - loss: 2.4235 - accuracy: 0.2172 - val_loss: 2.6248 - val_accuracy: 0.1784\n",
      "Epoch 41/350\n",
      "2813/2813 [==============================] - 18s 6ms/step - loss: 2.4163 - accuracy: 0.2163 - val_loss: 2.6265 - val_accuracy: 0.1770\n",
      "Epoch 42/350\n",
      "2813/2813 [==============================] - 18s 6ms/step - loss: 2.4062 - accuracy: 0.2188 - val_loss: 2.6356 - val_accuracy: 0.1754\n",
      "Epoch 43/350\n",
      "2813/2813 [==============================] - 18s 7ms/step - loss: 2.3973 - accuracy: 0.2224 - val_loss: 2.6371 - val_accuracy: 0.1774\n",
      "Epoch 44/350\n",
      "2813/2813 [==============================] - 19s 7ms/step - loss: 2.3881 - accuracy: 0.2226 - val_loss: 2.6308 - val_accuracy: 0.1797\n",
      "Epoch 45/350\n",
      "2813/2813 [==============================] - 19s 7ms/step - loss: 2.3793 - accuracy: 0.2255 - val_loss: 2.6347 - val_accuracy: 0.1788\n",
      "Epoch 46/350\n",
      "2813/2813 [==============================] - 19s 7ms/step - loss: 2.3703 - accuracy: 0.2274 - val_loss: 2.6436 - val_accuracy: 0.1776\n",
      "Epoch 47/350\n",
      "2813/2813 [==============================] - 20s 7ms/step - loss: 2.3617 - accuracy: 0.2292 - val_loss: 2.6407 - val_accuracy: 0.1739\n",
      "Epoch 48/350\n",
      "2813/2813 [==============================] - 20s 7ms/step - loss: 2.3499 - accuracy: 0.2325 - val_loss: 2.6557 - val_accuracy: 0.1779\n",
      "Epoch 49/350\n",
      "2813/2813 [==============================] - 19s 7ms/step - loss: 2.3409 - accuracy: 0.2341 - val_loss: 2.6536 - val_accuracy: 0.1736\n",
      "Epoch 50/350\n",
      "2813/2813 [==============================] - 19s 7ms/step - loss: 2.3337 - accuracy: 0.2361 - val_loss: 2.6745 - val_accuracy: 0.1717\n",
      "Epoch 51/350\n",
      "2813/2813 [==============================] - 19s 7ms/step - loss: 2.3234 - accuracy: 0.2389 - val_loss: 2.6633 - val_accuracy: 0.1741\n",
      "Epoch 52/350\n",
      "2813/2813 [==============================] - 19s 7ms/step - loss: 2.3114 - accuracy: 0.2419 - val_loss: 2.6661 - val_accuracy: 0.1740\n",
      "Epoch 53/350\n",
      "2813/2813 [==============================] - 19s 7ms/step - loss: 2.3021 - accuracy: 0.2460 - val_loss: 2.6836 - val_accuracy: 0.1769\n",
      "Epoch 54/350\n",
      "2813/2813 [==============================] - 20s 7ms/step - loss: 2.2894 - accuracy: 0.2477 - val_loss: 2.6779 - val_accuracy: 0.1724\n",
      "Epoch 55/350\n",
      "2813/2813 [==============================] - 20s 7ms/step - loss: 2.2785 - accuracy: 0.2499 - val_loss: 2.6868 - val_accuracy: 0.1736\n",
      "Epoch 56/350\n",
      "2813/2813 [==============================] - 19s 7ms/step - loss: 2.2685 - accuracy: 0.2548 - val_loss: 2.6960 - val_accuracy: 0.1726\n"
     ]
    },
    {
     "name": "stdout",
     "output_type": "stream",
     "text": [
      "Epoch 57/350\n",
      "2813/2813 [==============================] - 19s 7ms/step - loss: 2.2586 - accuracy: 0.2565 - val_loss: 2.7043 - val_accuracy: 0.1713\n",
      "Epoch 58/350\n",
      "2813/2813 [==============================] - 19s 7ms/step - loss: 2.2489 - accuracy: 0.2578 - val_loss: 2.7175 - val_accuracy: 0.1708\n",
      "Epoch 59/350\n",
      "2813/2813 [==============================] - 19s 7ms/step - loss: 2.2324 - accuracy: 0.2633 - val_loss: 2.7018 - val_accuracy: 0.1735\n",
      "Epoch 60/350\n",
      "2813/2813 [==============================] - 19s 7ms/step - loss: 2.2233 - accuracy: 0.2669 - val_loss: 2.7431 - val_accuracy: 0.1683\n",
      "Epoch 61/350\n",
      "2813/2813 [==============================] - 19s 7ms/step - loss: 2.2099 - accuracy: 0.2696 - val_loss: 2.7251 - val_accuracy: 0.1735\n",
      "Epoch 62/350\n",
      "2813/2813 [==============================] - 20s 7ms/step - loss: 2.1983 - accuracy: 0.2725 - val_loss: 2.7425 - val_accuracy: 0.1680\n",
      "Epoch 63/350\n",
      "2813/2813 [==============================] - 19s 7ms/step - loss: 2.1867 - accuracy: 0.2748 - val_loss: 2.7762 - val_accuracy: 0.1683\n",
      "Epoch 64/350\n",
      "2813/2813 [==============================] - 20s 7ms/step - loss: 2.1750 - accuracy: 0.2804 - val_loss: 2.7696 - val_accuracy: 0.1694\n",
      "Epoch 65/350\n",
      "2813/2813 [==============================] - 19s 7ms/step - loss: 2.1660 - accuracy: 0.2826 - val_loss: 2.7595 - val_accuracy: 0.1727\n",
      "Epoch 66/350\n",
      "2813/2813 [==============================] - 19s 7ms/step - loss: 2.1528 - accuracy: 0.2845 - val_loss: 2.7812 - val_accuracy: 0.1669\n",
      "Epoch 67/350\n",
      "2813/2813 [==============================] - 18s 6ms/step - loss: 2.1393 - accuracy: 0.2898 - val_loss: 2.7892 - val_accuracy: 0.1694\n",
      "Epoch 68/350\n",
      "2813/2813 [==============================] - 20s 7ms/step - loss: 2.1249 - accuracy: 0.2936 - val_loss: 2.8131 - val_accuracy: 0.1677\n",
      "Epoch 69/350\n",
      "2813/2813 [==============================] - 17s 6ms/step - loss: 2.1113 - accuracy: 0.2980 - val_loss: 2.8257 - val_accuracy: 0.1669\n",
      "Epoch 70/350\n",
      "2813/2813 [==============================] - 18s 6ms/step - loss: 2.1019 - accuracy: 0.3014 - val_loss: 2.8202 - val_accuracy: 0.1688\n",
      "Epoch 71/350\n",
      "2813/2813 [==============================] - 19s 7ms/step - loss: 2.0872 - accuracy: 0.3012 - val_loss: 2.8433 - val_accuracy: 0.1669\n",
      "Epoch 72/350\n",
      "2813/2813 [==============================] - 20s 7ms/step - loss: 2.0784 - accuracy: 0.3073 - val_loss: 2.8348 - val_accuracy: 0.1681\n",
      "Epoch 73/350\n",
      "2813/2813 [==============================] - 18s 6ms/step - loss: 2.0581 - accuracy: 0.3144 - val_loss: 2.8972 - val_accuracy: 0.1616\n",
      "Epoch 74/350\n",
      "2813/2813 [==============================] - 18s 6ms/step - loss: 2.0492 - accuracy: 0.3157 - val_loss: 2.8517 - val_accuracy: 0.1658\n",
      "Epoch 75/350\n",
      "2813/2813 [==============================] - 19s 7ms/step - loss: 2.0355 - accuracy: 0.3212 - val_loss: 2.9053 - val_accuracy: 0.1640\n",
      "Epoch 76/350\n",
      "2813/2813 [==============================] - 19s 7ms/step - loss: 2.0237 - accuracy: 0.3233 - val_loss: 2.8791 - val_accuracy: 0.1661\n",
      "Epoch 77/350\n",
      "2813/2813 [==============================] - 17s 6ms/step - loss: 2.0104 - accuracy: 0.3262 - val_loss: 2.8830 - val_accuracy: 0.1613\n",
      "Epoch 78/350\n",
      "2813/2813 [==============================] - 18s 6ms/step - loss: 1.9915 - accuracy: 0.3322 - val_loss: 2.9296 - val_accuracy: 0.1620\n",
      "Epoch 79/350\n",
      "2813/2813 [==============================] - 18s 6ms/step - loss: 1.9852 - accuracy: 0.3356 - val_loss: 2.9184 - val_accuracy: 0.1635\n",
      "Epoch 80/350\n",
      "2813/2813 [==============================] - 19s 7ms/step - loss: 1.9699 - accuracy: 0.3411 - val_loss: 2.9332 - val_accuracy: 0.1607\n",
      "Epoch 81/350\n",
      "2813/2813 [==============================] - 18s 6ms/step - loss: 1.9543 - accuracy: 0.3457 - val_loss: 2.9575 - val_accuracy: 0.1582\n",
      "Epoch 82/350\n",
      "2813/2813 [==============================] - 17s 6ms/step - loss: 1.9411 - accuracy: 0.3479 - val_loss: 2.9694 - val_accuracy: 0.1601\n",
      "Epoch 83/350\n",
      "2813/2813 [==============================] - 19s 7ms/step - loss: 1.9279 - accuracy: 0.3551 - val_loss: 2.9884 - val_accuracy: 0.1591\n",
      "Epoch 84/350\n",
      "2813/2813 [==============================] - 19s 7ms/step - loss: 1.9163 - accuracy: 0.3540 - val_loss: 2.9807 - val_accuracy: 0.1608\n",
      "Epoch 85/350\n",
      "2813/2813 [==============================] - 20s 7ms/step - loss: 1.9018 - accuracy: 0.3591 - val_loss: 3.0081 - val_accuracy: 0.1623\n",
      "Epoch 86/350\n",
      "2813/2813 [==============================] - 20s 7ms/step - loss: 1.8888 - accuracy: 0.3661 - val_loss: 3.0262 - val_accuracy: 0.1576\n",
      "Epoch 87/350\n",
      "2813/2813 [==============================] - 20s 7ms/step - loss: 1.8748 - accuracy: 0.3705 - val_loss: 3.0516 - val_accuracy: 0.1610\n",
      "Epoch 88/350\n",
      "2813/2813 [==============================] - 20s 7ms/step - loss: 1.8615 - accuracy: 0.3751 - val_loss: 3.0504 - val_accuracy: 0.1617\n",
      "Epoch 89/350\n",
      "2813/2813 [==============================] - 20s 7ms/step - loss: 1.8480 - accuracy: 0.3789 - val_loss: 3.0576 - val_accuracy: 0.1572\n",
      "Epoch 90/350\n",
      " 554/2813 [====>.........................] - ETA: 13s - loss: 1.7865 - accuracy: 0.3960"
     ]
    }
   ],
   "source": [
    "history = model.fit(x_train, y_train, epochs=350, validation_data=(x_test, y_test), verbose=True)"
   ]
  },
  {
   "cell_type": "code",
   "execution_count": null,
   "id": "500a8268",
   "metadata": {
    "scrolled": true
   },
   "outputs": [],
   "source": [
    "plt.plot(history.history['accuracy'])\n",
    "plt.plot(history.history['val_accuracy'])\n",
    "plt.title('Model Accuracy')\n",
    "plt.ylabel('Accuracy')\n",
    "plt.xlabel('Epoch')\n",
    "plt.legend(['Training', 'Validation'], loc='best')\n",
    "plt.show()"
   ]
  },
  {
   "cell_type": "code",
   "execution_count": null,
   "id": "04f8520b",
   "metadata": {},
   "outputs": [],
   "source": [
    "preds = model.predict(x_test[0:64])"
   ]
  },
  {
   "cell_type": "code",
   "execution_count": null,
   "id": "05177102",
   "metadata": {},
   "outputs": [],
   "source": [
    "print(\"Predicted -\", preds[0], \"\\n\")\n",
    "print(\"Actual -\", y_test[0])"
   ]
  },
  {
   "cell_type": "code",
   "execution_count": null,
   "id": "03ded814",
   "metadata": {},
   "outputs": [],
   "source": [
    "np.amax(preds[0])"
   ]
  }
 ],
 "metadata": {
  "kernelspec": {
   "display_name": "Python 3 (ipykernel)",
   "language": "python",
   "name": "python3"
  },
  "language_info": {
   "codemirror_mode": {
    "name": "ipython",
    "version": 3
   },
   "file_extension": ".py",
   "mimetype": "text/x-python",
   "name": "python",
   "nbconvert_exporter": "python",
   "pygments_lexer": "ipython3",
   "version": "3.9.7"
  }
 },
 "nbformat": 4,
 "nbformat_minor": 5
}
