{
 "cells": [
  {
   "cell_type": "code",
   "execution_count": 1,
   "id": "c3692888",
   "metadata": {
    "scrolled": false
   },
   "outputs": [],
   "source": [
    "import time\n",
    "import random\n",
    "import numpy as np\n",
    "import pandas as pd\n",
    "from sklearn import metrics\n",
    "import matplotlib.pyplot as plt\n",
    "import tensorflow.keras.backend as K\n",
    "from sklearn.metrics import accuracy_score\n",
    "from tensorflow.keras.models import Sequential\n",
    "from tensorflow.keras.layers import Dense, Dropout\n",
    "from sklearn.ensemble import RandomForestClassifier\n",
    "from sklearn.model_selection import train_test_split\n",
    "from tensorflow.keras.optimizers import SGD, Adam, RMSprop"
   ]
  },
  {
   "cell_type": "code",
   "execution_count": 2,
   "id": "d43729c6",
   "metadata": {
    "scrolled": false
   },
   "outputs": [
    {
     "data": {
      "text/plain": [
       "(75000, 160)"
      ]
     },
     "execution_count": 2,
     "metadata": {},
     "output_type": "execute_result"
    }
   ],
   "source": [
    "x_data = np.loadtxt('x_data.txt', dtype=int)\n",
    "y_data = np.loadtxt('y_data.txt', dtype=int)\n",
    "\n",
    "np.shape(x_data)"
   ]
  },
  {
   "cell_type": "code",
   "execution_count": 3,
   "id": "13007dee",
   "metadata": {
    "scrolled": false
   },
   "outputs": [],
   "source": [
    "x_train, x_test, y_train, y_test = train_test_split(x_data, y_data, test_size = 0.1)\n",
    "size = np.shape(x_data)[1]"
   ]
  },
  {
   "cell_type": "code",
   "execution_count": 4,
   "id": "e15cecab",
   "metadata": {
    "scrolled": false
   },
   "outputs": [
    {
     "name": "stdout",
     "output_type": "stream",
     "text": [
      "Model: \"sequential\"\n",
      "_________________________________________________________________\n",
      " Layer (type)                Output Shape              Param #   \n",
      "=================================================================\n",
      " dense (Dense)               (None, 160)               25760     \n",
      "                                                                 \n",
      " dense_1 (Dense)             (None, 64)                10304     \n",
      "                                                                 \n",
      " dense_2 (Dense)             (None, 120)               7800      \n",
      "                                                                 \n",
      "=================================================================\n",
      "Total params: 43,864\n",
      "Trainable params: 43,864\n",
      "Non-trainable params: 0\n",
      "_________________________________________________________________\n"
     ]
    }
   ],
   "source": [
    "model = Sequential()\n",
    "model.add(Dense(160, input_shape=(size,), activation = \"relu\"))\n",
    "model.add(Dense(64, activation = \"relu\"))\n",
    "model.add(Dense(120, activation = \"softmax\"))\n",
    "\n",
    "opt = Adam(learning_rate=0.01)\n",
    "model.compile(optimizer= opt, loss='categorical_crossentropy', metrics=['accuracy'])\n",
    "model.summary()"
   ]
  },
  {
   "cell_type": "code",
   "execution_count": 5,
   "id": "01234b25",
   "metadata": {
    "scrolled": true
   },
   "outputs": [
    {
     "name": "stdout",
     "output_type": "stream",
     "text": [
      "Epoch 1/100\n",
      "1899/1899 [==============================] - 4s 2ms/step - loss: 4.1436 - accuracy: 0.0468 - val_loss: 4.1032 - val_accuracy: 0.0529\n",
      "Epoch 2/100\n",
      "1899/1899 [==============================] - 4s 2ms/step - loss: 4.0390 - accuracy: 0.0602 - val_loss: 3.9550 - val_accuracy: 0.0644\n",
      "Epoch 3/100\n",
      "1899/1899 [==============================] - 4s 2ms/step - loss: 3.9016 - accuracy: 0.0695 - val_loss: 3.8534 - val_accuracy: 0.0698\n",
      "Epoch 4/100\n",
      "1899/1899 [==============================] - 4s 2ms/step - loss: 3.8292 - accuracy: 0.0735 - val_loss: 3.8189 - val_accuracy: 0.0716\n",
      "Epoch 5/100\n",
      "1899/1899 [==============================] - 4s 2ms/step - loss: 3.8160 - accuracy: 0.0724 - val_loss: 3.8124 - val_accuracy: 0.0692\n",
      "Epoch 6/100\n",
      "1899/1899 [==============================] - 4s 2ms/step - loss: 3.8108 - accuracy: 0.0727 - val_loss: 3.8254 - val_accuracy: 0.0699\n",
      "Epoch 7/100\n",
      "1899/1899 [==============================] - 4s 2ms/step - loss: 3.8130 - accuracy: 0.0734 - val_loss: 3.8120 - val_accuracy: 0.0708\n",
      "Epoch 8/100\n",
      "1899/1899 [==============================] - 4s 2ms/step - loss: 3.8327 - accuracy: 0.0708 - val_loss: 3.8374 - val_accuracy: 0.0713\n",
      "Epoch 9/100\n",
      "1899/1899 [==============================] - 4s 2ms/step - loss: 3.8521 - accuracy: 0.0732 - val_loss: 3.8974 - val_accuracy: 0.0673\n",
      "Epoch 10/100\n",
      "1899/1899 [==============================] - 4s 2ms/step - loss: 3.8352 - accuracy: 0.0729 - val_loss: 3.8592 - val_accuracy: 0.0686\n",
      "Epoch 11/100\n",
      "1899/1899 [==============================] - 4s 2ms/step - loss: 3.8232 - accuracy: 0.0722 - val_loss: 3.8825 - val_accuracy: 0.0705\n",
      "Epoch 12/100\n",
      "1899/1899 [==============================] - 4s 2ms/step - loss: 3.8216 - accuracy: 0.0738 - val_loss: 3.8213 - val_accuracy: 0.0702\n",
      "Epoch 13/100\n",
      "1899/1899 [==============================] - 4s 2ms/step - loss: 3.8101 - accuracy: 0.0722 - val_loss: 3.8245 - val_accuracy: 0.0705\n",
      "Epoch 14/100\n",
      "1899/1899 [==============================] - 4s 2ms/step - loss: 3.8166 - accuracy: 0.0719 - val_loss: 3.8162 - val_accuracy: 0.0695\n",
      "Epoch 15/100\n",
      "1899/1899 [==============================] - 5s 2ms/step - loss: 3.8138 - accuracy: 0.0721 - val_loss: 3.8095 - val_accuracy: 0.0714\n",
      "Epoch 16/100\n",
      "1899/1899 [==============================] - 4s 2ms/step - loss: 3.8067 - accuracy: 0.0715 - val_loss: 3.8206 - val_accuracy: 0.0704\n",
      "Epoch 17/100\n",
      "1899/1899 [==============================] - 4s 2ms/step - loss: 3.8139 - accuracy: 0.0710 - val_loss: 3.8175 - val_accuracy: 0.0701\n",
      "Epoch 18/100\n",
      "1899/1899 [==============================] - 4s 2ms/step - loss: 3.7973 - accuracy: 0.0733 - val_loss: 3.8212 - val_accuracy: 0.0680\n",
      "Epoch 19/100\n",
      "1899/1899 [==============================] - 4s 2ms/step - loss: 3.8136 - accuracy: 0.0727 - val_loss: 3.8247 - val_accuracy: 0.0696\n",
      "Epoch 20/100\n",
      "1899/1899 [==============================] - 4s 2ms/step - loss: 3.8140 - accuracy: 0.0717 - val_loss: 3.8450 - val_accuracy: 0.0696\n",
      "Epoch 21/100\n",
      "1899/1899 [==============================] - 4s 2ms/step - loss: 3.8207 - accuracy: 0.0717 - val_loss: 3.8655 - val_accuracy: 0.0670\n",
      "Epoch 22/100\n",
      "1899/1899 [==============================] - 4s 2ms/step - loss: 3.8302 - accuracy: 0.0706 - val_loss: 3.8700 - val_accuracy: 0.0686\n",
      "Epoch 23/100\n",
      "1899/1899 [==============================] - 4s 2ms/step - loss: 3.7989 - accuracy: 0.0722 - val_loss: 3.8123 - val_accuracy: 0.0707\n",
      "Epoch 24/100\n",
      "1899/1899 [==============================] - 4s 2ms/step - loss: 3.8242 - accuracy: 0.0724 - val_loss: 3.8118 - val_accuracy: 0.0681\n",
      "Epoch 25/100\n",
      "1899/1899 [==============================] - 4s 2ms/step - loss: 3.8052 - accuracy: 0.0721 - val_loss: 3.8012 - val_accuracy: 0.0656\n",
      "Epoch 26/100\n",
      "1899/1899 [==============================] - 3s 2ms/step - loss: 3.8030 - accuracy: 0.0724 - val_loss: 3.8219 - val_accuracy: 0.0659\n",
      "Epoch 27/100\n",
      "1899/1899 [==============================] - 4s 2ms/step - loss: 3.8153 - accuracy: 0.0712 - val_loss: 3.8183 - val_accuracy: 0.0720\n",
      "Epoch 28/100\n",
      "1899/1899 [==============================] - 4s 2ms/step - loss: 3.7944 - accuracy: 0.0730 - val_loss: 3.8319 - val_accuracy: 0.0714\n",
      "Epoch 29/100\n",
      "1899/1899 [==============================] - 4s 2ms/step - loss: 3.8608 - accuracy: 0.0701 - val_loss: 3.8877 - val_accuracy: 0.0600\n",
      "Epoch 30/100\n",
      "1899/1899 [==============================] - 4s 2ms/step - loss: 3.8282 - accuracy: 0.0715 - val_loss: 3.8276 - val_accuracy: 0.0702\n",
      "Epoch 31/100\n",
      "1899/1899 [==============================] - 4s 2ms/step - loss: 3.8002 - accuracy: 0.0734 - val_loss: 3.8175 - val_accuracy: 0.0702\n",
      "Epoch 32/100\n",
      "1899/1899 [==============================] - 4s 2ms/step - loss: 3.8441 - accuracy: 0.0719 - val_loss: 3.8376 - val_accuracy: 0.0702\n",
      "Epoch 33/100\n",
      "1899/1899 [==============================] - 4s 2ms/step - loss: 3.8322 - accuracy: 0.0715 - val_loss: 3.8195 - val_accuracy: 0.0713\n",
      "Epoch 34/100\n",
      "1899/1899 [==============================] - 4s 2ms/step - loss: 3.7947 - accuracy: 0.0730 - val_loss: 3.8188 - val_accuracy: 0.0708\n",
      "Epoch 35/100\n",
      "1899/1899 [==============================] - 4s 2ms/step - loss: 3.7986 - accuracy: 0.0722 - val_loss: 3.8167 - val_accuracy: 0.0710\n",
      "Epoch 36/100\n",
      "1899/1899 [==============================] - 4s 2ms/step - loss: 3.7986 - accuracy: 0.0730 - val_loss: 3.8145 - val_accuracy: 0.0671\n",
      "Epoch 37/100\n",
      "1899/1899 [==============================] - 4s 2ms/step - loss: 3.8034 - accuracy: 0.0729 - val_loss: 3.8485 - val_accuracy: 0.0676\n",
      "Epoch 38/100\n",
      "1899/1899 [==============================] - 4s 2ms/step - loss: 3.8000 - accuracy: 0.0733 - val_loss: 3.8241 - val_accuracy: 0.0705\n",
      "Epoch 39/100\n",
      "1899/1899 [==============================] - 3s 2ms/step - loss: 3.8040 - accuracy: 0.0725 - val_loss: 3.8184 - val_accuracy: 0.0647\n",
      "Epoch 40/100\n",
      "1899/1899 [==============================] - 4s 2ms/step - loss: 3.8149 - accuracy: 0.0724 - val_loss: 3.8225 - val_accuracy: 0.0710\n",
      "Epoch 41/100\n",
      "1899/1899 [==============================] - 3s 2ms/step - loss: 3.8132 - accuracy: 0.0710 - val_loss: 3.8281 - val_accuracy: 0.0680\n",
      "Epoch 42/100\n",
      "1899/1899 [==============================] - 4s 2ms/step - loss: 3.8095 - accuracy: 0.0731 - val_loss: 3.8341 - val_accuracy: 0.0708\n",
      "Epoch 43/100\n",
      "1899/1899 [==============================] - 3s 2ms/step - loss: 3.8176 - accuracy: 0.0717 - val_loss: 3.9400 - val_accuracy: 0.0652\n",
      "Epoch 44/100\n",
      "1899/1899 [==============================] - 3s 2ms/step - loss: 3.8241 - accuracy: 0.0716 - val_loss: 3.8270 - val_accuracy: 0.0707\n",
      "Epoch 45/100\n",
      "1899/1899 [==============================] - 4s 2ms/step - loss: 3.8117 - accuracy: 0.0716 - val_loss: 3.8352 - val_accuracy: 0.0652\n",
      "Epoch 46/100\n",
      "1899/1899 [==============================] - 4s 2ms/step - loss: 3.8092 - accuracy: 0.0714 - val_loss: 3.8262 - val_accuracy: 0.0690\n",
      "Epoch 47/100\n",
      "1899/1899 [==============================] - 3s 2ms/step - loss: 3.8318 - accuracy: 0.0710 - val_loss: 3.8524 - val_accuracy: 0.0693\n",
      "Epoch 48/100\n",
      "1899/1899 [==============================] - 4s 2ms/step - loss: 3.8267 - accuracy: 0.0716 - val_loss: 3.8257 - val_accuracy: 0.0705\n",
      "Epoch 49/100\n",
      "1899/1899 [==============================] - 3s 2ms/step - loss: 3.8102 - accuracy: 0.0721 - val_loss: 3.8176 - val_accuracy: 0.0713\n",
      "Epoch 50/100\n",
      "1899/1899 [==============================] - 3s 2ms/step - loss: 3.8363 - accuracy: 0.0721 - val_loss: 3.8389 - val_accuracy: 0.0696\n",
      "Epoch 51/100\n",
      "1899/1899 [==============================] - 4s 2ms/step - loss: 3.8078 - accuracy: 0.0723 - val_loss: 3.8171 - val_accuracy: 0.0705\n",
      "Epoch 52/100\n",
      "1899/1899 [==============================] - 4s 2ms/step - loss: 3.8225 - accuracy: 0.0721 - val_loss: 3.8324 - val_accuracy: 0.0650\n",
      "Epoch 53/100\n",
      "1899/1899 [==============================] - 3s 2ms/step - loss: 3.8219 - accuracy: 0.0708 - val_loss: 3.8547 - val_accuracy: 0.0684\n",
      "Epoch 54/100\n",
      "1899/1899 [==============================] - 4s 2ms/step - loss: 3.8237 - accuracy: 0.0709 - val_loss: 3.8247 - val_accuracy: 0.0710\n",
      "Epoch 55/100\n",
      "1899/1899 [==============================] - 3s 2ms/step - loss: 3.8142 - accuracy: 0.0720 - val_loss: 3.8334 - val_accuracy: 0.0684\n",
      "Epoch 56/100\n",
      "1899/1899 [==============================] - 4s 2ms/step - loss: 3.8678 - accuracy: 0.0705 - val_loss: 3.8285 - val_accuracy: 0.0689\n",
      "Epoch 57/100\n"
     ]
    },
    {
     "name": "stdout",
     "output_type": "stream",
     "text": [
      "1899/1899 [==============================] - 4s 2ms/step - loss: 3.8186 - accuracy: 0.0721 - val_loss: 3.9758 - val_accuracy: 0.0671\n",
      "Epoch 58/100\n",
      "1899/1899 [==============================] - 3s 2ms/step - loss: 3.8533 - accuracy: 0.0720 - val_loss: 3.8716 - val_accuracy: 0.0661\n",
      "Epoch 59/100\n",
      "1899/1899 [==============================] - 4s 2ms/step - loss: 3.8311 - accuracy: 0.0721 - val_loss: 3.8345 - val_accuracy: 0.0690\n",
      "Epoch 60/100\n",
      "1899/1899 [==============================] - 3s 2ms/step - loss: 3.8372 - accuracy: 0.0740 - val_loss: 3.8272 - val_accuracy: 0.0686\n",
      "Epoch 61/100\n",
      "1899/1899 [==============================] - 3s 2ms/step - loss: 3.8747 - accuracy: 0.0712 - val_loss: 4.0020 - val_accuracy: 0.0616\n",
      "Epoch 62/100\n",
      "1899/1899 [==============================] - 3s 2ms/step - loss: 3.8435 - accuracy: 0.0727 - val_loss: 3.8610 - val_accuracy: 0.0717\n",
      "Epoch 63/100\n",
      "1899/1899 [==============================] - 3s 2ms/step - loss: 3.9023 - accuracy: 0.0702 - val_loss: 3.9357 - val_accuracy: 0.0658\n",
      "Epoch 64/100\n",
      "1899/1899 [==============================] - 3s 2ms/step - loss: 3.8710 - accuracy: 0.0706 - val_loss: 3.8364 - val_accuracy: 0.0705\n",
      "Epoch 65/100\n",
      "1899/1899 [==============================] - 3s 2ms/step - loss: 3.8718 - accuracy: 0.0699 - val_loss: 3.9122 - val_accuracy: 0.0698\n",
      "Epoch 66/100\n",
      "1899/1899 [==============================] - 3s 2ms/step - loss: 3.9012 - accuracy: 0.0699 - val_loss: 3.8767 - val_accuracy: 0.0696\n",
      "Epoch 67/100\n",
      "1899/1899 [==============================] - 3s 2ms/step - loss: 3.8266 - accuracy: 0.0719 - val_loss: 3.8304 - val_accuracy: 0.0713\n",
      "Epoch 68/100\n",
      "1899/1899 [==============================] - 4s 2ms/step - loss: 3.8502 - accuracy: 0.0716 - val_loss: 3.8494 - val_accuracy: 0.0698\n",
      "Epoch 69/100\n",
      "1899/1899 [==============================] - 4s 2ms/step - loss: 3.8251 - accuracy: 0.0722 - val_loss: 3.8339 - val_accuracy: 0.0693\n",
      "Epoch 70/100\n",
      "1899/1899 [==============================] - 4s 2ms/step - loss: 3.8320 - accuracy: 0.0716 - val_loss: 3.8329 - val_accuracy: 0.0698\n",
      "Epoch 71/100\n",
      "1899/1899 [==============================] - 4s 2ms/step - loss: 3.8236 - accuracy: 0.0718 - val_loss: 3.8216 - val_accuracy: 0.0705\n",
      "Epoch 72/100\n",
      "1899/1899 [==============================] - 3s 2ms/step - loss: 3.8286 - accuracy: 0.0715 - val_loss: 3.8383 - val_accuracy: 0.0710\n",
      "Epoch 73/100\n",
      "1899/1899 [==============================] - 4s 2ms/step - loss: 3.8849 - accuracy: 0.0706 - val_loss: 3.8392 - val_accuracy: 0.0692\n",
      "Epoch 74/100\n",
      "1899/1899 [==============================] - 4s 2ms/step - loss: 3.8152 - accuracy: 0.0718 - val_loss: 3.8290 - val_accuracy: 0.0713\n",
      "Epoch 75/100\n",
      "1899/1899 [==============================] - 3s 2ms/step - loss: 3.8117 - accuracy: 0.0726 - val_loss: 3.8268 - val_accuracy: 0.0693\n",
      "Epoch 76/100\n",
      "1899/1899 [==============================] - 3s 2ms/step - loss: 3.8087 - accuracy: 0.0735 - val_loss: 3.8242 - val_accuracy: 0.0710\n",
      "Epoch 77/100\n",
      "1899/1899 [==============================] - 3s 2ms/step - loss: 3.8149 - accuracy: 0.0716 - val_loss: 3.8308 - val_accuracy: 0.0662\n",
      "Epoch 78/100\n",
      "1899/1899 [==============================] - 3s 2ms/step - loss: 3.8230 - accuracy: 0.0717 - val_loss: 3.8288 - val_accuracy: 0.0646\n",
      "Epoch 79/100\n",
      "1899/1899 [==============================] - 3s 2ms/step - loss: 3.8228 - accuracy: 0.0724 - val_loss: 3.8307 - val_accuracy: 0.0710\n",
      "Epoch 80/100\n",
      "1899/1899 [==============================] - 3s 2ms/step - loss: 3.8060 - accuracy: 0.0726 - val_loss: 3.8237 - val_accuracy: 0.0699\n",
      "Epoch 81/100\n",
      "1899/1899 [==============================] - 3s 2ms/step - loss: 3.8772 - accuracy: 0.0699 - val_loss: 4.0223 - val_accuracy: 0.0636\n",
      "Epoch 82/100\n",
      "1899/1899 [==============================] - 3s 2ms/step - loss: 3.8324 - accuracy: 0.0727 - val_loss: 3.8319 - val_accuracy: 0.0671\n",
      "Epoch 83/100\n",
      "1899/1899 [==============================] - 3s 2ms/step - loss: 3.8324 - accuracy: 0.0716 - val_loss: 3.8634 - val_accuracy: 0.0699\n",
      "Epoch 84/100\n",
      "1899/1899 [==============================] - 3s 2ms/step - loss: 3.8487 - accuracy: 0.0710 - val_loss: 3.8358 - val_accuracy: 0.0667\n",
      "Epoch 85/100\n",
      "1899/1899 [==============================] - 3s 2ms/step - loss: 3.8648 - accuracy: 0.0700 - val_loss: 3.8374 - val_accuracy: 0.0708\n",
      "Epoch 86/100\n",
      "1899/1899 [==============================] - 3s 2ms/step - loss: 3.8375 - accuracy: 0.0717 - val_loss: 3.9121 - val_accuracy: 0.0665\n",
      "Epoch 87/100\n",
      "1899/1899 [==============================] - 4s 2ms/step - loss: 3.8288 - accuracy: 0.0715 - val_loss: 3.9062 - val_accuracy: 0.0680\n",
      "Epoch 88/100\n",
      "1899/1899 [==============================] - 4s 2ms/step - loss: 3.8263 - accuracy: 0.0723 - val_loss: 3.9309 - val_accuracy: 0.0664\n",
      "Epoch 89/100\n",
      "1899/1899 [==============================] - 4s 2ms/step - loss: 3.8591 - accuracy: 0.0714 - val_loss: 3.8316 - val_accuracy: 0.0644\n",
      "Epoch 90/100\n",
      "1899/1899 [==============================] - 4s 2ms/step - loss: 3.8253 - accuracy: 0.0715 - val_loss: 3.8210 - val_accuracy: 0.0707\n",
      "Epoch 91/100\n",
      "1899/1899 [==============================] - 4s 2ms/step - loss: 3.9028 - accuracy: 0.0689 - val_loss: 3.9792 - val_accuracy: 0.0610\n",
      "Epoch 92/100\n",
      "1899/1899 [==============================] - 4s 2ms/step - loss: 3.8647 - accuracy: 0.0712 - val_loss: 4.0652 - val_accuracy: 0.0615\n",
      "Epoch 93/100\n",
      "1899/1899 [==============================] - 4s 2ms/step - loss: 3.8307 - accuracy: 0.0712 - val_loss: 3.9361 - val_accuracy: 0.0641\n",
      "Epoch 94/100\n",
      "1899/1899 [==============================] - 4s 2ms/step - loss: 3.8313 - accuracy: 0.0716 - val_loss: 3.8257 - val_accuracy: 0.0696\n",
      "Epoch 95/100\n",
      "1899/1899 [==============================] - 4s 2ms/step - loss: 3.8273 - accuracy: 0.0713 - val_loss: 3.8200 - val_accuracy: 0.0698\n",
      "Epoch 96/100\n",
      "1899/1899 [==============================] - 4s 2ms/step - loss: 3.8285 - accuracy: 0.0724 - val_loss: 3.8361 - val_accuracy: 0.0662\n",
      "Epoch 97/100\n",
      "1899/1899 [==============================] - 3s 2ms/step - loss: 3.8132 - accuracy: 0.0714 - val_loss: 3.8373 - val_accuracy: 0.0684\n",
      "Epoch 98/100\n",
      "1899/1899 [==============================] - 4s 2ms/step - loss: 3.8223 - accuracy: 0.0705 - val_loss: 3.8253 - val_accuracy: 0.0686\n",
      "Epoch 99/100\n",
      "1899/1899 [==============================] - 4s 2ms/step - loss: 3.8389 - accuracy: 0.0718 - val_loss: 3.8555 - val_accuracy: 0.0652\n",
      "Epoch 100/100\n",
      "1899/1899 [==============================] - 3s 2ms/step - loss: 3.8210 - accuracy: 0.0718 - val_loss: 3.8319 - val_accuracy: 0.0696\n"
     ]
    }
   ],
   "source": [
    "history = model.fit(x_train, y_train, epochs=100, verbose=True, validation_split=0.1)"
   ]
  },
  {
   "cell_type": "code",
   "execution_count": 6,
   "id": "500a8268",
   "metadata": {
    "scrolled": true
   },
   "outputs": [
    {
     "data": {
      "image/png": "[encoded data removed]",
      "text/plain": [
       "<Figure size 432x288 with 1 Axes>"
      ]
     },
     "metadata": {
      "needs_background": "light"
     },
     "output_type": "display_data"
    }
   ],
   "source": [
    "plt.plot(history.history['accuracy'])\n",
    "plt.plot(history.history['val_accuracy'])\n",
    "plt.title('Model Accuracy')\n",
    "plt.ylabel('Accuracy')\n",
    "plt.xlabel('Epoch')\n",
    "plt.legend(['Training', 'Validation'], loc='best')\n",
    "plt.show()"
   ]
  },
  {
   "cell_type": "code",
   "execution_count": 14,
   "id": "6551f588",
   "metadata": {
    "scrolled": false
   },
   "outputs": [
    {
     "data": {
      "text/plain": [
       "array([117,  83,  14, ...,  45,  20,  36])"
      ]
     },
     "execution_count": 14,
     "metadata": {},
     "output_type": "execute_result"
    }
   ],
   "source": [
    "arr = np.empty(np.shape(y_data)[0], dtype=int)\n",
    "for i in range(np.shape(y_data)[0]):\n",
    "    for j in range(120):\n",
    "        if(y_data[i][j] == 1):\n",
    "            arr[i] = j"
   ]
  },
  {
   "cell_type": "code",
   "execution_count": null,
   "id": "0ebdca89",
   "metadata": {},
   "outputs": [],
   "source": []
  }
 ],
 "metadata": {
  "kernelspec": {
   "display_name": "Python 3 (ipykernel)",
   "language": "python",
   "name": "python3"
  },
  "language_info": {
   "codemirror_mode": {
    "name": "ipython",
    "version": 3
   },
   "file_extension": ".py",
   "mimetype": "text/x-python",
   "name": "python",
   "nbconvert_exporter": "python",
   "pygments_lexer": "ipython3",
   "version": "3.9.7"
  }
 },
 "nbformat": 4,
 "nbformat_minor": 5
}
