{
 "cells": [
  {
   "cell_type": "code",
   "execution_count": null,
   "id": "c3692888",
   "metadata": {
    "scrolled": false
   },
   "outputs": [],
   "source": [
    "import numpy as np\n",
    "import tensorflow as tf\n",
    "import matplotlib.pyplot as plt\n",
    "from sklearn import preprocessing\n",
    "from tensorflow.keras import layers, models\n",
    "from tensorflow.keras.models import Sequential\n",
    "from tensorflow.keras.optimizers import SGD, Adam\n",
    "from sklearn.model_selection import train_test_split\n",
    "from tensorflow.keras.layers import Input, Dense, Dropout\n",
    "from sympy.utilities.iterables import multiset_permutations"
   ]
  },
  {
   "cell_type": "code",
   "execution_count": null,
   "id": "d43729c6",
   "metadata": {
    "scrolled": false
   },
   "outputs": [],
   "source": [
    "x_data0 = np.loadtxt('x_data0.txt', dtype=int)\n",
    "x_data1 = np.loadtxt('x_data1.txt', dtype=int)\n",
    "x_data2 = np.loadtxt('x_data2.txt', dtype=int)\n",
    "x_data3 = np.loadtxt('x_data3.txt', dtype=int)\n",
    "\n",
    "y_data0 = np.loadtxt('y_data0.txt', dtype=int)\n",
    "y_data1 = np.loadtxt('y_data1.txt', dtype=int)\n",
    "y_data2 = np.loadtxt('y_data2.txt', dtype=int)\n",
    "y_data3 = np.loadtxt('y_data3.txt', dtype=int)"
   ]
  },
  {
   "cell_type": "code",
   "execution_count": null,
   "id": "e1018d94",
   "metadata": {},
   "outputs": [],
   "source": [
    "x_data = np.concatenate((x_data0, x_data1, x_data2, x_data3))\n",
    "y_data = np.concatenate((y_data0, y_data1, y_data2, y_data3))\n",
    "\n",
    "x_data = preprocessing.normalize(x_data)\n",
    "x_train, x_test, y_train, y_test = train_test_split(x_data, y_data, test_size = 0.2)\n",
    "size = np.shape(x_data)[1]"
   ]
  },
  {
   "cell_type": "code",
   "execution_count": null,
   "id": "cfac4645",
   "metadata": {},
   "outputs": [],
   "source": [
    "def my_loss_fn(y_true, y_pred):\n",
    "    difference = tf.math.subtract(y_true - y_pred)\n",
    "    \n",
    "    return tf.reduce_sum(difference, axis=-1)"
   ]
  },
  {
   "cell_type": "code",
   "execution_count": null,
   "id": "e15cecab",
   "metadata": {
    "scrolled": false
   },
   "outputs": [],
   "source": [
    "model = Sequential()\n",
    "model.add(Dense(64, input_shape=(size,), activation = \"sigmoid\"))\n",
    "model.add(Dense(128, activation = \"sigmoid\"))\n",
    "model.add(Dense(120))\n",
    "\n",
    "model.compile(optimizer='adam', loss=my_loss_fn)\n",
    "model.summary()"
   ]
  },
  {
   "cell_type": "code",
   "execution_count": null,
   "id": "01234b25",
   "metadata": {
    "scrolled": true
   },
   "outputs": [],
   "source": [
    "history = model.fit(x_train, y_train, epochs=100, verbose=True)"
   ]
  },
  {
   "cell_type": "code",
   "execution_count": null,
   "id": "500a8268",
   "metadata": {
    "scrolled": true
   },
   "outputs": [],
   "source": [
    "plt.plot(history.history['accuracy'])\n",
    "plt.plot(history.history['val_accuracy'])\n",
    "plt.title('Model Accuracy')\n",
    "plt.ylabel('Accuracy')\n",
    "plt.xlabel('Epoch')\n",
    "plt.legend(['Training', 'Validation'], loc='best')\n",
    "plt.show()"
   ]
  },
  {
   "cell_type": "code",
   "execution_count": null,
   "id": "c67d0585",
   "metadata": {},
   "outputs": [],
   "source": [
    "#newx_data = []\n",
    "#for i in range(np.shape(x_data)[0]):\n",
    "#    newx_data.append(np.reshape(x_data[i], (6, 3, -1)))\n",
    "#newx_data = np.array(newx_data)\n",
    "\n",
    "#x_train, x_test, y_train, y_test = train_test_split(newx_data, y_data, test_size = 0.25)\n",
    "#size = np.shape(x_train[0])"
   ]
  },
  {
   "cell_type": "code",
   "execution_count": null,
   "id": "c7227310",
   "metadata": {
    "scrolled": false
   },
   "outputs": [],
   "source": [
    "#model = models.Sequential()\n",
    "#model.add(layers.Conv2D(32, (2, 2), activation='relu', input_shape=size))\n",
    "#model.add(layers.MaxPooling2D((2, 2)))\n",
    "#model.add(layers.Conv2D(32, (1, 1), activation='relu'))\n",
    "#model.add(layers.Flatten())\n",
    "#model.add(layers.Dense(64, activation='relu'))\n",
    "#model.add(layers.Dense(120))\n",
    "          \n",
    "#model.compile(optimizer='adam', loss=tf.keras.losses.CategoricalCrossentropy(from_logits=True), metrics=['accuracy'])\n",
    "#model.summary()"
   ]
  },
  {
   "cell_type": "code",
   "execution_count": null,
   "id": "ae3cdfe0",
   "metadata": {
    "scrolled": true
   },
   "outputs": [],
   "source": [
    "#history = model.fit(x_train, y_train, epochs=100, verbose=True, validation_data=(x_test, y_test))"
   ]
  },
  {
   "cell_type": "code",
   "execution_count": null,
   "id": "4ae2f76e",
   "metadata": {
    "scrolled": true
   },
   "outputs": [],
   "source": [
    "#plt.plot(history.history['accuracy'])\n",
    "#plt.plot(history.history['val_accuracy'])\n",
    "#plt.title('Model Accuracy')\n",
    "#plt.ylabel('Accuracy')\n",
    "#plt.xlabel('Epoch')\n",
    "#plt.legend(['Training', 'Validation'], loc='best')\n",
    "#plt.show()"
   ]
  }
 ],
 "metadata": {
  "kernelspec": {
   "display_name": "Python 3 (ipykernel)",
   "language": "python",
   "name": "python3"
  },
  "language_info": {
   "codemirror_mode": {
    "name": "ipython",
    "version": 3
   },
   "file_extension": ".py",
   "mimetype": "text/x-python",
   "name": "python",
   "nbconvert_exporter": "python",
   "pygments_lexer": "ipython3",
   "version": "3.9.7"
  }
 },
 "nbformat": 4,
 "nbformat_minor": 5
}
