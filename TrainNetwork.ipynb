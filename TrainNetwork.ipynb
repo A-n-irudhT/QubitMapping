{
 "cells": [
  {
   "cell_type": "code",
   "execution_count": 1,
   "id": "c3692888",
   "metadata": {
    "scrolled": true
   },
   "outputs": [],
   "source": [
    "import time\n",
    "import random\n",
    "import numpy as np\n",
    "import pandas as pd\n",
    "from sklearn import metrics\n",
    "import matplotlib.pyplot as plt\n",
    "import tensorflow.keras.backend as K\n",
    "from sklearn.metrics import accuracy_score\n",
    "from tensorflow.keras.models import Sequential\n",
    "from tensorflow.keras.layers import Dense, Dropout\n",
    "from sklearn.ensemble import RandomForestClassifier\n",
    "from sklearn.model_selection import train_test_split\n",
    "from tensorflow.keras.optimizers import SGD, Adam, RMSprop"
   ]
  },
  {
   "cell_type": "code",
   "execution_count": 2,
   "id": "d43729c6",
   "metadata": {
    "scrolled": true
   },
   "outputs": [],
   "source": [
    "x_data = np.loadtxt('x_data.txt', dtype=int)\n",
    "y_data = np.loadtxt('y_data.txt', dtype=int)"
   ]
  },
  {
   "cell_type": "code",
   "execution_count": 3,
   "id": "13007dee",
   "metadata": {
    "scrolled": true
   },
   "outputs": [],
   "source": [
    "x_train, x_test, y_train, y_test = train_test_split(x_data, y_data, test_size = 0.2)\n",
    "size = 16"
   ]
  },
  {
   "cell_type": "code",
   "execution_count": 4,
   "id": "e15cecab",
   "metadata": {
    "scrolled": true
   },
   "outputs": [
    {
     "name": "stdout",
     "output_type": "stream",
     "text": [
      "Model: \"sequential\"\n",
      "_________________________________________________________________\n",
      "Layer (type)                 Output Shape              Param #   \n",
      "=================================================================\n",
      "dense (Dense)                (None, 16)                272       \n",
      "_________________________________________________________________\n",
      "dense_1 (Dense)              (None, 32)                544       \n",
      "_________________________________________________________________\n",
      "dense_2 (Dense)              (None, 120)               3960      \n",
      "=================================================================\n",
      "Total params: 4,776\n",
      "Trainable params: 4,776\n",
      "Non-trainable params: 0\n",
      "_________________________________________________________________\n"
     ]
    }
   ],
   "source": [
    "model = Sequential()\n",
    "model.add(Dense(16, input_shape=(size,), activation = \"relu\"))\n",
    "model.add(Dense(32, activation = \"relu\"))\n",
    "model.add(Dense(120, activation = \"softmax\"))\n",
    "\n",
    "opt = Adam(learning_rate=0.01)\n",
    "model.compile(optimizer= opt, loss='categorical_crossentropy', metrics=['accuracy'])\n",
    "model.summary()"
   ]
  },
  {
   "cell_type": "code",
   "execution_count": 5,
   "id": "01234b25",
   "metadata": {
    "scrolled": false
   },
   "outputs": [
    {
     "name": "stdout",
     "output_type": "stream",
     "text": [
      "Epoch 1/50\n",
      "1688/1688 [==============================] - 2s 1ms/step - loss: 2.8026 - accuracy: 0.3634 - val_loss: 2.5953 - val_accuracy: 0.3918\n",
      "Epoch 2/50\n",
      "1688/1688 [==============================] - 2s 1ms/step - loss: 2.5761 - accuracy: 0.3878 - val_loss: 2.5527 - val_accuracy: 0.3915\n",
      "Epoch 3/50\n",
      "1688/1688 [==============================] - 2s 1ms/step - loss: 2.5473 - accuracy: 0.3886 - val_loss: 2.5073 - val_accuracy: 0.3920\n",
      "Epoch 4/50\n",
      "1688/1688 [==============================] - 2s 1ms/step - loss: 2.5271 - accuracy: 0.3889 - val_loss: 2.5022 - val_accuracy: 0.3940\n",
      "Epoch 5/50\n",
      "1688/1688 [==============================] - 2s 1ms/step - loss: 2.5193 - accuracy: 0.3882 - val_loss: 2.5128 - val_accuracy: 0.3905\n",
      "Epoch 6/50\n",
      "1688/1688 [==============================] - 2s 1ms/step - loss: 2.5149 - accuracy: 0.3881 - val_loss: 2.5010 - val_accuracy: 0.3920\n",
      "Epoch 7/50\n",
      "1688/1688 [==============================] - 2s 1ms/step - loss: 2.5155 - accuracy: 0.3879 - val_loss: 2.5023 - val_accuracy: 0.3915\n",
      "Epoch 8/50\n",
      "1688/1688 [==============================] - 2s 1ms/step - loss: 2.5237 - accuracy: 0.3885 - val_loss: 2.5114 - val_accuracy: 0.3920\n",
      "Epoch 9/50\n",
      "1688/1688 [==============================] - 2s 1ms/step - loss: 2.5080 - accuracy: 0.3888 - val_loss: 2.4990 - val_accuracy: 0.3897\n",
      "Epoch 10/50\n",
      "1688/1688 [==============================] - 2s 1ms/step - loss: 2.5083 - accuracy: 0.3875 - val_loss: 2.5045 - val_accuracy: 0.3907\n",
      "Epoch 11/50\n",
      "1688/1688 [==============================] - 2s 1ms/step - loss: 2.5085 - accuracy: 0.3887 - val_loss: 2.5363 - val_accuracy: 0.3907\n",
      "Epoch 12/50\n",
      "1688/1688 [==============================] - 2s 1ms/step - loss: 2.5039 - accuracy: 0.3882 - val_loss: 2.5081 - val_accuracy: 0.3923\n",
      "Epoch 13/50\n",
      "1688/1688 [==============================] - 2s 1ms/step - loss: 2.5067 - accuracy: 0.3884 - val_loss: 2.5145 - val_accuracy: 0.3925\n",
      "Epoch 14/50\n",
      "1688/1688 [==============================] - 2s 1ms/step - loss: 2.4998 - accuracy: 0.3894 - val_loss: 2.4880 - val_accuracy: 0.3927\n",
      "Epoch 15/50\n",
      "1688/1688 [==============================] - 2s 1ms/step - loss: 2.5082 - accuracy: 0.3879 - val_loss: 2.5070 - val_accuracy: 0.3933\n",
      "Epoch 16/50\n",
      "1688/1688 [==============================] - 2s 1ms/step - loss: 2.4994 - accuracy: 0.3884 - val_loss: 2.4827 - val_accuracy: 0.3948\n",
      "Epoch 17/50\n",
      "1688/1688 [==============================] - 2s 1ms/step - loss: 2.4983 - accuracy: 0.3900 - val_loss: 2.4731 - val_accuracy: 0.3920\n",
      "Epoch 18/50\n",
      "1688/1688 [==============================] - 2s 1ms/step - loss: 2.5103 - accuracy: 0.3879 - val_loss: 2.4903 - val_accuracy: 0.3932\n",
      "Epoch 19/50\n",
      "1688/1688 [==============================] - 2s 1ms/step - loss: 2.5082 - accuracy: 0.3878 - val_loss: 2.4970 - val_accuracy: 0.3888\n",
      "Epoch 20/50\n",
      "1688/1688 [==============================] - 2s 1ms/step - loss: 2.5110 - accuracy: 0.3861 - val_loss: 2.5144 - val_accuracy: 0.3870\n",
      "Epoch 21/50\n",
      "1688/1688 [==============================] - 2s 1ms/step - loss: 2.5115 - accuracy: 0.3860 - val_loss: 2.5116 - val_accuracy: 0.3887\n",
      "Epoch 22/50\n",
      "1688/1688 [==============================] - 2s 1ms/step - loss: 2.5112 - accuracy: 0.3862 - val_loss: 2.5012 - val_accuracy: 0.3877\n",
      "Epoch 23/50\n",
      "1688/1688 [==============================] - 2s 1ms/step - loss: 2.5081 - accuracy: 0.3879 - val_loss: 2.4993 - val_accuracy: 0.3908\n",
      "Epoch 24/50\n",
      "1688/1688 [==============================] - 2s 1ms/step - loss: 2.5135 - accuracy: 0.3871 - val_loss: 2.4964 - val_accuracy: 0.3873\n",
      "Epoch 25/50\n",
      "1688/1688 [==============================] - 2s 1ms/step - loss: 2.5263 - accuracy: 0.3873 - val_loss: 2.4969 - val_accuracy: 0.3928\n",
      "Epoch 26/50\n",
      "1688/1688 [==============================] - 2s 1ms/step - loss: 2.5084 - accuracy: 0.3890 - val_loss: 2.5092 - val_accuracy: 0.3918\n",
      "Epoch 27/50\n",
      "1688/1688 [==============================] - 2s 1ms/step - loss: 2.5078 - accuracy: 0.3888 - val_loss: 2.5409 - val_accuracy: 0.3923\n",
      "Epoch 28/50\n",
      "1688/1688 [==============================] - 2s 1ms/step - loss: 2.5163 - accuracy: 0.3891 - val_loss: 2.4957 - val_accuracy: 0.3955\n",
      "Epoch 29/50\n",
      "1688/1688 [==============================] - 2s 1ms/step - loss: 2.5168 - accuracy: 0.3867 - val_loss: 2.4841 - val_accuracy: 0.3920\n",
      "Epoch 30/50\n",
      "1688/1688 [==============================] - 2s 1ms/step - loss: 2.5254 - accuracy: 0.3863 - val_loss: 2.4922 - val_accuracy: 0.3905\n",
      "Epoch 31/50\n",
      "1688/1688 [==============================] - 2s 1ms/step - loss: 2.5057 - accuracy: 0.3855 - val_loss: 2.5434 - val_accuracy: 0.3882\n",
      "Epoch 32/50\n",
      "1688/1688 [==============================] - 2s 1ms/step - loss: 2.5189 - accuracy: 0.3865 - val_loss: 2.4878 - val_accuracy: 0.3913\n",
      "Epoch 33/50\n",
      "1688/1688 [==============================] - 2s 1ms/step - loss: 2.5184 - accuracy: 0.3868 - val_loss: 2.4893 - val_accuracy: 0.3905\n",
      "Epoch 34/50\n",
      "1688/1688 [==============================] - 2s 1ms/step - loss: 2.5018 - accuracy: 0.3886 - val_loss: 2.4748 - val_accuracy: 0.3933\n",
      "Epoch 35/50\n",
      "1688/1688 [==============================] - 2s 1ms/step - loss: 2.5176 - accuracy: 0.3876 - val_loss: 2.4910 - val_accuracy: 0.3917\n",
      "Epoch 36/50\n",
      "1688/1688 [==============================] - 2s 1ms/step - loss: 2.5032 - accuracy: 0.3886 - val_loss: 2.4888 - val_accuracy: 0.3882\n",
      "Epoch 37/50\n",
      "1688/1688 [==============================] - 2s 1ms/step - loss: 2.5079 - accuracy: 0.3887 - val_loss: 2.5234 - val_accuracy: 0.3885\n",
      "Epoch 38/50\n",
      "1688/1688 [==============================] - 2s 1ms/step - loss: 2.5278 - accuracy: 0.3869 - val_loss: 2.5082 - val_accuracy: 0.3875\n",
      "Epoch 39/50\n",
      "1688/1688 [==============================] - 2s 1ms/step - loss: 2.5425 - accuracy: 0.3870 - val_loss: 2.5106 - val_accuracy: 0.3900\n",
      "Epoch 40/50\n",
      "1688/1688 [==============================] - 2s 1ms/step - loss: 2.5259 - accuracy: 0.3871 - val_loss: 2.4994 - val_accuracy: 0.3923\n",
      "Epoch 41/50\n",
      "1688/1688 [==============================] - 2s 1ms/step - loss: 2.5480 - accuracy: 0.3866 - val_loss: 2.5423 - val_accuracy: 0.3913\n",
      "Epoch 42/50\n",
      "1688/1688 [==============================] - 2s 1ms/step - loss: 2.5401 - accuracy: 0.3877 - val_loss: 2.5263 - val_accuracy: 0.3897\n",
      "Epoch 43/50\n",
      "1688/1688 [==============================] - 2s 1ms/step - loss: 2.5471 - accuracy: 0.3876 - val_loss: 2.5330 - val_accuracy: 0.3928\n",
      "Epoch 44/50\n",
      "1688/1688 [==============================] - 2s 1ms/step - loss: 2.5473 - accuracy: 0.3880 - val_loss: 2.5257 - val_accuracy: 0.3922\n",
      "Epoch 45/50\n",
      "1688/1688 [==============================] - 2s 1ms/step - loss: 2.5503 - accuracy: 0.3881 - val_loss: 2.5701 - val_accuracy: 0.3898\n",
      "Epoch 46/50\n",
      "1688/1688 [==============================] - 2s 1ms/step - loss: 2.5646 - accuracy: 0.3871 - val_loss: 2.5526 - val_accuracy: 0.3918\n",
      "Epoch 47/50\n",
      "1688/1688 [==============================] - 2s 1ms/step - loss: 2.5615 - accuracy: 0.3865 - val_loss: 2.5515 - val_accuracy: 0.3878\n",
      "Epoch 48/50\n",
      "1688/1688 [==============================] - 2s 1ms/step - loss: 2.5661 - accuracy: 0.3872 - val_loss: 2.5733 - val_accuracy: 0.3792\n",
      "Epoch 49/50\n",
      "1688/1688 [==============================] - 2s 1ms/step - loss: 2.5803 - accuracy: 0.3871 - val_loss: 2.5718 - val_accuracy: 0.3882\n",
      "Epoch 50/50\n",
      "1688/1688 [==============================] - 2s 1ms/step - loss: 2.5716 - accuracy: 0.3854 - val_loss: 2.5774 - val_accuracy: 0.3892\n"
     ]
    }
   ],
   "source": [
    "history = model.fit(x_train, y_train, epochs=50, verbose=True, validation_split=0.1)"
   ]
  },
  {
   "cell_type": "code",
   "execution_count": 6,
   "id": "500a8268",
   "metadata": {
    "scrolled": false
   },
   "outputs": [
    {
     "data": {
      "image/png": "[encoded data removed]",
      "text/plain": [
       "<Figure size 432x288 with 1 Axes>"
      ]
     },
     "metadata": {
      "needs_background": "light"
     },
     "output_type": "display_data"
    }
   ],
   "source": [
    "plt.plot(history.history['accuracy'])\n",
    "plt.plot(history.history['val_accuracy'])\n",
    "plt.title('Model Accuracy')\n",
    "plt.ylabel('Accuracy')\n",
    "plt.xlabel('Epoch')\n",
    "plt.legend(['Training', 'Validation'], loc='best')\n",
    "plt.show()"
   ]
  },
  {
   "cell_type": "code",
   "execution_count": 7,
   "id": "565f95e2",
   "metadata": {},
   "outputs": [
    {
     "data": {
      "text/plain": [
       "RandomForestClassifier()"
      ]
     },
     "execution_count": 7,
     "metadata": {},
     "output_type": "execute_result"
    }
   ],
   "source": [
    "clf = RandomForestClassifier(n_estimators=100)\n",
    "clf.fit(x_train, y_train)"
   ]
  },
  {
   "cell_type": "code",
   "execution_count": null,
   "id": "06bc8291",
   "metadata": {},
   "outputs": [],
   "source": [
    "y_pred = clf.predict(x_test)\n",
    "print(\"Accuracy -\", metrics.accuracy_score(y_test, y_pred))"
   ]
  }
 ],
 "metadata": {
  "kernelspec": {
   "display_name": "Python 3 (ipykernel)",
   "language": "python",
   "name": "python3"
  },
  "language_info": {
   "codemirror_mode": {
    "name": "ipython",
    "version": 3
   },
   "file_extension": ".py",
   "mimetype": "text/x-python",
   "name": "python",
   "nbconvert_exporter": "python",
   "pygments_lexer": "ipython3",
   "version": "3.9.7"
  }
 },
 "nbformat": 4,
 "nbformat_minor": 5
}
