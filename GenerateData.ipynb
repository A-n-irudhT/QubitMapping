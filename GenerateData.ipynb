{
 "cells": [
  {
   "cell_type": "code",
   "execution_count": 1,
   "id": "be21b428",
   "metadata": {
    "id": "be21b428",
    "scrolled": true
   },
   "outputs": [],
   "source": [
    "import time\n",
    "import json\n",
    "import random\n",
    "import numpy as np\n",
    "from qiskit import *\n",
    "from qiskit import Aer\n",
    "import tensorflow as tf\n",
    "from qiskit import IBMQ\n",
    "import matplotlib.pyplot as plt\n",
    "from qiskit.circuit import Reset\n",
    "from IPython.display import display\n",
    "from qiskit.tools.monitor import job_monitor\n",
    "from qiskit.providers.ibmq import least_busy\n",
    "from qiskit import QuantumCircuit, transpile\n",
    "from qiskit.circuit.random import random_circuit\n",
    "from qiskit.circuit.exceptions import CircuitError\n",
    "from sympy.utilities.iterables import multiset_permutations\n",
    "from qiskit.visualization import plot_histogram, plot_circuit_layout\n",
    "from qiskit.circuit import QuantumRegister, ClassicalRegister, QuantumCircuit\n",
    "\n",
    "from qiskit.circuit.library.standard_gates import (\n",
    "    IGate,\n",
    "    U1Gate,\n",
    "    U2Gate,\n",
    "    U3Gate,\n",
    "    XGate,\n",
    "    YGate,\n",
    "    ZGate,\n",
    "    HGate,\n",
    "    SGate,\n",
    "    SdgGate,\n",
    "    TGate,\n",
    "    TdgGate,\n",
    "    RXGate,\n",
    "    RYGate,\n",
    "    RZGate,\n",
    "    CXGate,\n",
    "    CYGate,\n",
    "    CZGate,\n",
    "    CHGate,\n",
    "    CRZGate,\n",
    "    CU1Gate,\n",
    "    CU3Gate,\n",
    "    SwapGate,\n",
    "    RZZGate,\n",
    "    CCXGate,\n",
    "    CSwapGate,\n",
    ")"
   ]
  },
  {
   "cell_type": "code",
   "execution_count": 2,
   "id": "152bb33b",
   "metadata": {
    "colab": {
     "base_uri": "https://localhost:8080/"
    },
    "id": "152bb33b",
    "outputId": "015a9ad7-ec4b-495d-c975-97cceff10124",
    "scrolled": true
   },
   "outputs": [
    {
     "data": {
      "text/plain": [
       "<AccountProvider for IBMQ(hub='ibm-q', group='open', project='main')>"
      ]
     },
     "execution_count": 2,
     "metadata": {},
     "output_type": "execute_result"
    }
   ],
   "source": [
    "IBMQ.save_account('de404b7eba21afacf3e900bcd1cc1244967cecad8f7051683e08ff88d444aee2e6cb029f51036d2eb8efd6f18bd04acf5d9bc0891891ebe4c1bb1ab062f7741b', overwrite=True)\n",
    "IBMQ.load_account()"
   ]
  },
  {
   "cell_type": "code",
   "execution_count": 3,
   "id": "cd635556",
   "metadata": {
    "id": "cd635556",
    "scrolled": true
   },
   "outputs": [],
   "source": [
    "def random_circuit(num_qubits, depth, max_operands=3, measure=False, conditional=False, reset=False, seed=None):\n",
    "    \"\"\"Generate random circuit of arbitrary size and form.\n",
    "\n",
    "    This function will generate a random circuit by randomly selecting gates\n",
    "    from the set of standard gates in :mod:`qiskit.extensions`. For example:\n",
    "\n",
    "    .. jupyter-execute::\n",
    "\n",
    "        from qiskit.circuit.random import random_circuit\n",
    "\n",
    "        circ = random_circuit(2, 2, measure=True)\n",
    "        circ.draw(output='mpl')\n",
    "\n",
    "    Args:\n",
    "        num_qubits (int): number of quantum wires\n",
    "        depth (int): layers of operations (i.e. critical path length)\n",
    "        max_operands (int): maximum operands of each gate (between 1 and 3)\n",
    "        measure (bool): if True, measure all qubits at the end\n",
    "        conditional (bool): if True, insert middle measurements and conditionals\n",
    "        reset (bool): if True, insert middle resets\n",
    "        seed (int): sets random seed (optional)\n",
    "\n",
    "    Returns:\n",
    "        QuantumCircuit: constructed circuit\n",
    "\n",
    "    Raises:\n",
    "        CircuitError: when invalid options given\n",
    "    \"\"\"\n",
    "    if max_operands < 1 or max_operands > 3:\n",
    "        raise CircuitError(\"max_operands must be between 1 and 3\")\n",
    "\n",
    "    one_q_ops = [\n",
    "        IGate,\n",
    "        U1Gate,\n",
    "        U2Gate,\n",
    "        U3Gate,\n",
    "        XGate,\n",
    "        YGate,\n",
    "        ZGate,\n",
    "        HGate,\n",
    "        SGate,\n",
    "        SdgGate,\n",
    "        TGate,\n",
    "        TdgGate,\n",
    "        RXGate,\n",
    "        RYGate,\n",
    "        RZGate,\n",
    "    ]\n",
    "    one_param = [U1Gate, RXGate, RYGate, RZGate, RZZGate, CU1Gate, CRZGate]\n",
    "    two_param = [U2Gate]\n",
    "    three_param = [U3Gate, CU3Gate]\n",
    "    two_q_ops = [CXGate]\n",
    "    three_q_ops = [CCXGate, CSwapGate]\n",
    "\n",
    "    qr = QuantumRegister(num_qubits, \"q\")\n",
    "    qc = QuantumCircuit(num_qubits)\n",
    "\n",
    "    if measure or conditional:\n",
    "        cr = ClassicalRegister(num_qubits, \"c\")\n",
    "        qc.add_register(cr)\n",
    "\n",
    "    if reset:\n",
    "        one_q_ops += [Reset]\n",
    "\n",
    "    if seed is None:\n",
    "        seed = np.random.randint(0, np.iinfo(np.int32).max)\n",
    "    rng = np.random.default_rng(seed)\n",
    "\n",
    "    # apply arbitrary random operations at every depth\n",
    "    for _ in range(depth):\n",
    "        # choose either 1, 2, or 3 qubits for the operation\n",
    "        remaining_qubits = list(range(num_qubits))\n",
    "        rng.shuffle(remaining_qubits)\n",
    "        while remaining_qubits:\n",
    "            max_possible_operands = min(len(remaining_qubits), max_operands)\n",
    "            num_operands = 2\n",
    "            operands = [remaining_qubits.pop() for _ in range(num_operands)]\n",
    "            if num_operands == 1:\n",
    "                operation = rng.choice(one_q_ops)\n",
    "            elif num_operands == 2:\n",
    "                operation = rng.choice(two_q_ops)\n",
    "            elif num_operands == 3:\n",
    "                operation = rng.choice(three_q_ops)\n",
    "            if operation in one_param:\n",
    "                num_angles = 1\n",
    "            elif operation in two_param:\n",
    "                num_angles = 2\n",
    "            elif operation in three_param:\n",
    "                num_angles = 3\n",
    "            else:\n",
    "                num_angles = 0\n",
    "            angles = [rng.uniform(0, 2 * np.pi) for x in range(num_angles)]\n",
    "            register_operands = [qr[i] for i in operands]\n",
    "            op = operation(*angles)\n",
    "\n",
    "            # with some low probability, condition on classical bit values\n",
    "            if conditional and rng.choice(range(10)) == 0:\n",
    "                value = rng.integers(0, np.power(2, num_qubits))\n",
    "                op.condition = (cr, value)\n",
    "\n",
    "            qc.append(op, register_operands)\n",
    "\n",
    "    if measure:\n",
    "        qc.measure(qr, cr)\n",
    "\n",
    "    return qc"
   ]
  },
  {
   "cell_type": "code",
   "execution_count": 4,
   "id": "4625467d",
   "metadata": {
    "id": "4625467d",
    "scrolled": true
   },
   "outputs": [],
   "source": [
    "def gatecount(qc, transpiled_circuit):\n",
    "    count = transpiled_circuit.count_ops()\n",
    "    items = list(count.items())\n",
    "    pieces = len(items)\n",
    "    new_arrays = np.array_split(items, pieces)\n",
    "    new_arrays\n",
    "    for i in range(pieces):\n",
    "        if(new_arrays[i][0][0] == 'cx'):\n",
    "            cnotcount = int(new_arrays[i][0][1])\n",
    "            \n",
    "    #print('Gate Counts -')\n",
    "    #print(json.dumps(count,indent=4))\n",
    "    return cnotcount\n",
    "    \n",
    "def plothistogram(qc, job):\n",
    "    fig = plot_histogram(job.result().get_counts())\n",
    "    display(fig)\n",
    "\n",
    "def run(qc, layout, computer, plot=0):\n",
    "    if (computer == 0):\n",
    "        backend = Aer.get_backend('qasm_simulator')\n",
    "        \n",
    "    else:\n",
    "        provider = IBMQ.get_provider(hub='ibm-q', group='open')\n",
    "        small_devices = provider.backends(filters=lambda x: x.configuration().n_qubits == 5 and not x.configuration().simulator)\n",
    "        backend = least_busy(small_devices)\n",
    "        \n",
    "    transpiled_circuit = transpile(qc, backend, initial_layout=layout)\n",
    "    #job = execute(qc, backend, shots = 1024)\n",
    "    print(\"Quantum Computer in Use:\", str(backend))\n",
    "    #job_monitor(job)\n",
    "    #device_result = job.result()\n",
    "    \n",
    "    if(plot==1):\n",
    "        plothistogram(qc, job)\n",
    "    \n",
    "    cx = gatecount(qc, transpiled_circuit)\n",
    "    \n",
    "    return cx\n",
    "\n",
    "def getfeatures(qc):\n",
    "    gatedata = []\n",
    "    for gate in qc.data:\n",
    "        if (gate[0].name == 'cx'):\n",
    "            gatedata.append(gate[1])\n",
    "    gatedata = np.array(gatedata)\n",
    "    l = np.shape(gatedata)[0]\n",
    "\n",
    "    cnotarray = np.zeros([l,2], dtype=int)\n",
    "    for i in range(l):\n",
    "        cnotarray[i][0] = gatedata[i][0].index\n",
    "        cnotarray[i][1] = gatedata[i][1].index\n",
    "    return cnotarray.flatten()\n",
    "\n",
    "def getqiskitlayout(qc, backend, plot = 0):\n",
    "    transpiled_circuit = transpile(qc, backend, optimization_level=3) \n",
    "    bits = transpiled_circuit._layout.get_physical_bits()\n",
    "    \n",
    "    if(plot==1):\n",
    "        fig = plot_circuit_layout(transpiled_circuit, backend)\n",
    "        display(fig)    \n",
    "        #for i in range(5):\n",
    "            #print(transpiled_circuit._layout.get_physical_bits()[i])\n",
    "\n",
    "    qiskitlayout = []\n",
    "    for i in range(len(bits)):\n",
    "        regtype = transpiled_circuit._layout.get_physical_bits()[i].register.qasm()\n",
    "        if(regtype.find('ancilla')==-1):\n",
    "            qiskitlayout.append(transpiled_circuit._layout.get_physical_bits()[i].index)\n",
    "        else :   \n",
    "            qiskitlayout.append(-1)\n",
    "            \n",
    "    return np.array(qiskitlayout)\n",
    "\n",
    "def elementgen(qubitno, backend, plot=0):\n",
    "    qc = random_circuit(qubitno, random.randint(1, 4), measure=True)\n",
    "    if(plot == 1):\n",
    "        fig = qc.draw(output='mpl')\n",
    "        display(fig)\n",
    "        \n",
    "    x = getfeatures(qc)\n",
    "    y = getqiskitlayout(qc, backend, plot)\n",
    "    \n",
    "    return x, y\n",
    "\n",
    "def datagen(size, qubitno, backend):\n",
    "    train = []\n",
    "    target = []\n",
    "    for i in range(size):\n",
    "        x, y = elementgen(qubitno, backend, 0)\n",
    "        train.append(x)\n",
    "        target.append(y)\n",
    "\n",
    "    return train, target\n",
    "\n",
    "def get_key(val, dictionary):\n",
    "    for key, value in dictionary.items():\n",
    "        if (np.array_equal(val, value)):\n",
    "            return key\n",
    "    return \"Key doesn't exist\"\n",
    "\n",
    "def targetdatagen(targetraw, layoutdict):\n",
    "    y = []\n",
    "    for i in range(datasetsize):\n",
    "        index = get_key(targetraw[i], layoutdict)\n",
    "        output = onehotdict[index]\n",
    "        y.append(output)\n",
    "    \n",
    "    return y"
   ]
  },
  {
   "cell_type": "code",
   "execution_count": 5,
   "id": "f600522f",
   "metadata": {
    "id": "f600522f",
    "scrolled": true
   },
   "outputs": [],
   "source": [
    "#for gate in qc.data:\n",
    "#    print('\\ngate name:', gate[0].name)\n",
    "#    print('qubit(s) acted on:', gate[1])"
   ]
  },
  {
   "cell_type": "code",
   "execution_count": 6,
   "id": "628359d3",
   "metadata": {
    "colab": {
     "base_uri": "https://localhost:8080/"
    },
    "id": "628359d3",
    "outputId": "22ab0eab-4de3-4426-b439-9476bd5ce7df",
    "scrolled": true
   },
   "outputs": [
    {
     "name": "stdout",
     "output_type": "stream",
     "text": [
      "ibmq_lima\n"
     ]
    }
   ],
   "source": [
    "provider = IBMQ.get_provider(hub='ibm-q', group='open')\n",
    "small_devices = provider.backends(filters=lambda x: x.configuration().n_qubits == 5 and not x.configuration().simulator)\n",
    "backend = least_busy(small_devices)\n",
    "print(backend)"
   ]
  },
  {
   "cell_type": "code",
   "execution_count": 7,
   "id": "f03f4e1a",
   "metadata": {
    "colab": {
     "base_uri": "https://localhost:8080/",
     "height": 276
    },
    "id": "f03f4e1a",
    "outputId": "d769df37-fd73-44fd-a0c0-1f9a5981ae64",
    "scrolled": true
   },
   "outputs": [
    {
     "data": {
      "image/png": "[encoded data removed]",
      "text/plain": [
       "<Figure size 688.597x325.08 with 1 Axes>"
      ]
     },
     "execution_count": 7,
     "metadata": {},
     "output_type": "execute_result"
    }
   ],
   "source": [
    "qc = random_circuit(4, random.randint(1, 4), measure=True)\n",
    "qc.draw(output='mpl')"
   ]
  },
  {
   "cell_type": "code",
   "execution_count": 8,
   "id": "914ffa6e",
   "metadata": {
    "colab": {
     "base_uri": "https://localhost:8080/"
    },
    "id": "914ffa6e",
    "outputId": "0304e0ce-7336-43cf-ddf4-52d5d48cea10",
    "scrolled": true
   },
   "outputs": [
    {
     "name": "stdout",
     "output_type": "stream",
     "text": [
      "[3 2 0 1 3 0 2 1 2 0 1 3 2 3 1 0]\n"
     ]
    },
    {
     "name": "stderr",
     "output_type": "stream",
     "text": [
      "C:\\Users\\aniru\\AppData\\Local\\Temp/ipykernel_18996/208192475.py:51: DeprecationWarning: Back-references to from Bit instances to their containing Registers have been deprecated. Instead, inspect Registers to find their contained Bits.\n",
      "  cnotarray[i][0] = gatedata[i][0].index\n",
      "C:\\Users\\aniru\\AppData\\Local\\Temp/ipykernel_18996/208192475.py:52: DeprecationWarning: Back-references to from Bit instances to their containing Registers have been deprecated. Instead, inspect Registers to find their contained Bits.\n",
      "  cnotarray[i][1] = gatedata[i][1].index\n"
     ]
    }
   ],
   "source": [
    "arr = getfeatures(qc)\n",
    "print(arr)"
   ]
  },
  {
   "cell_type": "code",
   "execution_count": 9,
   "id": "4932c22e",
   "metadata": {
    "colab": {
     "base_uri": "https://localhost:8080/",
     "height": 375
    },
    "id": "4932c22e",
    "outputId": "02d7ddfe-f31e-4cce-f3ed-8e1b258b5f63",
    "scrolled": true
   },
   "outputs": [
    {
     "data": {
      "image/png": "[encoded data removed]",
      "text/plain": [
       "<Figure size 360x360 with 1 Axes>"
      ]
     },
     "metadata": {},
     "output_type": "display_data"
    },
    {
     "name": "stdout",
     "output_type": "stream",
     "text": [
      "Layout of Virtual Bits - [-1  0  1  3  2]\n"
     ]
    },
    {
     "name": "stderr",
     "output_type": "stream",
     "text": [
      "C:\\Users\\aniru\\AppData\\Local\\Temp/ipykernel_18996/208192475.py:67: DeprecationWarning: Back-references to from Bit instances to their containing Registers have been deprecated. Instead, inspect Registers to find their contained Bits.\n",
      "  regtype = transpiled_circuit._layout.get_physical_bits()[i].register.qasm()\n",
      "C:\\Users\\aniru\\AppData\\Local\\Temp/ipykernel_18996/208192475.py:69: DeprecationWarning: Back-references to from Bit instances to their containing Registers have been deprecated. Instead, inspect Registers to find their contained Bits.\n",
      "  qiskitlayout.append(transpiled_circuit._layout.get_physical_bits()[i].index)\n"
     ]
    }
   ],
   "source": [
    "p = getqiskitlayout(qc, backend, 1)\n",
    "print(\"Layout of Virtual Bits -\", p)"
   ]
  },
  {
   "cell_type": "code",
   "execution_count": 10,
   "id": "f1331b49",
   "metadata": {
    "colab": {
     "base_uri": "https://localhost:8080/",
     "height": 686
    },
    "id": "f1331b49",
    "outputId": "a506b193-8f33-42fd-8a96-a8dda1149ab0"
   },
   "outputs": [
    {
     "data": {
      "image/png": "[encoded data removed]",
      "text/plain": [
       "<Figure size 628.397x325.08 with 1 Axes>"
      ]
     },
     "metadata": {},
     "output_type": "display_data"
    },
    {
     "name": "stderr",
     "output_type": "stream",
     "text": [
      "C:\\Users\\aniru\\AppData\\Local\\Temp/ipykernel_18996/208192475.py:51: DeprecationWarning: Back-references to from Bit instances to their containing Registers have been deprecated. Instead, inspect Registers to find their contained Bits.\n",
      "  cnotarray[i][0] = gatedata[i][0].index\n",
      "C:\\Users\\aniru\\AppData\\Local\\Temp/ipykernel_18996/208192475.py:52: DeprecationWarning: Back-references to from Bit instances to their containing Registers have been deprecated. Instead, inspect Registers to find their contained Bits.\n",
      "  cnotarray[i][1] = gatedata[i][1].index\n"
     ]
    },
    {
     "data": {
      "image/png": "[encoded data removed]",
      "text/plain": [
       "<Figure size 360x360 with 1 Axes>"
      ]
     },
     "metadata": {},
     "output_type": "display_data"
    },
    {
     "name": "stdout",
     "output_type": "stream",
     "text": [
      "[0 3 1 2 3 1 2 0 3 1 0 2]\n",
      "[-1  2  1  3  0]\n"
     ]
    },
    {
     "name": "stderr",
     "output_type": "stream",
     "text": [
      "C:\\Users\\aniru\\AppData\\Local\\Temp/ipykernel_18996/208192475.py:67: DeprecationWarning: Back-references to from Bit instances to their containing Registers have been deprecated. Instead, inspect Registers to find their contained Bits.\n",
      "  regtype = transpiled_circuit._layout.get_physical_bits()[i].register.qasm()\n",
      "C:\\Users\\aniru\\AppData\\Local\\Temp/ipykernel_18996/208192475.py:69: DeprecationWarning: Back-references to from Bit instances to their containing Registers have been deprecated. Instead, inspect Registers to find their contained Bits.\n",
      "  qiskitlayout.append(transpiled_circuit._layout.get_physical_bits()[i].index)\n"
     ]
    }
   ],
   "source": [
    "p, q = elementgen(4, backend, 1)\n",
    "print(p)\n",
    "print(q)"
   ]
  },
  {
   "cell_type": "code",
   "execution_count": 11,
   "id": "6d203552",
   "metadata": {
    "colab": {
     "base_uri": "https://localhost:8080/"
    },
    "id": "6d203552",
    "outputId": "94bd657c-552d-45a5-8ddf-21e271851686",
    "scrolled": false
   },
   "outputs": [
    {
     "name": "stderr",
     "output_type": "stream",
     "text": [
      "C:\\Users\\aniru\\AppData\\Local\\Temp/ipykernel_18996/208192475.py:51: DeprecationWarning: Back-references to from Bit instances to their containing Registers have been deprecated. Instead, inspect Registers to find their contained Bits.\n",
      "  cnotarray[i][0] = gatedata[i][0].index\n",
      "C:\\Users\\aniru\\AppData\\Local\\Temp/ipykernel_18996/208192475.py:52: DeprecationWarning: Back-references to from Bit instances to their containing Registers have been deprecated. Instead, inspect Registers to find their contained Bits.\n",
      "  cnotarray[i][1] = gatedata[i][1].index\n",
      "C:\\Users\\aniru\\AppData\\Local\\Temp/ipykernel_18996/208192475.py:67: DeprecationWarning: Back-references to from Bit instances to their containing Registers have been deprecated. Instead, inspect Registers to find their contained Bits.\n",
      "  regtype = transpiled_circuit._layout.get_physical_bits()[i].register.qasm()\n",
      "C:\\Users\\aniru\\AppData\\Local\\Temp/ipykernel_18996/208192475.py:69: DeprecationWarning: Back-references to from Bit instances to their containing Registers have been deprecated. Instead, inspect Registers to find their contained Bits.\n",
      "  qiskitlayout.append(transpiled_circuit._layout.get_physical_bits()[i].index)\n"
     ]
    }
   ],
   "source": [
    "datasetsize = 40000\n",
    "trainraw, targetraw = datagen(datasetsize, 4, backend)"
   ]
  },
  {
   "cell_type": "code",
   "execution_count": 12,
   "id": "6ff9baa5",
   "metadata": {
    "id": "6ff9baa5"
   },
   "outputs": [],
   "source": [
    "layouts = np.array([-1, 0, 1, 2, 3])\n",
    "arr = []\n",
    "for p in multiset_permutations(layouts):\n",
    "    arr.append(p)\n",
    "layoutdict = dict(enumerate(arr, 0))\n",
    "\n",
    "encoded = np.zeros([120,120], dtype = int)\n",
    "for i in range(120):\n",
    "    for j in range(120):\n",
    "        if(i==j):\n",
    "            encoded[i][j] = 1\n",
    "onehotdict = dict(enumerate(encoded, 0))\n",
    "\n",
    "x_data = trainraw\n",
    "y_data = targetdatagen(targetraw, layoutdict)"
   ]
  },
  {
   "cell_type": "code",
   "execution_count": 13,
   "id": "wqmVK4-4-vWE",
   "metadata": {
    "id": "wqmVK4-4-vWE"
   },
   "outputs": [],
   "source": [
    "#index = get_key([3, 2, 0, 1, -1], layoutdict)\n",
    "#print(index)\n",
    "#print(onehotdict[index])"
   ]
  },
  {
   "cell_type": "code",
   "execution_count": 14,
   "id": "sdccCpON2A3q",
   "metadata": {
    "id": "sdccCpON2A3q"
   },
   "outputs": [],
   "source": [
    "max_length = max(len(row) for row in x_data)\n",
    "x_data = np.array([np.pad(row, (0, max_length-len(row))) for row in x_data])"
   ]
  },
  {
   "cell_type": "code",
   "execution_count": 15,
   "id": "pNlUPH366_cl",
   "metadata": {
    "id": "pNlUPH366_cl"
   },
   "outputs": [],
   "source": [
    "np.savetxt('x_data.txt', x_data, fmt='%d')\n",
    "np.savetxt('y_data.txt', y_data, fmt='%d')"
   ]
  },
  {
   "cell_type": "code",
   "execution_count": null,
   "id": "5ca53126",
   "metadata": {},
   "outputs": [],
   "source": []
  }
 ],
 "metadata": {
  "colab": {
   "collapsed_sections": [],
   "name": "Test3.ipynb",
   "provenance": []
  },
  "kernelspec": {
   "display_name": "Python 3 (ipykernel)",
   "language": "python",
   "name": "python3"
  },
  "language_info": {
   "codemirror_mode": {
    "name": "ipython",
    "version": 3
   },
   "file_extension": ".py",
   "mimetype": "text/x-python",
   "name": "python",
   "nbconvert_exporter": "python",
   "pygments_lexer": "ipython3",
   "version": "3.9.7"
  }
 },
 "nbformat": 4,
 "nbformat_minor": 5
}
