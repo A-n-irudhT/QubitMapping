{
 "cells": [
  {
   "cell_type": "code",
   "execution_count": 1,
   "id": "961feace",
   "metadata": {},
   "outputs": [],
   "source": [
    "import numpy as np\n",
    "from utils import *\n",
    "from qiskit import *\n",
    "from qiskit import IBMQ\n",
    "import matplotlib.pyplot as plt\n",
    "from IPython.display import display\n",
    "from qiskit import QuantumCircuit, transpile\n",
    "from sympy.utilities.iterables import multiset_permutations\n",
    "from qiskit.circuit import QuantumRegister, ClassicalRegister, QuantumCircuit"
   ]
  },
  {
   "cell_type": "code",
   "execution_count": 2,
   "id": "08092d63",
   "metadata": {},
   "outputs": [],
   "source": [
    "IBMQ.save_account('de404b7eba21afacf3e900bcd1cc1244967cecad8f7051683e08ff88d444aee2e6cb029f51036d2eb8efd6f18bd04acf5d9bc0891891ebe4c1bb1ab062f7741b', overwrite=True)\n",
    "IBMQ.load_account()\n",
    "\n",
    "my_provider = IBMQ.get_provider()\n",
    "backend  = my_provider.get_backend('ibmq_lima')"
   ]
  },
  {
   "cell_type": "code",
   "execution_count": 3,
   "id": "060fadef",
   "metadata": {},
   "outputs": [
    {
     "name": "stdout",
     "output_type": "stream",
     "text": [
      "Iteration 0\n"
     ]
    }
   ],
   "source": [
    "x_data, y_data = get_traindata_and_targetdata(datasetsize=10, qubitno=5, backend=backend)"
   ]
  },
  {
   "cell_type": "code",
   "execution_count": 4,
   "id": "11bee609",
   "metadata": {},
   "outputs": [
    {
     "name": "stdout",
     "output_type": "stream",
     "text": [
      "[3 0 2 4 2 0 3 4 1 2 4 3 0 0 0 0 0 0 0 0 0 0 0 0 0 0 0 0 0 0 0 0 0 0 0 0 0\n",
      " 0 0 0]\n",
      "[0 0 1 0 0 0 1 0 1 0 0 0 0 0 0 0 0 0 0 0 0 0 0 0 0 0 1 0 0 0 0 0 1 0 0 0 0\n",
      " 0 0 0 0 0 0 0 0 0 0 0 1 0 1 0 0 0 0 0 0 0 0 0 0 0 0 0 0 0 0 0 0 0 0 0 0 0\n",
      " 0 1 0 0 0 0 0 0 0 0 0 1 0 0 0 0 0 0 0 0 0 0 0 0 0 0 0 0 0 0 0 0 0 0 0 0 0\n",
      " 0 0 0 0 0 0 0 0 0]\n"
     ]
    }
   ],
   "source": [
    "print(x_data[0])\n",
    "print(y_data[0])"
   ]
  },
  {
   "cell_type": "code",
   "execution_count": 5,
   "id": "6b8c703f",
   "metadata": {},
   "outputs": [],
   "source": [
    "np.savetxt('x_data.txt', x_data, fmt='%d')\n",
    "np.savetxt('y_data.txt', y_data, fmt='%d')"
   ]
  },
  {
   "cell_type": "code",
   "execution_count": null,
   "id": "9e2a0fab",
   "metadata": {},
   "outputs": [],
   "source": []
  }
 ],
 "metadata": {
  "kernelspec": {
   "display_name": "Python 3 (ipykernel)",
   "language": "python",
   "name": "python3"
  },
  "language_info": {
   "codemirror_mode": {
    "name": "ipython",
    "version": 3
   },
   "file_extension": ".py",
   "mimetype": "text/x-python",
   "name": "python",
   "nbconvert_exporter": "python",
   "pygments_lexer": "ipython3",
   "version": "3.9.7"
  }
 },
 "nbformat": 4,
 "nbformat_minor": 5
}
