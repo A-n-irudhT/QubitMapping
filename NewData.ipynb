{
 "cells": [
  {
   "cell_type": "code",
   "execution_count": 1,
   "id": "961feace",
   "metadata": {},
   "outputs": [],
   "source": [
    "import random\n",
    "import numpy as np\n",
    "from qiskit import *\n",
    "from qiskit import Aer\n",
    "from qiskit import IBMQ\n",
    "import matplotlib.pyplot as plt\n",
    "from qiskit.circuit import Reset\n",
    "from IPython.display import display\n",
    "from qiskit import QuantumCircuit, transpile\n",
    "from qiskit.circuit.exceptions import CircuitError\n",
    "from sympy.utilities.iterables import multiset_permutations\n",
    "from qiskit.circuit import QuantumRegister, ClassicalRegister, QuantumCircuit\n",
    "from qiskit.circuit.library.standard_gates import (IGate, U1Gate, U2Gate, U3Gate, XGate, YGate, ZGate, HGate, SGate, SdgGate, \n",
    "                                                   TGate, TdgGate, RXGate, RYGate, RZGate, CXGate, CYGate, CZGate, CHGate, \n",
    "                                                   CRZGate, CU1Gate, CU3Gate, SwapGate, RZZGate, CCXGate, CSwapGate)"
   ]
  },
  {
   "cell_type": "code",
   "execution_count": 2,
   "id": "08092d63",
   "metadata": {},
   "outputs": [],
   "source": [
    "IBMQ.save_account('de404b7eba21afacf3e900bcd1cc1244967cecad8f7051683e08ff88d444aee2e6cb029f51036d2eb8efd6f18bd04acf5d9bc0891891ebe4c1bb1ab062f7741b', overwrite=True)\n",
    "IBMQ.load_account()\n",
    "\n",
    "my_provider = IBMQ.get_provider()\n",
    "backend  = my_provider.get_backend('ibmq_lima')"
   ]
  },
  {
   "cell_type": "code",
   "execution_count": 3,
   "id": "8db1b5c8",
   "metadata": {},
   "outputs": [],
   "source": [
    "def random_circuit(num_qubits, depth, max_operands=3, measure=False, conditional=False, reset=False, seed=None):\n",
    "\n",
    "    if max_operands < 1 or max_operands > 3:\n",
    "        raise CircuitError(\"max_operands must be between 1 and 3\")\n",
    "\n",
    "    one_q_ops = [IGate, U1Gate, U2Gate, U3Gate, XGate, YGate, ZGate, HGate, SGate, SdgGate, TGate, TdgGate, RXGate, RYGate, RZGate]\n",
    "    one_param = [U1Gate, RXGate, RYGate, RZGate, RZZGate, CU1Gate, CRZGate]\n",
    "    two_param = [U2Gate]\n",
    "    three_param = [U3Gate, CU3Gate]\n",
    "    two_q_ops = [CXGate]\n",
    "    three_q_ops = [CCXGate, CSwapGate]\n",
    "\n",
    "    qr = QuantumRegister(num_qubits, \"q\")\n",
    "    qc = QuantumCircuit(num_qubits)\n",
    "\n",
    "    if measure or conditional:\n",
    "        cr = ClassicalRegister(num_qubits, \"c\")\n",
    "        qc.add_register(cr)\n",
    "\n",
    "    if reset:\n",
    "        one_q_ops += [Reset]\n",
    "\n",
    "    if seed is None:\n",
    "        seed = np.random.randint(0, np.iinfo(np.int32).max)\n",
    "    rng = np.random.default_rng(seed)\n",
    "\n",
    "    # apply arbitrary random operations at every depth\n",
    "    for _ in range(depth):\n",
    "        # choose either 1, 2, or 3 qubits for the operation\n",
    "        remaining_qubits = list(range(num_qubits))\n",
    "        rng.shuffle(remaining_qubits)\n",
    "        while remaining_qubits:\n",
    "            max_possible_operands = min(len(remaining_qubits), max_operands)\n",
    "            num_operands = 2\n",
    "            if max_possible_operands < 2:\n",
    "                break\n",
    "            operands = [remaining_qubits.pop() for _ in range(num_operands)]\n",
    "            if num_operands == 1:\n",
    "                operation = rng.choice(one_q_ops)\n",
    "            elif num_operands == 2:\n",
    "                operation = rng.choice(two_q_ops)\n",
    "            elif num_operands == 3:\n",
    "                operation = rng.choice(three_q_ops)\n",
    "            if operation in one_param:\n",
    "                num_angles = 1\n",
    "            elif operation in two_param:\n",
    "                num_angles = 2\n",
    "            elif operation in three_param:\n",
    "                num_angles = 3\n",
    "            else:\n",
    "                num_angles = 0\n",
    "            angles = [rng.uniform(0, 2 * np.pi) for x in range(num_angles)]\n",
    "            register_operands = [qr[i] for i in operands]\n",
    "            op = operation(*angles)\n",
    "\n",
    "            # with some low probability, condition on classical bit values\n",
    "            if conditional and rng.choice(range(10)) == 0:\n",
    "                value = rng.integers(0, np.power(2, num_qubits))\n",
    "                op.condition = (cr, value)\n",
    "\n",
    "            qc.append(op, register_operands)\n",
    "\n",
    "    if measure:\n",
    "        qc.measure(qr, cr)\n",
    "\n",
    "    return qc"
   ]
  },
  {
   "cell_type": "code",
   "execution_count": 4,
   "id": "3e33cc5e",
   "metadata": {},
   "outputs": [],
   "source": [
    "def get_training_element(qc):\n",
    "    gatedata = []\n",
    "    for gate in qc.data:\n",
    "        if (gate[0].name == 'cx'):\n",
    "            gatedata.append(gate[1])\n",
    "    gatedata = np.array(gatedata)\n",
    "    l = np.shape(gatedata)[0]\n",
    "\n",
    "    cnotarray = np.zeros([l,2], dtype=int)\n",
    "    for i in range(l):\n",
    "        cnotarray[i][0] = gatedata[i][0].index\n",
    "        cnotarray[i][1] = gatedata[i][1].index\n",
    "    return cnotarray.flatten()"
   ]
  },
  {
   "cell_type": "code",
   "execution_count": 5,
   "id": "dff1e669",
   "metadata": {},
   "outputs": [],
   "source": [
    "def get_cnot_count(qc, layout, backend):\n",
    "    transpiled_circuit = transpile(qc, backend, initial_layout=layout)\n",
    "    data = transpiled_circuit.count_ops()\n",
    "    l = list(data.values())\n",
    "    return l[0]\n",
    "\n",
    "def get_designspace(qc, backend):\n",
    "    qubits = np.array([0, 1, 2, 3, 4])\n",
    "    designspace = np.empty(120, dtype=int)\n",
    "    i = 0\n",
    "    for p in multiset_permutations(qubits):\n",
    "        designspace[i] = get_cnot_count(qc, p, backend)\n",
    "        i = i+1\n",
    "        \n",
    "    return np.array(designspace)\n",
    "\n",
    "def get_optimal_layouts(designspace, margin, backend):\n",
    "    accepted_range = np.amin(designspace) + margin\n",
    "    indexes = np.where(designspace <= accepted_range)[0]\n",
    "    \n",
    "    return indexes\n",
    "\n",
    "def one_hot_encode_layout_data(layouts):\n",
    "    encoded = np.zeros(120, dtype=int)\n",
    "    for i in layouts:\n",
    "        encoded[i] = 1\n",
    "        \n",
    "    return encoded\n",
    "\n",
    "def get_target_element(qc, backend):\n",
    "    designspace = get_designspace(qc, backend)\n",
    "    margin = np.std(designspace)\n",
    "    indexes = get_optimal_layouts(designspace, margin, backend)\n",
    "    target_element = one_hot_encode_layout_data(indexes)\n",
    "    \n",
    "    return target_element"
   ]
  },
  {
   "cell_type": "code",
   "execution_count": 6,
   "id": "8a3f2773",
   "metadata": {},
   "outputs": [],
   "source": [
    "def get_x_and_y_element(qubitno, depth, backend):\n",
    "    qc = random_circuit(qubitno, depth)\n",
    "    x = get_training_element(qc)\n",
    "    y = get_target_element(qc, backend)\n",
    "    \n",
    "    return x, y"
   ]
  },
  {
   "cell_type": "code",
   "execution_count": 7,
   "id": "9ae8dd6c",
   "metadata": {},
   "outputs": [],
   "source": [
    "def get_traindata_and_targetdata(datasetsize, qubitno, backend):\n",
    "    x_data = []\n",
    "    y_data = []\n",
    "    for i in range(10):\n",
    "        x_element, y_element = get_x_and_y_element(qubitno=qubitno, depth=random.randint(1,10), backend=backend)\n",
    "        x_data.append(x_element)\n",
    "        y_data.append(y_element)\n",
    "        \n",
    "    max_length = max(len(row) for row in x_data)\n",
    "    x_data = np.array([np.pad(row, (0, max_length-len(row))) for row in x_data])\n",
    "    y_data = np.array(y_data)\n",
    "    \n",
    "    return x_data, y_data"
   ]
  },
  {
   "cell_type": "code",
   "execution_count": 8,
   "id": "dd85174a",
   "metadata": {},
   "outputs": [
    {
     "name": "stderr",
     "output_type": "stream",
     "text": [
      "C:\\Users\\aniru\\AppData\\Local\\Temp/ipykernel_6128/3013129481.py:11: DeprecationWarning: Back-references to from Bit instances to their containing Registers have been deprecated. Instead, inspect Registers to find their contained Bits.\n",
      "  cnotarray[i][0] = gatedata[i][0].index\n",
      "C:\\Users\\aniru\\AppData\\Local\\Temp/ipykernel_6128/3013129481.py:12: DeprecationWarning: Back-references to from Bit instances to their containing Registers have been deprecated. Instead, inspect Registers to find their contained Bits.\n",
      "  cnotarray[i][1] = gatedata[i][1].index\n",
      "C:\\Users\\aniru\\AppData\\Local\\Temp/ipykernel_6128/3013129481.py:11: DeprecationWarning: Back-references to from Bit instances to their containing Registers have been deprecated. Instead, inspect Registers to find their contained Bits.\n",
      "  cnotarray[i][0] = gatedata[i][0].index\n",
      "C:\\Users\\aniru\\AppData\\Local\\Temp/ipykernel_6128/3013129481.py:12: DeprecationWarning: Back-references to from Bit instances to their containing Registers have been deprecated. Instead, inspect Registers to find their contained Bits.\n",
      "  cnotarray[i][1] = gatedata[i][1].index\n"
     ]
    }
   ],
   "source": [
    "x_data, y_data = get_traindata_and_targetdata(datasetsize=10, qubitno=5, backend=backend)"
   ]
  },
  {
   "cell_type": "code",
   "execution_count": 9,
   "id": "13a0ec8a",
   "metadata": {},
   "outputs": [
    {
     "name": "stdout",
     "output_type": "stream",
     "text": [
      "[[2 1 4 0 4 0 2 1 3 1 2 0 0 0 0 0 0 0 0 0 0 0 0 0 0 0 0 0 0 0 0 0 0 0 0 0\n",
      "  0 0 0 0]\n",
      " [2 0 1 3 4 0 1 2 0 1 3 4 0 4 1 3 4 3 2 1 4 1 0 2 3 1 2 0 3 4 2 1 4 2 0 3\n",
      "  1 4 0 3]\n",
      " [3 1 2 4 2 3 1 4 4 3 0 2 3 4 2 1 2 4 3 0 0 0 0 0 0 0 0 0 0 0 0 0 0 0 0 0\n",
      "  0 0 0 0]\n",
      " [4 1 2 0 3 1 0 2 0 0 0 0 0 0 0 0 0 0 0 0 0 0 0 0 0 0 0 0 0 0 0 0 0 0 0 0\n",
      "  0 0 0 0]\n",
      " [2 3 4 1 1 0 2 3 1 2 4 3 0 0 0 0 0 0 0 0 0 0 0 0 0 0 0 0 0 0 0 0 0 0 0 0\n",
      "  0 0 0 0]\n",
      " [3 1 2 4 3 4 1 0 0 0 0 0 0 0 0 0 0 0 0 0 0 0 0 0 0 0 0 0 0 0 0 0 0 0 0 0\n",
      "  0 0 0 0]\n",
      " [2 1 4 0 2 0 4 3 0 1 3 2 1 4 0 3 1 3 4 0 4 2 1 0 4 1 0 2 1 4 2 3 0 0 0 0\n",
      "  0 0 0 0]\n",
      " [1 2 0 4 0 4 3 1 0 2 1 3 3 1 4 2 0 0 0 0 0 0 0 0 0 0 0 0 0 0 0 0 0 0 0 0\n",
      "  0 0 0 0]\n",
      " [2 4 1 3 1 2 4 3 0 0 0 0 0 0 0 0 0 0 0 0 0 0 0 0 0 0 0 0 0 0 0 0 0 0 0 0\n",
      "  0 0 0 0]\n",
      " [3 0 1 2 1 4 0 3 3 2 0 1 1 2 0 4 2 1 0 4 3 1 2 4 1 3 0 2 1 0 3 4 3 1 0 4\n",
      "  0 0 0 0]]\n",
      "[0 0 0 0 0 0 0 0 0 0 0 0 0 0 1 0 0 1 0 1 0 0 1 1 0 0 0 0 0 0 0 0 0 0 0 0 1\n",
      " 0 0 0 1 1 0 0 0 0 1 1 0 0 0 0 0 0 0 0 0 0 0 0 1 0 0 0 1 1 0 0 0 1 1 1 1 0\n",
      " 1 0 1 1 1 0 1 0 1 1 1 0 1 0 1 1 0 0 0 0 0 0 1 0 0 0 1 1 1 0 1 0 1 1 0 0 1\n",
      " 0 1 1 0 0 0 0 0 0]\n"
     ]
    }
   ],
   "source": [
    "print(x_data)\n",
    "print(y_data[0])"
   ]
  },
  {
   "cell_type": "code",
   "execution_count": null,
   "id": "4e124f77",
   "metadata": {},
   "outputs": [],
   "source": []
  }
 ],
 "metadata": {
  "kernelspec": {
   "display_name": "Python 3 (ipykernel)",
   "language": "python",
   "name": "python3"
  },
  "language_info": {
   "codemirror_mode": {
    "name": "ipython",
    "version": 3
   },
   "file_extension": ".py",
   "mimetype": "text/x-python",
   "name": "python",
   "nbconvert_exporter": "python",
   "pygments_lexer": "ipython3",
   "version": "3.9.7"
  }
 },
 "nbformat": 4,
 "nbformat_minor": 5
}
