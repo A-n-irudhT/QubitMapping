{
 "cells": [
  {
   "cell_type": "code",
   "execution_count": 1,
   "id": "52b9ad72",
   "metadata": {},
   "outputs": [],
   "source": [
    "import numpy as np\n",
    "from utils import *\n",
    "from mqt import qmap\n",
    "from qiskit import *\n",
    "from qiskit import IBMQ\n",
    "import matplotlib.pyplot as plt\n",
    "from IPython.display import display\n",
    "from qiskit import QuantumCircuit, transpile\n",
    "from sympy.utilities.iterables import multiset_permutations"
   ]
  },
  {
   "cell_type": "code",
   "execution_count": 2,
   "id": "4b43a44f",
   "metadata": {},
   "outputs": [],
   "source": [
    "IBMQ.save_account('de404b7eba21afacf3e900bcd1cc1244967cecad8f7051683e08ff88d444aee2e6cb029f51036d2eb8efd6f18bd04acf5d9bc0891891ebe4c1bb1ab062f7741b', overwrite=True)\n",
    "IBMQ.load_account()\n",
    "\n",
    "my_provider = IBMQ.get_provider()\n",
    "backend  = my_provider.get_backend('ibmq_lima')"
   ]
  },
  {
   "cell_type": "code",
   "execution_count": 3,
   "id": "c4ff62ae",
   "metadata": {},
   "outputs": [],
   "source": [
    "x_data0 = np.loadtxt('./Data/x_data0.txt', dtype=int)"
   ]
  },
  {
   "cell_type": "code",
   "execution_count": 4,
   "id": "80b2c32a",
   "metadata": {},
   "outputs": [
    {
     "data": {
      "image/png": "[encoded data removed]",
      "text/plain": [
       "<Figure size 869.197x325.08 with 1 Axes>"
      ]
     },
     "execution_count": 4,
     "metadata": {},
     "output_type": "execute_result"
    }
   ],
   "source": [
    "qc = random_circuit(num_qubits=5, depth=7)\n",
    "qc.draw(output='mpl')"
   ]
  },
  {
   "cell_type": "code",
   "execution_count": 5,
   "id": "58ace14e",
   "metadata": {},
   "outputs": [
    {
     "name": "stdout",
     "output_type": "stream",
     "text": [
      "// i 2 3 1 4 0\n",
      "// o 2 1 3 4 0\n",
      "OPENQASM 2.0;\n",
      "include \"qelib1.inc\";\n",
      "qreg q[5];\n",
      "creg c[5];\n",
      "cx q[1], q[3];\n",
      "swap q[1], q[2];\n",
      "cx q[1], q[0];\n",
      "cx q[4], q[3];\n",
      "cx q[1], q[2];\n",
      "swap q[1], q[3];\n",
      "cx q[1], q[2];\n",
      "cx q[4], q[3];\n",
      "cx q[0], q[1];\n",
      "swap q[1], q[2];\n",
      "swap q[1], q[3];\n",
      "cx q[1], q[0];\n",
      "cx q[4], q[3];\n",
      "cx q[1], q[2];\n",
      "cx q[1], q[3];\n",
      "swap q[1], q[2];\n",
      "cx q[1], q[0];\n",
      "measure q[0] -> c[4];\n",
      "measure q[1] -> c[1];\n",
      "measure q[2] -> c[0];\n",
      "measure q[3] -> c[2];\n",
      "measure q[4] -> c[3];\n",
      "\n"
     ]
    }
   ],
   "source": [
    "circ_mapped, results = qmap.compile(qc, backend, method=\"exact\")\n",
    "print(results.mapped_circuit)"
   ]
  },
  {
   "cell_type": "code",
   "execution_count": 6,
   "id": "89735256",
   "metadata": {},
   "outputs": [],
   "source": [
    "def get_new_layout(qc, backend):\n",
    "    circ_mapped, results = qmap.compile(qc, backend, method=\"exact\")\n",
    "    string = results.mapped_circuit\n",
    "    l = len(string)\n",
    "    \n",
    "    for i in range(l):\n",
    "        if(string[i]== 'i'):\n",
    "            arr = string[i+2:i+12]\n",
    "            break\n",
    "\n",
    "    layout = []\n",
    "    for i in range(len(arr)):\n",
    "        if(arr[i] == ' '):\n",
    "            continue\n",
    "        else:\n",
    "            layout.append(arr[i])\n",
    "\n",
    "    layout.pop()\n",
    "    return np.array(layout, dtype=int)\n",
    "\n",
    "def get_key(val, dictionary):\n",
    "    for key, value in dictionary.items():\n",
    "        if (np.array_equal(val, value)):\n",
    "            return key\n",
    "    return \"Key doesn't exist\"\n",
    "\n",
    "def get_encoded_target(layout, layoutdict):\n",
    "    key = get_key(layout, layoutdict)\n",
    "    encoded = np.zeros(120, dtype=int)\n",
    "    encoded[key] = 1\n",
    "    return encoded\n",
    "\n",
    "\n",
    "def get_new_target_element(qc, layoutdict, backend):\n",
    "    layout = get_new_layout(qc, backend)\n",
    "    target = get_encoded_target(layout, layoutdict)\n",
    "    \n",
    "    return target"
   ]
  },
  {
   "cell_type": "code",
   "execution_count": 7,
   "id": "13d910b0",
   "metadata": {},
   "outputs": [
    {
     "name": "stdout",
     "output_type": "stream",
     "text": [
      "[2 3 1 4 0]\n"
     ]
    }
   ],
   "source": [
    "layout = get_new_layout(qc, backend)\n",
    "print(layout)"
   ]
  },
  {
   "cell_type": "code",
   "execution_count": 8,
   "id": "bf152efe",
   "metadata": {},
   "outputs": [],
   "source": [
    "layouts = np.array([0, 1, 2, 3, 4])\n",
    "arr = []\n",
    "for p in multiset_permutations(layouts):\n",
    "    arr.append(p)\n",
    "layoutdict = dict(enumerate(arr, 0))"
   ]
  },
  {
   "cell_type": "code",
   "execution_count": 9,
   "id": "edd47b2f",
   "metadata": {},
   "outputs": [
    {
     "name": "stdout",
     "output_type": "stream",
     "text": [
      "[0 0 0 0 0 0 0 0 0 0 0 0 0 0 0 0 0 0 0 0 0 0 0 0 0 0 0 0 0 0 0 0 0 0 0 0 0\n",
      " 0 0 0 0 0 0 0 0 0 0 0 0 0 0 0 0 0 0 0 0 0 0 0 0 0 0 1 0 0 0 0 0 0 0 0 0 0\n",
      " 0 0 0 0 0 0 0 0 0 0 0 0 0 0 0 0 0 0 0 0 0 0 0 0 0 0 0 0 0 0 0 0 0 0 0 0 0\n",
      " 0 0 0 0 0 0 0 0 0]\n"
     ]
    }
   ],
   "source": [
    "print(get_encoded_target(layout, layoutdict))"
   ]
  },
  {
   "cell_type": "code",
   "execution_count": 10,
   "id": "12bce01a",
   "metadata": {},
   "outputs": [],
   "source": [
    "#t = get_new_target_element(x_data0[0], layoutdict, backend)\n",
    "#print(t)"
   ]
  },
  {
   "cell_type": "code",
   "execution_count": 11,
   "id": "238a1b7e",
   "metadata": {},
   "outputs": [],
   "source": [
    "def get_new_x_and_y_element(qubitno, layoutdict, backend):\n",
    "    qc = random_circuit(num_qubits=qubitno, depth=random.randint(4,10))\n",
    "    x_element = get_training_element(qc)\n",
    "    y_element = get_new_target_element(qc=qc, layoutdict=layoutdict, backend=backend)\n",
    "    return x_element, y_element"
   ]
  },
  {
   "cell_type": "code",
   "execution_count": 12,
   "id": "136ebac8",
   "metadata": {},
   "outputs": [
    {
     "name": "stdout",
     "output_type": "stream",
     "text": [
      "[1 2 4 0 2 1 3 0 1 2 0 3 3 4 2 0 4 3 2 1 2 3 4 1]\n",
      "[0 0 0 0 0 0 0 0 0 0 0 0 0 0 0 0 0 0 0 0 0 0 0 0 0 0 0 0 0 0 0 0 0 0 0 0 0\n",
      " 0 0 0 0 0 0 0 0 0 1 0 0 0 0 0 0 0 0 0 0 0 0 0 0 0 0 0 0 0 0 0 0 0 0 0 0 0\n",
      " 0 0 0 0 0 0 0 0 0 0 0 0 0 0 0 0 0 0 0 0 0 0 0 0 0 0 0 0 0 0 0 0 0 0 0 0 0\n",
      " 0 0 0 0 0 0 0 0 0]\n"
     ]
    }
   ],
   "source": [
    "x, y = get_new_x_and_y_element(qubitno=5, layoutdict=layoutdict, backend=backend)\n",
    "print(x)\n",
    "print(y)"
   ]
  },
  {
   "cell_type": "code",
   "execution_count": 13,
   "id": "8bfc16be",
   "metadata": {},
   "outputs": [],
   "source": [
    "def get_new_x_and_y_data(datasetsize, qubitno, layoutdict, backend):\n",
    "    x_data = []\n",
    "    y_data = []\n",
    "    for i in range(datasetsize):\n",
    "        x_element, y_element = get_new_x_and_y_element(qubitno, layoutdict, backend)\n",
    "        x_data.append(x_element)\n",
    "        y_data.append(y_element)\n",
    "        if(i%100 == 0):\n",
    "            print(\"Iteration\", i)\n",
    "        \n",
    "    max_length = max(len(row) for row in x_data)\n",
    "    x_data = np.array([np.pad(row, (0, max_length-len(row))) for row in x_data])\n",
    "    y_data = np.array(y_data)\n",
    "    \n",
    "    return x_data, y_data"
   ]
  },
  {
   "cell_type": "code",
   "execution_count": 14,
   "id": "030749cb",
   "metadata": {},
   "outputs": [],
   "source": [
    "x, y = get_new_x_and_y_data(datasetsize=10000, qubitno=5, layoutdict=layoutdict, backend=backend)"
   ]
  },
  {
   "cell_type": "code",
   "execution_count": 16,
   "id": "ec714482",
   "metadata": {},
   "outputs": [],
   "source": [
    "np.savetxt('x_data0.txt', x, fmt='%d')\n",
    "np.savetxt('y_data0.txt', y, fmt='%d')"
   ]
  },
  {
   "cell_type": "code",
   "execution_count": null,
   "id": "04d37be9",
   "metadata": {},
   "outputs": [],
   "source": []
  }
 ],
 "metadata": {
  "kernelspec": {
   "display_name": "Python 3 (ipykernel)",
   "language": "python",
   "name": "python3"
  },
  "language_info": {
   "codemirror_mode": {
    "name": "ipython",
    "version": 3
   },
   "file_extension": ".py",
   "mimetype": "text/x-python",
   "name": "python",
   "nbconvert_exporter": "python",
   "pygments_lexer": "ipython3",
   "version": "3.9.7"
  }
 },
 "nbformat": 4,
 "nbformat_minor": 5
}
