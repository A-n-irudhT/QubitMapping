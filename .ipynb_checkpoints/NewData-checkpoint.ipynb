{
 "cells": [
  {
   "cell_type": "code",
   "execution_count": 1,
   "id": "961feace",
   "metadata": {},
   "outputs": [],
   "source": [
    "import numpy as np\n",
    "from utils import *\n",
    "from qiskit import *\n",
    "from qiskit import IBMQ\n",
    "import matplotlib.pyplot as plt\n",
    "from IPython.display import display\n",
    "from qiskit import QuantumCircuit, transpile\n",
    "from sympy.utilities.iterables import multiset_permutations\n",
    "from qiskit.circuit import QuantumRegister, ClassicalRegister, QuantumCircuit"
   ]
  },
  {
   "cell_type": "code",
   "execution_count": 2,
   "id": "08092d63",
   "metadata": {},
   "outputs": [],
   "source": [
    "IBMQ.save_account('de404b7eba21afacf3e900bcd1cc1244967cecad8f7051683e08ff88d444aee2e6cb029f51036d2eb8efd6f18bd04acf5d9bc0891891ebe4c1bb1ab062f7741b', overwrite=True)\n",
    "IBMQ.load_account()\n",
    "\n",
    "my_provider = IBMQ.get_provider()\n",
    "backend  = my_provider.get_backend('ibmq_lima')"
   ]
  },
  {
   "cell_type": "code",
   "execution_count": 3,
   "id": "5435c42b",
   "metadata": {},
   "outputs": [
    {
     "name": "stdout",
     "output_type": "stream",
     "text": [
      "Iteration 1\n"
     ]
    }
   ],
   "source": [
    "x_data, y_data = get_traindata_and_targetdata(datasetsize=5, qubitno=5, backend=backend)"
   ]
  },
  {
   "cell_type": "code",
   "execution_count": 4,
   "id": "77e04531",
   "metadata": {},
   "outputs": [
    {
     "name": "stdout",
     "output_type": "stream",
     "text": [
      "[[3 2 4 0 1 4 0 3 0 1 4 2 1 3 2 0 1 4 2 3 3 2 0 1 0 2 4 3 3 0 4 1 4 0 3 2\n",
      "  3 1 2 4 1 3 2 4 3 1 0 4 4 2 0 3 1 3 0 2 0 0 0 0 0 0 0 0]\n",
      " [0 1 3 2 2 3 0 4 3 0 1 2 3 1 4 0 4 3 1 0 3 2 4 0 1 0 2 4 2 3 1 4 0 2 3 1\n",
      "  2 4 0 3 2 3 4 1 4 3 2 1 0 1 4 2 2 4 3 1 4 1 2 3 2 0 3 4]\n",
      " [4 1 3 2 2 1 3 4 0 4 2 1 1 3 0 2 1 0 2 3 2 4 0 3 1 3 0 4 4 1 2 3 1 3 2 0\n",
      "  2 4 1 0 1 2 4 0 0 1 4 2 4 1 2 3 3 0 2 4 1 3 0 2 0 0 0 0]\n",
      " [4 0 1 2 4 0 3 2 4 0 1 3 2 4 1 0 3 4 1 2 4 3 2 0 1 0 4 3 4 2 3 0 1 3 0 4\n",
      "  0 0 0 0 0 0 0 0 0 0 0 0 0 0 0 0 0 0 0 0 0 0 0 0 0 0 0 0]\n",
      " [3 0 4 2 2 4 1 0 2 0 3 4 3 2 4 0 2 3 0 4 3 2 4 1 0 1 3 2 2 3 1 4 3 4 2 0\n",
      "  3 4 2 0 4 3 2 1 0 2 1 3 3 0 2 4 0 2 4 1 0 0 0 0 0 0 0 0]]\n",
      "[0 0 0 0 0 0 0 0 0 0 0 0 0 0 1 0 0 0 1 0 1 0 0 0 0 0 0 0 0 0 0 0 1 0 0 0 0\n",
      " 0 0 0 0 0 0 0 0 0 0 0 0 0 0 0 0 0 0 0 0 0 0 0 1 0 0 0 0 0 0 0 0 0 0 0 0 1\n",
      " 1 0 0 0 0 0 1 0 0 0 1 0 0 0 0 0 0 0 0 0 0 0 0 0 0 0 0 0 0 0 0 0 0 0 0 0 0\n",
      " 0 0 0 0 0 0 0 0 0]\n"
     ]
    }
   ],
   "source": [
    "print(x_data[0])\n",
    "print(y_data[0])"
   ]
  },
  {
   "cell_type": "code",
   "execution_count": 5,
   "id": "8bb1be4a",
   "metadata": {},
   "outputs": [],
   "source": [
    "np.savetxt('x_data0.txt', x_data, fmt='%d')\n",
    "np.savetxt('y_data0.txt', y_data, fmt='%d')"
   ]
  },
  {
   "cell_type": "code",
   "execution_count": null,
   "id": "c212ec18",
   "metadata": {},
   "outputs": [],
   "source": []
  }
 ],
 "metadata": {
  "kernelspec": {
   "display_name": "Python 3 (ipykernel)",
   "language": "python",
   "name": "python3"
  },
  "language_info": {
   "codemirror_mode": {
    "name": "ipython",
    "version": 3
   },
   "file_extension": ".py",
   "mimetype": "text/x-python",
   "name": "python",
   "nbconvert_exporter": "python",
   "pygments_lexer": "ipython3",
   "version": "3.9.7"
  }
 },
 "nbformat": 4,
 "nbformat_minor": 5
}
