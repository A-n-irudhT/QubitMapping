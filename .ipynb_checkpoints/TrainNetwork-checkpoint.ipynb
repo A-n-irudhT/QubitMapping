{
 "cells": [
  {
   "cell_type": "code",
   "execution_count": null,
   "id": "c3692888",
   "metadata": {
    "scrolled": false
   },
   "outputs": [],
   "source": [
    "import numpy as np\n",
    "import pandas as pd\n",
    "import tensorflow as tf\n",
    "from sklearn import metrics\n",
    "import matplotlib.pyplot as plt\n",
    "import tensorflow.keras.backend as K\n",
    "from sklearn.metrics import accuracy_score\n",
    "from tensorflow.keras.models import Sequential\n",
    "from tensorflow.keras.layers import Dense, Dropout\n",
    "from sklearn.model_selection import train_test_split\n",
    "from tensorflow.keras import datasets, layers, models\n",
    "from tensorflow.keras.optimizers import SGD, Adam, RMSprop\n",
    "from sympy.utilities.iterables import multiset_permutations"
   ]
  },
  {
   "cell_type": "code",
   "execution_count": null,
   "id": "d43729c6",
   "metadata": {
    "scrolled": false
   },
   "outputs": [],
   "source": [
    "x_data0 = np.loadtxt('x_data.txt', dtype=int)\n",
    "x_data1 = np.loadtxt('x_data1.txt', dtype=int)\n",
    "x_data2 = np.loadtxt('x_data2.txt', dtype=int)\n",
    "\n",
    "y_data0 = np.loadtxt('y_data.txt', dtype=int)\n",
    "y_data1 = np.loadtxt('y_data1.txt', dtype=int)\n",
    "y_data2 = np.loadtxt('y_data2.txt', dtype=int)\n",
    "\n",
    "x_data = np.concatenate((x_data0, x_data1, x_data2))\n",
    "y_data = np.concatenate((y_data0, y_data1, y_data2))"
   ]
  },
  {
   "cell_type": "code",
   "execution_count": null,
   "id": "f82b35c6",
   "metadata": {},
   "outputs": [],
   "source": [
    "print(np.shape(x_data0))\n",
    "print(np.shape(x_data))\n",
    "print(np.shape(y_data0))\n",
    "print(np.shape(y_data))"
   ]
  },
  {
   "cell_type": "code",
   "execution_count": null,
   "id": "13007dee",
   "metadata": {
    "scrolled": false
   },
   "outputs": [],
   "source": [
    "#x_train, x_test, y_train, y_test = train_test_split(x_data, y_data, test_size = 0.25)\n",
    "#size = np.shape(x_data)[1]"
   ]
  },
  {
   "cell_type": "code",
   "execution_count": null,
   "id": "e022e6f0",
   "metadata": {
    "scrolled": true
   },
   "outputs": [],
   "source": [
    "newx_data = []\n",
    "for i in range(np.shape(x_data)[0]):\n",
    "    newx_data.append(np.reshape(x_data[i], (20, 20, -1)))\n",
    "newx_data = np.array(newx_data)\n",
    "\n",
    "x_train, x_test, y_train, y_test = train_test_split(newx_data, y_data, test_size = 0.25)\n",
    "size = np.shape(x_train[0])"
   ]
  },
  {
   "cell_type": "code",
   "execution_count": null,
   "id": "e15cecab",
   "metadata": {
    "scrolled": false
   },
   "outputs": [],
   "source": [
    "#model = Sequential()\n",
    "#model.add(Dense(160, input_shape=(size,), activation = \"relu\"))\n",
    "#model.add(Dense(64, activation = \"relu\"))\n",
    "#model.add(Dense(120, activation = \"softmax\"))\n",
    "\n",
    "#opt = Adam(learning_rate=0.01)\n",
    "#model.compile(optimizer= opt, loss='categorical_crossentropy', metrics=['accuracy'])\n",
    "#model.summary()"
   ]
  },
  {
   "cell_type": "code",
   "execution_count": null,
   "id": "01234b25",
   "metadata": {
    "scrolled": true
   },
   "outputs": [],
   "source": [
    "#history = model.fit(x_train, y_train, epochs=100, verbose=True, validation_data=(x_test, y_test))"
   ]
  },
  {
   "cell_type": "code",
   "execution_count": null,
   "id": "500a8268",
   "metadata": {
    "scrolled": true
   },
   "outputs": [],
   "source": [
    "#plt.plot(history.history['accuracy'])\n",
    "#plt.plot(history.history['val_accuracy'])\n",
    "#plt.title('Model Accuracy')\n",
    "#plt.ylabel('Accuracy')\n",
    "#plt.xlabel('Epoch')\n",
    "#plt.legend(['Training', 'Validation'], loc='best')\n",
    "#plt.show()"
   ]
  },
  {
   "cell_type": "code",
   "execution_count": null,
   "id": "6551f588",
   "metadata": {
    "scrolled": false
   },
   "outputs": [],
   "source": [
    "layouts = np.array([-1, 0, 1, 2, 3])\n",
    "k = []\n",
    "for p in multiset_permutations(layouts):\n",
    "    k.append(p)\n",
    "layoutdict = dict(enumerate(k, 0))\n",
    "\n",
    "encoded = np.empty(np.shape(y_data)[0], dtype=int)\n",
    "for i in range(np.shape(y_data)[0]):\n",
    "    for j in range(120):\n",
    "        if(y_data[i][j] == 1):\n",
    "            encoded[i] = j\n",
    "\n",
    "def findencoded(y_pred):\n",
    "    for j in range(120):\n",
    "        if(y_pred[j] == 1):\n",
    "            return j\n",
    "\n",
    "def wrapper(layoutdict, encoded):\n",
    "    def customloss(y_true, y_pred):\n",
    "        diff = math_ops.squared_difference(y_pred, y_true)\n",
    "        loss = K.mean(diff, axis=-1)\n",
    "        return loss\n",
    "    return customloss"
   ]
  },
  {
   "cell_type": "code",
   "execution_count": null,
   "id": "c7227310",
   "metadata": {
    "scrolled": false
   },
   "outputs": [],
   "source": [
    "model = models.Sequential()\n",
    "model.add(layers.Conv2D(32, (2, 2), activation='relu', input_shape=size))\n",
    "model.add(layers.MaxPooling2D((2, 2)))\n",
    "model.add(layers.Conv2D(32, (1, 1), activation='relu'))\n",
    "model.add(layers.Flatten())\n",
    "model.add(layers.Dense(64, activation='relu'))\n",
    "model.add(layers.Dense(120))\n",
    "          \n",
    "model.compile(optimizer='sgd', loss=tf.keras.losses.CategoricalCrossentropy(from_logits=True), metrics=['accuracy'])          "
   ]
  },
  {
   "cell_type": "code",
   "execution_count": null,
   "id": "ae3cdfe0",
   "metadata": {
    "scrolled": true
   },
   "outputs": [],
   "source": [
    "history = model.fit(x_train, y_train, epochs=100, verbose=True, validation_data=(x_test, y_test))"
   ]
  },
  {
   "cell_type": "code",
   "execution_count": null,
   "id": "4ae2f76e",
   "metadata": {
    "scrolled": true
   },
   "outputs": [],
   "source": [
    "plt.plot(history.history['accuracy'])\n",
    "plt.plot(history.history['val_accuracy'])\n",
    "plt.title('Model Accuracy')\n",
    "plt.ylabel('Accuracy')\n",
    "plt.xlabel('Epoch')\n",
    "plt.legend(['Training', 'Validation'], loc='best')\n",
    "plt.show()"
   ]
  },
  {
   "cell_type": "code",
   "execution_count": null,
   "id": "2fadaa0f",
   "metadata": {
    "scrolled": false
   },
   "outputs": [],
   "source": []
  }
 ],
 "metadata": {
  "kernelspec": {
   "display_name": "Python 3 (ipykernel)",
   "language": "python",
   "name": "python3"
  },
  "language_info": {
   "codemirror_mode": {
    "name": "ipython",
    "version": 3
   },
   "file_extension": ".py",
   "mimetype": "text/x-python",
   "name": "python",
   "nbconvert_exporter": "python",
   "pygments_lexer": "ipython3",
   "version": "3.9.7"
  }
 },
 "nbformat": 4,
 "nbformat_minor": 5
}
