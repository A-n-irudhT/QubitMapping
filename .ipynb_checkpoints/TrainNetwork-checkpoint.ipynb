{
 "cells": [
  {
   "cell_type": "code",
   "execution_count": 1,
   "id": "c3692888",
   "metadata": {
    "scrolled": false
   },
   "outputs": [],
   "source": [
    "import numpy as np\n",
    "import tensorflow as tf\n",
    "import matplotlib.pyplot as plt\n",
    "from sklearn import preprocessing\n",
    "from tensorflow.keras import layers, models\n",
    "from tensorflow.keras.models import Sequential\n",
    "from tensorflow.keras.optimizers import SGD, Adam\n",
    "from sklearn.model_selection import train_test_split\n",
    "from tensorflow.keras.layers import Input, Dense, Dropout\n",
    "from sympy.utilities.iterables import multiset_permutations"
   ]
  },
  {
   "cell_type": "code",
   "execution_count": 2,
   "id": "d43729c6",
   "metadata": {
    "scrolled": false
   },
   "outputs": [],
   "source": [
    "x_data = np.loadtxt('x_data.txt', dtype=int)\n",
    "#x_data1 = np.loadtxt('x_data1.txt', dtype=int)\n",
    "#x_data2 = np.loadtxt('x_data2.txt', dtype=int)\n",
    "\n",
    "y_data = np.loadtxt('y_data.txt', dtype=int)\n",
    "#y_data1 = np.loadtxt('y_data1.txt', dtype=int)\n",
    "#y_data2 = np.loadtxt('y_data2.txt', dtype=int)"
   ]
  },
  {
   "cell_type": "code",
   "execution_count": 3,
   "id": "7f7ecc12",
   "metadata": {},
   "outputs": [
    {
     "name": "stdout",
     "output_type": "stream",
     "text": [
      "(200, 40)\n"
     ]
    }
   ],
   "source": [
    "print(np.shape(x_data))\n",
    "#print(np.shape(x_data1))\n",
    "#print(np.shape(x_data2))"
   ]
  },
  {
   "cell_type": "code",
   "execution_count": 4,
   "id": "52b10fff",
   "metadata": {},
   "outputs": [
    {
     "name": "stdout",
     "output_type": "stream",
     "text": [
      "[4 1 0 2 2 3 4 0 0 0 0 0 0 0 0 0 0 0 0 0 0 0 0 0 0 0 0 0 0 0 0 0 0 0 0 0 0\n",
      " 0 0 0]\n"
     ]
    }
   ],
   "source": [
    "print(x_data[0])\n",
    "#print(x_data1[0])\n",
    "#print(x_data2[0])"
   ]
  },
  {
   "cell_type": "code",
   "execution_count": 5,
   "id": "e1018d94",
   "metadata": {},
   "outputs": [],
   "source": [
    "#x_data = np.concatenate((x_data0, x_data1, x_data2))\n",
    "#y_data = np.concatenate((y_data0, y_data1, y_data2))\n",
    "\n",
    "x_data = preprocessing.normalize(x_data)\n",
    "x_train, x_test, y_train, y_test = train_test_split(x_data, y_data, test_size = 0.2)\n",
    "size = np.shape(x_data)[1]"
   ]
  },
  {
   "cell_type": "code",
   "execution_count": 6,
   "id": "e15cecab",
   "metadata": {
    "scrolled": false
   },
   "outputs": [
    {
     "name": "stdout",
     "output_type": "stream",
     "text": [
      "Model: \"sequential\"\n",
      "_________________________________________________________________\n",
      " Layer (type)                Output Shape              Param #   \n",
      "=================================================================\n",
      " dense (Dense)               (None, 64)                2624      \n",
      "                                                                 \n",
      " dense_1 (Dense)             (None, 128)               8320      \n",
      "                                                                 \n",
      " dense_2 (Dense)             (None, 120)               15480     \n",
      "                                                                 \n",
      "=================================================================\n",
      "Total params: 26,424\n",
      "Trainable params: 26,424\n",
      "Non-trainable params: 0\n",
      "_________________________________________________________________\n"
     ]
    }
   ],
   "source": [
    "model = Sequential()\n",
    "model.add(Dense(64, input_shape=(size,), activation = \"relu\"))\n",
    "model.add(Dense(128, activation = \"relu\"))\n",
    "model.add(Dense(120))\n",
    "\n",
    "opt = Adam(learning_rate=0.001)\n",
    "model.compile(optimizer= opt, loss='categorical_crossentropy', metrics=['accuracy'])\n",
    "model.summary()"
   ]
  },
  {
   "cell_type": "code",
   "execution_count": 7,
   "id": "01234b25",
   "metadata": {
    "scrolled": true
   },
   "outputs": [
    {
     "name": "stdout",
     "output_type": "stream",
     "text": [
      "Epoch 1/100\n",
      "5/5 [==============================] - 1s 40ms/step - loss: 128.7375 - accuracy: 0.0063 - val_loss: 142.7427 - val_accuracy: 0.0000e+00\n",
      "Epoch 2/100\n",
      "5/5 [==============================] - 0s 12ms/step - loss: 126.0277 - accuracy: 0.0063 - val_loss: 135.1303 - val_accuracy: 0.0000e+00\n",
      "Epoch 3/100\n",
      "5/5 [==============================] - 0s 11ms/step - loss: 120.8688 - accuracy: 0.0063 - val_loss: 143.3386 - val_accuracy: 0.0000e+00\n",
      "Epoch 4/100\n",
      "5/5 [==============================] - 0s 10ms/step - loss: 126.0471 - accuracy: 0.0063 - val_loss: 137.5608 - val_accuracy: 0.0250\n",
      "Epoch 5/100\n",
      "5/5 [==============================] - 0s 11ms/step - loss: 125.7653 - accuracy: 0.0063 - val_loss: 145.7469 - val_accuracy: 0.0250\n",
      "Epoch 6/100\n",
      "5/5 [==============================] - 0s 11ms/step - loss: 129.2746 - accuracy: 0.0125 - val_loss: 144.1673 - val_accuracy: 0.0250\n",
      "Epoch 7/100\n",
      "5/5 [==============================] - 0s 10ms/step - loss: 125.3483 - accuracy: 0.0250 - val_loss: 141.2529 - val_accuracy: 0.0500\n",
      "Epoch 8/100\n",
      "5/5 [==============================] - 0s 11ms/step - loss: 130.4197 - accuracy: 0.0250 - val_loss: 145.8979 - val_accuracy: 0.0250\n",
      "Epoch 9/100\n",
      "5/5 [==============================] - 0s 10ms/step - loss: 129.1974 - accuracy: 0.0250 - val_loss: 143.7706 - val_accuracy: 0.0250\n",
      "Epoch 10/100\n",
      "5/5 [==============================] - 0s 10ms/step - loss: 122.7868 - accuracy: 0.0250 - val_loss: 143.3119 - val_accuracy: 0.0500\n",
      "Epoch 11/100\n",
      "5/5 [==============================] - 0s 11ms/step - loss: 127.8531 - accuracy: 0.0312 - val_loss: 145.5976 - val_accuracy: 0.0500\n",
      "Epoch 12/100\n",
      "5/5 [==============================] - 0s 10ms/step - loss: 123.8623 - accuracy: 0.0312 - val_loss: 139.2987 - val_accuracy: 0.0250\n",
      "Epoch 13/100\n",
      "5/5 [==============================] - 0s 10ms/step - loss: 116.1576 - accuracy: 0.0312 - val_loss: 141.5449 - val_accuracy: 0.0250\n",
      "Epoch 14/100\n",
      "5/5 [==============================] - 0s 11ms/step - loss: 120.4332 - accuracy: 0.0250 - val_loss: 138.6025 - val_accuracy: 0.0500\n",
      "Epoch 15/100\n",
      "5/5 [==============================] - 0s 11ms/step - loss: 121.7257 - accuracy: 0.0375 - val_loss: 138.8479 - val_accuracy: 0.0500\n",
      "Epoch 16/100\n",
      "5/5 [==============================] - 0s 12ms/step - loss: 118.4418 - accuracy: 0.0312 - val_loss: 136.8551 - val_accuracy: 0.0500\n",
      "Epoch 17/100\n",
      "5/5 [==============================] - 0s 12ms/step - loss: 119.2695 - accuracy: 0.0312 - val_loss: 138.0411 - val_accuracy: 0.0500\n",
      "Epoch 18/100\n",
      "5/5 [==============================] - 0s 11ms/step - loss: 119.6710 - accuracy: 0.0312 - val_loss: 135.7256 - val_accuracy: 0.0500\n",
      "Epoch 19/100\n",
      "5/5 [==============================] - 0s 13ms/step - loss: 117.8747 - accuracy: 0.0312 - val_loss: 139.8140 - val_accuracy: 0.0500\n",
      "Epoch 20/100\n",
      "5/5 [==============================] - 0s 11ms/step - loss: 118.3323 - accuracy: 0.0375 - val_loss: 133.3386 - val_accuracy: 0.0500\n",
      "Epoch 21/100\n",
      "5/5 [==============================] - 0s 9ms/step - loss: 121.1757 - accuracy: 0.0250 - val_loss: 136.0641 - val_accuracy: 0.0250\n",
      "Epoch 22/100\n",
      "5/5 [==============================] - 0s 10ms/step - loss: 120.0292 - accuracy: 0.0125 - val_loss: 132.8817 - val_accuracy: 0.0000e+00\n",
      "Epoch 23/100\n",
      "5/5 [==============================] - 0s 10ms/step - loss: 113.9782 - accuracy: 0.0063 - val_loss: 133.2374 - val_accuracy: 0.0000e+00\n",
      "Epoch 24/100\n",
      "5/5 [==============================] - 0s 10ms/step - loss: 117.7673 - accuracy: 0.0063 - val_loss: 131.7755 - val_accuracy: 0.0000e+00\n",
      "Epoch 25/100\n",
      "5/5 [==============================] - 0s 9ms/step - loss: 120.4027 - accuracy: 0.0063 - val_loss: 137.4983 - val_accuracy: 0.0000e+00\n",
      "Epoch 26/100\n",
      "5/5 [==============================] - 0s 10ms/step - loss: 120.2476 - accuracy: 0.0063 - val_loss: 137.6998 - val_accuracy: 0.0000e+00\n",
      "Epoch 27/100\n",
      "5/5 [==============================] - 0s 10ms/step - loss: 118.3729 - accuracy: 0.0063 - val_loss: 140.4230 - val_accuracy: 0.0000e+00\n",
      "Epoch 28/100\n",
      "5/5 [==============================] - 0s 10ms/step - loss: 116.4305 - accuracy: 0.0063 - val_loss: 138.9817 - val_accuracy: 0.0000e+00\n",
      "Epoch 29/100\n",
      "5/5 [==============================] - 0s 10ms/step - loss: 116.3701 - accuracy: 0.0063 - val_loss: 141.1494 - val_accuracy: 0.0000e+00\n",
      "Epoch 30/100\n",
      "5/5 [==============================] - 0s 11ms/step - loss: 115.6075 - accuracy: 0.0063 - val_loss: 140.3826 - val_accuracy: 0.0000e+00\n",
      "Epoch 31/100\n",
      "5/5 [==============================] - 0s 10ms/step - loss: 113.9602 - accuracy: 0.0063 - val_loss: 142.1368 - val_accuracy: 0.0000e+00\n",
      "Epoch 32/100\n",
      "5/5 [==============================] - 0s 11ms/step - loss: 116.3475 - accuracy: 0.0063 - val_loss: 140.4882 - val_accuracy: 0.0000e+00\n",
      "Epoch 33/100\n",
      "5/5 [==============================] - 0s 10ms/step - loss: 117.6512 - accuracy: 0.0063 - val_loss: 138.3577 - val_accuracy: 0.0000e+00\n",
      "Epoch 34/100\n",
      "5/5 [==============================] - 0s 11ms/step - loss: 122.9668 - accuracy: 0.0063 - val_loss: 137.0324 - val_accuracy: 0.0000e+00\n",
      "Epoch 35/100\n",
      "5/5 [==============================] - 0s 11ms/step - loss: 122.7738 - accuracy: 0.0063 - val_loss: 134.4352 - val_accuracy: 0.0000e+00\n",
      "Epoch 36/100\n",
      "5/5 [==============================] - 0s 11ms/step - loss: 118.6095 - accuracy: 0.0063 - val_loss: 134.1590 - val_accuracy: 0.0000e+00\n",
      "Epoch 37/100\n",
      "5/5 [==============================] - 0s 10ms/step - loss: 120.7327 - accuracy: 0.0063 - val_loss: 137.9605 - val_accuracy: 0.0000e+00\n",
      "Epoch 38/100\n",
      "5/5 [==============================] - 0s 11ms/step - loss: 119.1004 - accuracy: 0.0063 - val_loss: 137.3535 - val_accuracy: 0.0000e+00\n",
      "Epoch 39/100\n",
      "5/5 [==============================] - 0s 10ms/step - loss: 118.0810 - accuracy: 0.0063 - val_loss: 137.7838 - val_accuracy: 0.0000e+00\n",
      "Epoch 40/100\n",
      "5/5 [==============================] - 0s 11ms/step - loss: 120.7991 - accuracy: 0.0063 - val_loss: 138.2058 - val_accuracy: 0.0000e+00\n",
      "Epoch 41/100\n",
      "5/5 [==============================] - 0s 11ms/step - loss: 121.1938 - accuracy: 0.0063 - val_loss: 137.5395 - val_accuracy: 0.0000e+00\n",
      "Epoch 42/100\n",
      "5/5 [==============================] - 0s 10ms/step - loss: 121.8645 - accuracy: 0.0063 - val_loss: 134.9396 - val_accuracy: 0.0000e+00\n",
      "Epoch 43/100\n",
      "5/5 [==============================] - 0s 11ms/step - loss: 119.0016 - accuracy: 0.0063 - val_loss: 137.6599 - val_accuracy: 0.0000e+00\n",
      "Epoch 44/100\n",
      "5/5 [==============================] - 0s 10ms/step - loss: 119.0776 - accuracy: 0.0063 - val_loss: 136.4026 - val_accuracy: 0.0000e+00\n",
      "Epoch 45/100\n",
      "5/5 [==============================] - 0s 11ms/step - loss: 119.4563 - accuracy: 0.0125 - val_loss: 142.9615 - val_accuracy: 0.0000e+00\n",
      "Epoch 46/100\n",
      "5/5 [==============================] - 0s 10ms/step - loss: 120.3527 - accuracy: 0.0125 - val_loss: 136.3562 - val_accuracy: 0.0000e+00\n",
      "Epoch 47/100\n",
      "5/5 [==============================] - 0s 10ms/step - loss: 117.9064 - accuracy: 0.0125 - val_loss: 136.3437 - val_accuracy: 0.0000e+00\n",
      "Epoch 48/100\n",
      "5/5 [==============================] - 0s 11ms/step - loss: 121.3429 - accuracy: 0.0125 - val_loss: 134.7750 - val_accuracy: 0.0000e+00\n",
      "Epoch 49/100\n",
      "5/5 [==============================] - 0s 10ms/step - loss: 116.5148 - accuracy: 0.0125 - val_loss: 138.5886 - val_accuracy: 0.0000e+00\n",
      "Epoch 50/100\n",
      "5/5 [==============================] - 0s 10ms/step - loss: 119.5522 - accuracy: 0.0125 - val_loss: 134.8387 - val_accuracy: 0.0000e+00\n",
      "Epoch 51/100\n",
      "5/5 [==============================] - 0s 11ms/step - loss: 114.0900 - accuracy: 0.0125 - val_loss: 134.1377 - val_accuracy: 0.0000e+00\n",
      "Epoch 52/100\n",
      "5/5 [==============================] - 0s 10ms/step - loss: 116.6961 - accuracy: 0.0125 - val_loss: 135.8708 - val_accuracy: 0.0000e+00\n",
      "Epoch 53/100\n",
      "5/5 [==============================] - 0s 11ms/step - loss: 116.5146 - accuracy: 0.0125 - val_loss: 134.6312 - val_accuracy: 0.0000e+00\n",
      "Epoch 54/100\n",
      "5/5 [==============================] - 0s 10ms/step - loss: 111.9898 - accuracy: 0.0125 - val_loss: 141.1707 - val_accuracy: 0.0000e+00\n",
      "Epoch 55/100\n",
      "5/5 [==============================] - 0s 10ms/step - loss: 118.8341 - accuracy: 0.0125 - val_loss: 141.6773 - val_accuracy: 0.0000e+00\n",
      "Epoch 56/100\n"
     ]
    },
    {
     "name": "stdout",
     "output_type": "stream",
     "text": [
      "5/5 [==============================] - 0s 10ms/step - loss: 118.8867 - accuracy: 0.0125 - val_loss: 138.7837 - val_accuracy: 0.0000e+00\n",
      "Epoch 57/100\n",
      "5/5 [==============================] - 0s 10ms/step - loss: 122.6986 - accuracy: 0.0125 - val_loss: 140.5679 - val_accuracy: 0.0000e+00\n",
      "Epoch 58/100\n",
      "5/5 [==============================] - 0s 10ms/step - loss: 117.6894 - accuracy: 0.0125 - val_loss: 134.6425 - val_accuracy: 0.0000e+00\n",
      "Epoch 59/100\n",
      "5/5 [==============================] - 0s 10ms/step - loss: 118.2761 - accuracy: 0.0125 - val_loss: 136.7716 - val_accuracy: 0.0000e+00\n",
      "Epoch 60/100\n",
      "5/5 [==============================] - 0s 10ms/step - loss: 119.4517 - accuracy: 0.0125 - val_loss: 135.6281 - val_accuracy: 0.0000e+00\n",
      "Epoch 61/100\n",
      "5/5 [==============================] - 0s 10ms/step - loss: 117.5073 - accuracy: 0.0125 - val_loss: 138.7121 - val_accuracy: 0.0000e+00\n",
      "Epoch 62/100\n",
      "5/5 [==============================] - 0s 10ms/step - loss: 118.9113 - accuracy: 0.0125 - val_loss: 140.5976 - val_accuracy: 0.0000e+00\n",
      "Epoch 63/100\n",
      "5/5 [==============================] - 0s 11ms/step - loss: 114.3395 - accuracy: 0.0125 - val_loss: 139.7835 - val_accuracy: 0.0000e+00\n",
      "Epoch 64/100\n",
      "5/5 [==============================] - 0s 10ms/step - loss: 118.4813 - accuracy: 0.0125 - val_loss: 139.3571 - val_accuracy: 0.0000e+00\n",
      "Epoch 65/100\n",
      "5/5 [==============================] - 0s 10ms/step - loss: 120.0239 - accuracy: 0.0125 - val_loss: 138.2515 - val_accuracy: 0.0000e+00\n",
      "Epoch 66/100\n",
      "5/5 [==============================] - 0s 10ms/step - loss: 120.8451 - accuracy: 0.0125 - val_loss: 137.0047 - val_accuracy: 0.0000e+00\n",
      "Epoch 67/100\n",
      "5/5 [==============================] - 0s 10ms/step - loss: 122.7995 - accuracy: 0.0125 - val_loss: 138.9565 - val_accuracy: 0.0000e+00\n",
      "Epoch 68/100\n",
      "5/5 [==============================] - 0s 11ms/step - loss: 121.0272 - accuracy: 0.0125 - val_loss: 135.6729 - val_accuracy: 0.0000e+00\n",
      "Epoch 69/100\n",
      "5/5 [==============================] - 0s 11ms/step - loss: 122.5268 - accuracy: 0.0125 - val_loss: 136.9141 - val_accuracy: 0.0000e+00\n",
      "Epoch 70/100\n",
      "5/5 [==============================] - 0s 11ms/step - loss: 118.2154 - accuracy: 0.0125 - val_loss: 137.8311 - val_accuracy: 0.0000e+00\n",
      "Epoch 71/100\n",
      "5/5 [==============================] - 0s 10ms/step - loss: 119.8911 - accuracy: 0.0125 - val_loss: 135.8170 - val_accuracy: 0.0000e+00\n",
      "Epoch 72/100\n",
      "5/5 [==============================] - 0s 10ms/step - loss: 118.8082 - accuracy: 0.0125 - val_loss: 138.6236 - val_accuracy: 0.0000e+00\n",
      "Epoch 73/100\n",
      "5/5 [==============================] - 0s 10ms/step - loss: 123.2350 - accuracy: 0.0125 - val_loss: 135.7036 - val_accuracy: 0.0000e+00\n",
      "Epoch 74/100\n",
      "5/5 [==============================] - 0s 10ms/step - loss: 121.4267 - accuracy: 0.0125 - val_loss: 133.3842 - val_accuracy: 0.0000e+00\n",
      "Epoch 75/100\n",
      "5/5 [==============================] - 0s 10ms/step - loss: 120.7078 - accuracy: 0.0125 - val_loss: 137.3130 - val_accuracy: 0.0000e+00\n",
      "Epoch 76/100\n",
      "5/5 [==============================] - 0s 12ms/step - loss: 119.0836 - accuracy: 0.0125 - val_loss: 138.9310 - val_accuracy: 0.0000e+00\n",
      "Epoch 77/100\n",
      "5/5 [==============================] - 0s 10ms/step - loss: 119.9820 - accuracy: 0.0125 - val_loss: 140.8366 - val_accuracy: 0.0000e+00\n",
      "Epoch 78/100\n",
      "5/5 [==============================] - 0s 10ms/step - loss: 118.8865 - accuracy: 0.0125 - val_loss: 134.9471 - val_accuracy: 0.0000e+00\n",
      "Epoch 79/100\n",
      "5/5 [==============================] - 0s 11ms/step - loss: 118.2224 - accuracy: 0.0125 - val_loss: 136.0592 - val_accuracy: 0.0000e+00\n",
      "Epoch 80/100\n",
      "5/5 [==============================] - 0s 10ms/step - loss: 114.4626 - accuracy: 0.0125 - val_loss: 134.5819 - val_accuracy: 0.0000e+00\n",
      "Epoch 81/100\n",
      "5/5 [==============================] - 0s 9ms/step - loss: 120.2632 - accuracy: 0.0125 - val_loss: 136.5255 - val_accuracy: 0.0000e+00\n",
      "Epoch 82/100\n",
      "5/5 [==============================] - 0s 11ms/step - loss: 119.7505 - accuracy: 0.0125 - val_loss: 142.4296 - val_accuracy: 0.0000e+00\n",
      "Epoch 83/100\n",
      "5/5 [==============================] - 0s 11ms/step - loss: 119.7836 - accuracy: 0.0125 - val_loss: 142.5954 - val_accuracy: 0.0000e+00\n",
      "Epoch 84/100\n",
      "5/5 [==============================] - 0s 11ms/step - loss: 117.2951 - accuracy: 0.0125 - val_loss: 141.9984 - val_accuracy: 0.0000e+00\n",
      "Epoch 85/100\n",
      "5/5 [==============================] - 0s 11ms/step - loss: 121.6810 - accuracy: 0.0125 - val_loss: 142.6058 - val_accuracy: 0.0000e+00\n",
      "Epoch 86/100\n",
      "5/5 [==============================] - 0s 10ms/step - loss: 120.6489 - accuracy: 0.0125 - val_loss: 137.7064 - val_accuracy: 0.0000e+00\n",
      "Epoch 87/100\n",
      "5/5 [==============================] - 0s 11ms/step - loss: 118.8068 - accuracy: 0.0125 - val_loss: 140.9706 - val_accuracy: 0.0000e+00\n",
      "Epoch 88/100\n",
      "5/5 [==============================] - 0s 10ms/step - loss: 115.0623 - accuracy: 0.0125 - val_loss: 142.3351 - val_accuracy: 0.0000e+00\n",
      "Epoch 89/100\n",
      "5/5 [==============================] - 0s 10ms/step - loss: 118.1245 - accuracy: 0.0125 - val_loss: 138.0876 - val_accuracy: 0.0000e+00\n",
      "Epoch 90/100\n",
      "5/5 [==============================] - 0s 10ms/step - loss: 122.6383 - accuracy: 0.0125 - val_loss: 138.0839 - val_accuracy: 0.0000e+00\n",
      "Epoch 91/100\n",
      "5/5 [==============================] - 0s 10ms/step - loss: 117.1500 - accuracy: 0.0125 - val_loss: 138.5782 - val_accuracy: 0.0000e+00\n",
      "Epoch 92/100\n",
      "5/5 [==============================] - 0s 10ms/step - loss: 121.5820 - accuracy: 0.0125 - val_loss: 139.9461 - val_accuracy: 0.0000e+00\n",
      "Epoch 93/100\n",
      "5/5 [==============================] - 0s 10ms/step - loss: 119.4604 - accuracy: 0.0125 - val_loss: 134.4811 - val_accuracy: 0.0000e+00\n",
      "Epoch 94/100\n",
      "5/5 [==============================] - 0s 11ms/step - loss: 121.4030 - accuracy: 0.0125 - val_loss: 134.2569 - val_accuracy: 0.0000e+00\n",
      "Epoch 95/100\n",
      "5/5 [==============================] - 0s 10ms/step - loss: 120.0356 - accuracy: 0.0125 - val_loss: 139.3117 - val_accuracy: 0.0000e+00\n",
      "Epoch 96/100\n",
      "5/5 [==============================] - 0s 10ms/step - loss: 119.1155 - accuracy: 0.0125 - val_loss: 140.3792 - val_accuracy: 0.0000e+00\n",
      "Epoch 97/100\n",
      "5/5 [==============================] - 0s 10ms/step - loss: 123.3503 - accuracy: 0.0125 - val_loss: 139.6725 - val_accuracy: 0.0000e+00\n",
      "Epoch 98/100\n",
      "5/5 [==============================] - 0s 10ms/step - loss: 118.8028 - accuracy: 0.0125 - val_loss: 137.1950 - val_accuracy: 0.0000e+00\n",
      "Epoch 99/100\n",
      "5/5 [==============================] - 0s 10ms/step - loss: 122.1447 - accuracy: 0.0125 - val_loss: 140.0657 - val_accuracy: 0.0000e+00\n",
      "Epoch 100/100\n",
      "5/5 [==============================] - 0s 11ms/step - loss: 119.9043 - accuracy: 0.0125 - val_loss: 139.6583 - val_accuracy: 0.0000e+00\n"
     ]
    }
   ],
   "source": [
    "history = model.fit(x_train, y_train, epochs=100, verbose=True, validation_data=(x_test, y_test))"
   ]
  },
  {
   "cell_type": "code",
   "execution_count": 8,
   "id": "500a8268",
   "metadata": {
    "scrolled": true
   },
   "outputs": [
    {
     "data": {
      "image/png": "[encoded data removed]",
      "text/plain": [
       "<Figure size 432x288 with 1 Axes>"
      ]
     },
     "metadata": {
      "needs_background": "light"
     },
     "output_type": "display_data"
    }
   ],
   "source": [
    "plt.plot(history.history['accuracy'])\n",
    "plt.plot(history.history['val_accuracy'])\n",
    "plt.title('Model Accuracy')\n",
    "plt.ylabel('Accuracy')\n",
    "plt.xlabel('Epoch')\n",
    "plt.legend(['Training', 'Validation'], loc='best')\n",
    "plt.show()"
   ]
  },
  {
   "cell_type": "code",
   "execution_count": 9,
   "id": "c67d0585",
   "metadata": {},
   "outputs": [],
   "source": [
    "#newx_data = []\n",
    "#for i in range(np.shape(x_data)[0]):\n",
    "#    newx_data.append(np.reshape(x_data[i], (6, 3, -1)))\n",
    "#newx_data = np.array(newx_data)\n",
    "\n",
    "#x_train, x_test, y_train, y_test = train_test_split(newx_data, y_data, test_size = 0.25)\n",
    "#size = np.shape(x_train[0])"
   ]
  },
  {
   "cell_type": "code",
   "execution_count": 10,
   "id": "c7227310",
   "metadata": {
    "scrolled": false
   },
   "outputs": [],
   "source": [
    "#model = models.Sequential()\n",
    "#model.add(layers.Conv2D(32, (2, 2), activation='relu', input_shape=size))\n",
    "#model.add(layers.MaxPooling2D((2, 2)))\n",
    "#model.add(layers.Conv2D(32, (1, 1), activation='relu'))\n",
    "#model.add(layers.Flatten())\n",
    "#model.add(layers.Dense(64, activation='relu'))\n",
    "#model.add(layers.Dense(120))\n",
    "          \n",
    "#model.compile(optimizer='adam', loss=tf.keras.losses.CategoricalCrossentropy(from_logits=True), metrics=['accuracy'])\n",
    "#model.summary()"
   ]
  },
  {
   "cell_type": "code",
   "execution_count": 11,
   "id": "ae3cdfe0",
   "metadata": {
    "scrolled": true
   },
   "outputs": [],
   "source": [
    "#history = model.fit(x_train, y_train, epochs=100, verbose=True, validation_data=(x_test, y_test))"
   ]
  },
  {
   "cell_type": "code",
   "execution_count": 12,
   "id": "4ae2f76e",
   "metadata": {
    "scrolled": true
   },
   "outputs": [],
   "source": [
    "#plt.plot(history.history['accuracy'])\n",
    "#plt.plot(history.history['val_accuracy'])\n",
    "#plt.title('Model Accuracy')\n",
    "#plt.ylabel('Accuracy')\n",
    "#plt.xlabel('Epoch')\n",
    "#plt.legend(['Training', 'Validation'], loc='best')\n",
    "#plt.show()"
   ]
  }
 ],
 "metadata": {
  "kernelspec": {
   "display_name": "Python 3 (ipykernel)",
   "language": "python",
   "name": "python3"
  },
  "language_info": {
   "codemirror_mode": {
    "name": "ipython",
    "version": 3
   },
   "file_extension": ".py",
   "mimetype": "text/x-python",
   "name": "python",
   "nbconvert_exporter": "python",
   "pygments_lexer": "ipython3",
   "version": "3.9.7"
  }
 },
 "nbformat": 4,
 "nbformat_minor": 5
}
