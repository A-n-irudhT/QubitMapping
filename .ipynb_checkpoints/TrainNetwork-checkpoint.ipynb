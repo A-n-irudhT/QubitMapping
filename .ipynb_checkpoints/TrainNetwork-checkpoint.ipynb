{
 "cells": [
  {
   "cell_type": "code",
   "execution_count": null,
   "id": "c3692888",
   "metadata": {
    "scrolled": false
   },
   "outputs": [],
   "source": [
    "import numpy as np\n",
    "import tensorflow as tf\n",
    "from keras import backend as K\n",
    "import matplotlib.pyplot as plt\n",
    "from sklearn import preprocessing\n",
    "from keras.metrics import binary_accuracy\n",
    "from tensorflow.keras import layers, models\n",
    "from tensorflow.keras.models import Sequential\n",
    "from tensorflow.keras.optimizers import SGD, Adam\n",
    "from sklearn.model_selection import train_test_split\n",
    "from tensorflow.keras.layers import Input, Dense, Dropout\n",
    "from sympy.utilities.iterables import multiset_permutations"
   ]
  },
  {
   "cell_type": "code",
   "execution_count": null,
   "id": "d43729c6",
   "metadata": {
    "scrolled": false
   },
   "outputs": [],
   "source": [
    "x_data0 = np.loadtxt('x_data0.txt', dtype=int)\n",
    "x_data1 = np.loadtxt('x_data1.txt', dtype=int)\n",
    "x_data2 = np.loadtxt('x_data2.txt', dtype=int)\n",
    "x_data3 = np.loadtxt('x_data3.txt', dtype=int)\n",
    "x_data4 = np.loadtxt('x_data4.txt', dtype=int)\n",
    "x_data5 = np.loadtxt('x_data5.txt', dtype=int)\n",
    "x_data6 = np.loadtxt('x_data6.txt', dtype=int)\n",
    "x_data7 = np.loadtxt('x_data7.txt', dtype=int)\n",
    "x_data8 = np.loadtxt('x_data8.txt', dtype=int)\n",
    "x_data9 = np.loadtxt('x_data9.txt', dtype=int)\n",
    "\n",
    "x_data = np.concatenate((x_data0, x_data1, x_data2, x_data3, x_data4, x_data5, x_data6, x_data7, x_data8, x_data9))\n",
    "y_data = np.loadtxt('y_data_final.txt', dtype=int)\n",
    "print(np.shape(x_data))\n",
    "print(np.shape(y_data))"
   ]
  },
  {
   "cell_type": "code",
   "execution_count": null,
   "id": "7b38eecb",
   "metadata": {},
   "outputs": [],
   "source": [
    "print(x_data[7])"
   ]
  },
  {
   "cell_type": "code",
   "execution_count": null,
   "id": "e1018d94",
   "metadata": {},
   "outputs": [],
   "source": [
    "#x_data = preprocessing.normalize(x_data)\n",
    "x_data = x_data/10\n",
    "x_train, x_test, y_train, y_test = train_test_split(x_data, y_data, test_size = 0.2)\n",
    "size = np.shape(x_data)[1]"
   ]
  },
  {
   "cell_type": "code",
   "execution_count": null,
   "id": "e15cecab",
   "metadata": {
    "scrolled": false
   },
   "outputs": [],
   "source": [
    "model = Sequential()\n",
    "model.add(Dense(64, input_shape=(size,), activation = \"relu\"))\n",
    "model.add(Dense(512, activation = \"relu\"))\n",
    "model.add(Dense(1024, activation = \"relu\"))\n",
    "model.add(Dropout(0.4))\n",
    "model.add(Dense(1024, activation = \"relu\"))\n",
    "model.add(Dropout(0.4))\n",
    "model.add(Dense(512, activation = \"relu\"))\n",
    "model.add(Dense(120, activation='softmax'))\n",
    "\n",
    "opt = Adam(learning_rate=0.0005)\n",
    "\n",
    "model.compile(optimizer=opt, loss='categorical_crossentropy', metrics=['accuracy'])\n",
    "model.summary()"
   ]
  },
  {
   "cell_type": "code",
   "execution_count": null,
   "id": "01234b25",
   "metadata": {
    "scrolled": true
   },
   "outputs": [],
   "source": [
    "history = model.fit(x_train, y_train, epochs=200, validation_data=(x_test, y_test), verbose=True)"
   ]
  },
  {
   "cell_type": "code",
   "execution_count": null,
   "id": "500a8268",
   "metadata": {
    "scrolled": true
   },
   "outputs": [],
   "source": [
    "plt.plot(history.history['accuracy'])\n",
    "plt.plot(history.history['val_accuracy'])\n",
    "plt.title('Model Accuracy')\n",
    "plt.ylabel('Accuracy')\n",
    "plt.xlabel('Epoch')\n",
    "plt.legend(['Training', 'Validation'], loc='best')\n",
    "plt.show()"
   ]
  },
  {
   "cell_type": "code",
   "execution_count": null,
   "id": "04f8520b",
   "metadata": {},
   "outputs": [],
   "source": [
    "preds = model.predict(x_test[0:64])"
   ]
  },
  {
   "cell_type": "code",
   "execution_count": null,
   "id": "05177102",
   "metadata": {},
   "outputs": [],
   "source": [
    "print(\"Predicted -\", preds[0], \"\\n\")\n",
    "print(\"Actual -\", y_test[0])"
   ]
  },
  {
   "cell_type": "code",
   "execution_count": null,
   "id": "c67d0585",
   "metadata": {},
   "outputs": [],
   "source": [
    "#x_data = preprocessing.normalize(x_data)\n",
    "#x_data = np.reshape(x_data, (120000, 5, 4, 2))\n",
    "\n",
    "#x_train, x_test, y_train, y_test = train_test_split(x_data[0:80000], y_data[0:80000], test_size = 0.15)\n",
    "#size = np.shape(x_train[0])"
   ]
  },
  {
   "cell_type": "code",
   "execution_count": null,
   "id": "c7227310",
   "metadata": {
    "scrolled": false
   },
   "outputs": [],
   "source": [
    "#model_conv = models.Sequential()\n",
    "#model_conv.add(layers.Conv2D(64, (2, 2), activation='relu', input_shape=size))\n",
    "#model_conv.add(layers.MaxPooling2D((2, 2)))\n",
    "#model_conv.add(layers.Conv2D(32, (1, 1), activation='relu'))\n",
    "#model_conv.add(layers.Flatten())\n",
    "#model_conv.add(Dense(1024, activation = \"relu\"))\n",
    "#model_conv.add(Dense(512, activation = \"relu\"))\n",
    "#model_conv.add(Dense(256, activation = \"relu\"))\n",
    "#model_conv.add(Dense(120, activation='softmax'))\n",
    "          \n",
    "#opt = Adam(learning_rate=0.0001)    \n",
    "#model_conv.compile(loss='categorical_crossentropy', optimizer='adam', metrics=['accuracy'])\n",
    "#model_conv.summary()"
   ]
  },
  {
   "cell_type": "code",
   "execution_count": null,
   "id": "ae3cdfe0",
   "metadata": {
    "scrolled": true
   },
   "outputs": [],
   "source": [
    "#history = model_conv.fit(x_train, y_train, epochs=100, verbose=True, validation_data=(x_test, y_test))"
   ]
  },
  {
   "cell_type": "code",
   "execution_count": null,
   "id": "4ae2f76e",
   "metadata": {
    "scrolled": true
   },
   "outputs": [],
   "source": [
    "#plt.plot(history.history['accuracy'])\n",
    "#plt.plot(history.history['val_accuracy'])\n",
    "#plt.title('Model Accuracy')\n",
    "#plt.ylabel('Accuracy')\n",
    "#plt.xlabel('Epoch')\n",
    "#plt.legend(['Training', 'Validation'], loc='best')\n",
    "#plt.show()"
   ]
  }
 ],
 "metadata": {
  "kernelspec": {
   "display_name": "Python 3 (ipykernel)",
   "language": "python",
   "name": "python3"
  },
  "language_info": {
   "codemirror_mode": {
    "name": "ipython",
    "version": 3
   },
   "file_extension": ".py",
   "mimetype": "text/x-python",
   "name": "python",
   "nbconvert_exporter": "python",
   "pygments_lexer": "ipython3",
   "version": "3.9.7"
  }
 },
 "nbformat": 4,
 "nbformat_minor": 5
}
