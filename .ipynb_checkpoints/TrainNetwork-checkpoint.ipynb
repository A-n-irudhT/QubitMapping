{
 "cells": [
  {
   "cell_type": "code",
   "execution_count": null,
   "id": "c3692888",
   "metadata": {
    "scrolled": true
   },
   "outputs": [],
   "source": [
    "import time\n",
    "import random\n",
    "import numpy as np\n",
    "import matplotlib.pyplot as plt\n",
    "import tensorflow.keras.backend as K\n",
    "from sklearn.metrics import accuracy_score\n",
    "from tensorflow.keras.models import Sequential\n",
    "from tensorflow.keras.layers import Dense, Dropout\n",
    "from sklearn.model_selection import train_test_split\n",
    "from tensorflow.keras.optimizers import SGD, Adam, RMSprop\n",
    "from catboost import CatBoostClassifier, Pool, metrics, cv"
   ]
  },
  {
   "cell_type": "code",
   "execution_count": null,
   "id": "d43729c6",
   "metadata": {
    "scrolled": true
   },
   "outputs": [],
   "source": [
    "x_data = np.loadtxt('x_data.txt', dtype=int)\n",
    "y_data = np.loadtxt('y_data.txt', dtype=int)"
   ]
  },
  {
   "cell_type": "code",
   "execution_count": null,
   "id": "13007dee",
   "metadata": {
    "scrolled": true
   },
   "outputs": [],
   "source": [
    "x_train, x_test, y_train, y_test = train_test_split(x_data, y_data, test_size = 0.1)\n",
    "size = 16\n",
    "\n",
    "cat_features = list(range(0, x_train.shape[1]))"
   ]
  },
  {
   "cell_type": "code",
   "execution_count": null,
   "id": "e15cecab",
   "metadata": {
    "scrolled": true
   },
   "outputs": [],
   "source": [
    "#model = Sequential()\n",
    "#model.add(Dense(16, input_shape=(size,), activation = \"relu\"))\n",
    "#model.add(Dense(120, activation = \"softmax\"))\n",
    "\n",
    "#opt = SGD(learning_rate=0.01, decay=1e-6, momentum=0.9, nesterov=True)\n",
    "#model.compile(optimizer= opt, loss='categorical_crossentropy', metrics=['accuracy'])\n",
    "#model.summary()"
   ]
  },
  {
   "cell_type": "code",
   "execution_count": null,
   "id": "01234b25",
   "metadata": {},
   "outputs": [],
   "source": [
    "#history = model.fit(x_train, y_train, epochs=100, verbose=True, validation_split=0.1)"
   ]
  },
  {
   "cell_type": "code",
   "execution_count": null,
   "id": "500a8268",
   "metadata": {},
   "outputs": [],
   "source": [
    "#plt.plot(history.history['accuracy'])\n",
    "#plt.plot(history.history['val_accuracy'])\n",
    "#plt.title('Model Accuracy')\n",
    "#plt.ylabel('Accuracy')\n",
    "#plt.xlabel('Epoch')\n",
    "#plt.legend(['Training', 'Validation'], loc='best')\n",
    "#plt.show()"
   ]
  },
  {
   "cell_type": "code",
   "execution_count": null,
   "id": "d312b091",
   "metadata": {},
   "outputs": [],
   "source": [
    "clf = CatBoostClassifier(iterations=5, learning_rate=0.1, loss_function='CrossEntropy')\n",
    "\n",
    "clf.fit(x_train, y_train, cat_features=cat_features, eval_set=(x_test, y_test), verbose=True)\n",
    "\n",
    "print('CatBoost model is fitted: ' + str(clf.is_fitted()))\n",
    "print('CatBoost model parameters:')\n",
    "print(clf.get_params())"
   ]
  },
  {
   "cell_type": "code",
   "execution_count": null,
   "id": "c7806903",
   "metadata": {},
   "outputs": [],
   "source": []
  }
 ],
 "metadata": {
  "kernelspec": {
   "display_name": "Python 3 (ipykernel)",
   "language": "python",
   "name": "python3"
  },
  "language_info": {
   "codemirror_mode": {
    "name": "ipython",
    "version": 3
   },
   "file_extension": ".py",
   "mimetype": "text/x-python",
   "name": "python",
   "nbconvert_exporter": "python",
   "pygments_lexer": "ipython3",
   "version": "3.9.7"
  }
 },
 "nbformat": 4,
 "nbformat_minor": 5
}
