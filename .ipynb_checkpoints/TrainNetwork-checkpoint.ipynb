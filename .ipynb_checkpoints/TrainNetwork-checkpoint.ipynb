{
 "cells": [
  {
   "cell_type": "code",
   "execution_count": 1,
   "id": "c3692888",
   "metadata": {
    "scrolled": true
   },
   "outputs": [],
   "source": [
    "import time\n",
    "import random\n",
    "import catboost\n",
    "import numpy as np\n",
    "import pandas as pd\n",
    "from sklearn import metrics\n",
    "import matplotlib.pyplot as plt\n",
    "import tensorflow.keras.backend as K\n",
    "from sklearn.metrics import accuracy_score\n",
    "from tensorflow.keras.models import Sequential\n",
    "from tensorflow.keras.layers import Dense, Dropout\n",
    "from sklearn.ensemble import RandomForestClassifier\n",
    "from sklearn.model_selection import train_test_split\n",
    "from tensorflow.keras.optimizers import SGD, Adam, RMSprop"
   ]
  },
  {
   "cell_type": "code",
   "execution_count": 2,
   "id": "d43729c6",
   "metadata": {
    "scrolled": true
   },
   "outputs": [],
   "source": [
    "x_data = np.loadtxt('x_data.txt', dtype=int)\n",
    "y_data = np.loadtxt('y_data.txt', dtype=int)"
   ]
  },
  {
   "cell_type": "code",
   "execution_count": 3,
   "id": "13007dee",
   "metadata": {
    "scrolled": true
   },
   "outputs": [],
   "source": [
    "x_train, x_test, y_train, y_test = train_test_split(x_data, y_data, test_size = 0.1)\n",
    "size = 16"
   ]
  },
  {
   "cell_type": "code",
   "execution_count": 4,
   "id": "e15cecab",
   "metadata": {
    "scrolled": true
   },
   "outputs": [
    {
     "name": "stdout",
     "output_type": "stream",
     "text": [
      "Model: \"sequential\"\n",
      "_________________________________________________________________\n",
      "Layer (type)                 Output Shape              Param #   \n",
      "=================================================================\n",
      "dense (Dense)                (None, 16)                272       \n",
      "_________________________________________________________________\n",
      "dense_1 (Dense)              (None, 32)                544       \n",
      "_________________________________________________________________\n",
      "dense_2 (Dense)              (None, 120)               3960      \n",
      "=================================================================\n",
      "Total params: 4,776\n",
      "Trainable params: 4,776\n",
      "Non-trainable params: 0\n",
      "_________________________________________________________________\n"
     ]
    }
   ],
   "source": [
    "model = Sequential()\n",
    "model.add(Dense(16, input_shape=(size,), activation = \"relu\"))\n",
    "model.add(Dense(32, activation = \"relu\"))\n",
    "model.add(Dense(120, activation = \"softmax\"))\n",
    "\n",
    "opt = Adam(learning_rate=0.01)\n",
    "model.compile(optimizer= opt, loss='categorical_crossentropy', metrics=['accuracy'])\n",
    "model.summary()"
   ]
  },
  {
   "cell_type": "code",
   "execution_count": 5,
   "id": "01234b25",
   "metadata": {
    "scrolled": false
   },
   "outputs": [
    {
     "name": "stdout",
     "output_type": "stream",
     "text": [
      "Epoch 1/50\n",
      "1013/1013 [==============================] - 2s 1ms/step - loss: 2.9418 - accuracy: 0.3581 - val_loss: 2.7711 - val_accuracy: 0.3917\n",
      "Epoch 2/50\n",
      "1013/1013 [==============================] - 1s 1ms/step - loss: 2.7082 - accuracy: 0.3894 - val_loss: 2.6401 - val_accuracy: 0.3911\n",
      "Epoch 3/50\n",
      "1013/1013 [==============================] - 1s 1ms/step - loss: 2.6394 - accuracy: 0.3887 - val_loss: 2.5938 - val_accuracy: 0.3925\n",
      "Epoch 4/50\n",
      "1013/1013 [==============================] - 2s 2ms/step - loss: 2.6173 - accuracy: 0.3893 - val_loss: 2.5996 - val_accuracy: 0.3936\n",
      "Epoch 5/50\n",
      "1013/1013 [==============================] - 1s 1ms/step - loss: 2.6032 - accuracy: 0.3892 - val_loss: 2.5767 - val_accuracy: 0.3975\n",
      "Epoch 6/50\n",
      "1013/1013 [==============================] - 1s 1ms/step - loss: 2.5969 - accuracy: 0.3904 - val_loss: 2.5755 - val_accuracy: 0.3928\n",
      "Epoch 7/50\n",
      "1013/1013 [==============================] - 1s 1ms/step - loss: 2.5857 - accuracy: 0.3906 - val_loss: 2.5725 - val_accuracy: 0.3911\n",
      "Epoch 8/50\n",
      "1013/1013 [==============================] - 1s 1ms/step - loss: 2.5837 - accuracy: 0.3905 - val_loss: 2.5779 - val_accuracy: 0.3961\n",
      "Epoch 9/50\n",
      "1013/1013 [==============================] - 1s 1ms/step - loss: 2.5801 - accuracy: 0.3904 - val_loss: 2.5752 - val_accuracy: 0.3936\n",
      "Epoch 10/50\n",
      "1013/1013 [==============================] - 1s 1ms/step - loss: 2.5806 - accuracy: 0.3891 - val_loss: 2.5643 - val_accuracy: 0.3939\n",
      "Epoch 11/50\n",
      "1013/1013 [==============================] - ETA: 0s - loss: 2.5860 - accuracy: 0.38 - 1s 1ms/step - loss: 2.5832 - accuracy: 0.3890 - val_loss: 2.5469 - val_accuracy: 0.3925\n",
      "Epoch 12/50\n",
      "1013/1013 [==============================] - 1s 1ms/step - loss: 2.5868 - accuracy: 0.3895 - val_loss: 2.5781 - val_accuracy: 0.3914\n",
      "Epoch 13/50\n",
      "1013/1013 [==============================] - 1s 1ms/step - loss: 2.5860 - accuracy: 0.3890 - val_loss: 2.5788 - val_accuracy: 0.3903\n",
      "Epoch 14/50\n",
      "1013/1013 [==============================] - 1s 1ms/step - loss: 2.5890 - accuracy: 0.3897 - val_loss: 2.5824 - val_accuracy: 0.3958\n",
      "Epoch 15/50\n",
      "1013/1013 [==============================] - 1s 1ms/step - loss: 2.5797 - accuracy: 0.3903 - val_loss: 2.5682 - val_accuracy: 0.3975\n",
      "Epoch 16/50\n",
      "1013/1013 [==============================] - 1s 1ms/step - loss: 2.5774 - accuracy: 0.3915 - val_loss: 2.5461 - val_accuracy: 0.3958\n",
      "Epoch 17/50\n",
      "1013/1013 [==============================] - 1s 1ms/step - loss: 2.5846 - accuracy: 0.3903 - val_loss: 2.5754 - val_accuracy: 0.3928\n",
      "Epoch 18/50\n",
      "1013/1013 [==============================] - 1s 1ms/step - loss: 2.5764 - accuracy: 0.3920 - val_loss: 2.5431 - val_accuracy: 0.3944\n",
      "Epoch 19/50\n",
      "1013/1013 [==============================] - 1s 1ms/step - loss: 2.5676 - accuracy: 0.3897 - val_loss: 2.5636 - val_accuracy: 0.3919\n",
      "Epoch 20/50\n",
      "1013/1013 [==============================] - 1s 1ms/step - loss: 2.5633 - accuracy: 0.3915 - val_loss: 2.5436 - val_accuracy: 0.3967\n",
      "Epoch 21/50\n",
      "1013/1013 [==============================] - 1s 1ms/step - loss: 2.5666 - accuracy: 0.3905 - val_loss: 2.5531 - val_accuracy: 0.3936\n",
      "Epoch 22/50\n",
      "1013/1013 [==============================] - 1s 1ms/step - loss: 2.5594 - accuracy: 0.3909 - val_loss: 2.5545 - val_accuracy: 0.3897\n",
      "Epoch 23/50\n",
      "1013/1013 [==============================] - 1s 1ms/step - loss: 2.5633 - accuracy: 0.3909 - val_loss: 2.5616 - val_accuracy: 0.3919\n",
      "Epoch 24/50\n",
      "1013/1013 [==============================] - 1s 1ms/step - loss: 2.5686 - accuracy: 0.3895 - val_loss: 2.5467 - val_accuracy: 0.3917\n",
      "Epoch 25/50\n",
      "1013/1013 [==============================] - 1s 1ms/step - loss: 2.5649 - accuracy: 0.3888 - val_loss: 2.5454 - val_accuracy: 0.3939\n",
      "Epoch 26/50\n",
      "1013/1013 [==============================] - 1s 1ms/step - loss: 2.5688 - accuracy: 0.3897 - val_loss: 2.6111 - val_accuracy: 0.3883\n",
      "Epoch 27/50\n",
      "1013/1013 [==============================] - 1s 1ms/step - loss: 2.5677 - accuracy: 0.3894 - val_loss: 2.5474 - val_accuracy: 0.3953\n",
      "Epoch 28/50\n",
      "1013/1013 [==============================] - 1s 1ms/step - loss: 2.5642 - accuracy: 0.3889 - val_loss: 2.5603 - val_accuracy: 0.3917\n",
      "Epoch 29/50\n",
      "1013/1013 [==============================] - 1s 1ms/step - loss: 2.5649 - accuracy: 0.3882 - val_loss: 2.5511 - val_accuracy: 0.3917\n",
      "Epoch 30/50\n",
      "1013/1013 [==============================] - 1s 1ms/step - loss: 2.5692 - accuracy: 0.3877 - val_loss: 2.5493 - val_accuracy: 0.3903\n",
      "Epoch 31/50\n",
      "1013/1013 [==============================] - 1s 1ms/step - loss: 2.5670 - accuracy: 0.3892 - val_loss: 2.5567 - val_accuracy: 0.3892\n",
      "Epoch 32/50\n",
      "1013/1013 [==============================] - 1s 1ms/step - loss: 2.5692 - accuracy: 0.3901 - val_loss: 2.5561 - val_accuracy: 0.3883\n",
      "Epoch 33/50\n",
      "1013/1013 [==============================] - 1s 1ms/step - loss: 2.5633 - accuracy: 0.3894 - val_loss: 2.5941 - val_accuracy: 0.3928\n",
      "Epoch 34/50\n",
      "1013/1013 [==============================] - 1s 1ms/step - loss: 2.5615 - accuracy: 0.3901 - val_loss: 2.5871 - val_accuracy: 0.3919\n",
      "Epoch 35/50\n",
      "1013/1013 [==============================] - 1s 1ms/step - loss: 2.5759 - accuracy: 0.3896 - val_loss: 2.5710 - val_accuracy: 0.3969\n",
      "Epoch 36/50\n",
      "1013/1013 [==============================] - 1s 1ms/step - loss: 2.5831 - accuracy: 0.3896 - val_loss: 2.5770 - val_accuracy: 0.3928\n",
      "Epoch 37/50\n",
      "1013/1013 [==============================] - 1s 1ms/step - loss: 2.5716 - accuracy: 0.3899 - val_loss: 2.5700 - val_accuracy: 0.3939\n",
      "Epoch 38/50\n",
      "1013/1013 [==============================] - 1s 1ms/step - loss: 2.5650 - accuracy: 0.3905 - val_loss: 2.5753 - val_accuracy: 0.3914\n",
      "Epoch 39/50\n",
      "1013/1013 [==============================] - 1s 1ms/step - loss: 2.5722 - accuracy: 0.3906 - val_loss: 2.6042 - val_accuracy: 0.3903\n",
      "Epoch 40/50\n",
      "1013/1013 [==============================] - 1s 1ms/step - loss: 2.5656 - accuracy: 0.3912 - val_loss: 2.5635 - val_accuracy: 0.3933\n",
      "Epoch 41/50\n",
      "1013/1013 [==============================] - 1s 1ms/step - loss: 2.5626 - accuracy: 0.3908 - val_loss: 2.5438 - val_accuracy: 0.3933\n",
      "Epoch 42/50\n",
      "1013/1013 [==============================] - 1s 1ms/step - loss: 2.5538 - accuracy: 0.3907 - val_loss: 2.5553 - val_accuracy: 0.3925\n",
      "Epoch 43/50\n",
      "1013/1013 [==============================] - 1s 1ms/step - loss: 2.5553 - accuracy: 0.3919 - val_loss: 2.5460 - val_accuracy: 0.3933\n",
      "Epoch 44/50\n",
      "1013/1013 [==============================] - 1s 1ms/step - loss: 2.5601 - accuracy: 0.3914 - val_loss: 2.6206 - val_accuracy: 0.3897\n",
      "Epoch 45/50\n",
      "1013/1013 [==============================] - 1s 1ms/step - loss: 2.5596 - accuracy: 0.3917 - val_loss: 2.5517 - val_accuracy: 0.3914\n",
      "Epoch 46/50\n",
      "1013/1013 [==============================] - 1s 1ms/step - loss: 2.5587 - accuracy: 0.3904 - val_loss: 2.5494 - val_accuracy: 0.3883\n",
      "Epoch 47/50\n",
      "1013/1013 [==============================] - 1s 1ms/step - loss: 2.5616 - accuracy: 0.3899 - val_loss: 2.5579 - val_accuracy: 0.3900\n",
      "Epoch 48/50\n",
      "1013/1013 [==============================] - 1s 1ms/step - loss: 2.5679 - accuracy: 0.3898 - val_loss: 2.5607 - val_accuracy: 0.3919\n",
      "Epoch 49/50\n",
      "1013/1013 [==============================] - 1s 1ms/step - loss: 2.5683 - accuracy: 0.3918 - val_loss: 2.5528 - val_accuracy: 0.3939\n",
      "Epoch 50/50\n",
      "1013/1013 [==============================] - 1s 1ms/step - loss: 2.5636 - accuracy: 0.3911 - val_loss: 2.5478 - val_accuracy: 0.3917\n"
     ]
    }
   ],
   "source": [
    "history = model.fit(x_train, y_train, epochs=50, verbose=True, validation_split=0.1)"
   ]
  },
  {
   "cell_type": "code",
   "execution_count": 6,
   "id": "500a8268",
   "metadata": {
    "scrolled": false
   },
   "outputs": [
    {
     "data": {
      "image/png": "[encoded data removed]",
      "text/plain": [
       "<Figure size 432x288 with 1 Axes>"
      ]
     },
     "metadata": {
      "needs_background": "light"
     },
     "output_type": "display_data"
    }
   ],
   "source": [
    "plt.plot(history.history['accuracy'])\n",
    "plt.plot(history.history['val_accuracy'])\n",
    "plt.title('Model Accuracy')\n",
    "plt.ylabel('Accuracy')\n",
    "plt.xlabel('Epoch')\n",
    "plt.legend(['Training', 'Validation'], loc='best')\n",
    "plt.show()"
   ]
  },
  {
   "cell_type": "code",
   "execution_count": 7,
   "id": "e0dd1ff3",
   "metadata": {},
   "outputs": [
    {
     "data": {
      "text/plain": [
       "RandomForestClassifier()"
      ]
     },
     "execution_count": 7,
     "metadata": {},
     "output_type": "execute_result"
    }
   ],
   "source": [
    "clf = RandomForestClassifier(n_estimators=100)\n",
    "clf.fit(x_train, y_train)"
   ]
  },
  {
   "cell_type": "code",
   "execution_count": 8,
   "id": "88a5e6f5",
   "metadata": {},
   "outputs": [
    {
     "name": "stdout",
     "output_type": "stream",
     "text": [
      "Accuracy - 0.36075\n"
     ]
    }
   ],
   "source": [
    "y_pred = clf.predict(x_test)\n",
    "print(\"Accuracy -\", metrics.accuracy_score(y_test, y_pred))"
   ]
  }
 ],
 "metadata": {
  "kernelspec": {
   "display_name": "Python 3 (ipykernel)",
   "language": "python",
   "name": "python3"
  },
  "language_info": {
   "codemirror_mode": {
    "name": "ipython",
    "version": 3
   },
   "file_extension": ".py",
   "mimetype": "text/x-python",
   "name": "python",
   "nbconvert_exporter": "python",
   "pygments_lexer": "ipython3",
   "version": "3.9.7"
  }
 },
 "nbformat": 4,
 "nbformat_minor": 5
}
