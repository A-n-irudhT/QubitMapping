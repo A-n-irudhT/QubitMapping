{
 "cells": [
  {
   "cell_type": "code",
   "execution_count": 1,
   "id": "961feace",
   "metadata": {},
   "outputs": [],
   "source": [
    "import time\n",
    "import json\n",
    "import random\n",
    "import numpy as np\n",
    "from qiskit import *\n",
    "from qiskit import Aer\n",
    "import tensorflow as tf\n",
    "from qiskit import IBMQ\n",
    "import matplotlib.pyplot as plt\n",
    "from qiskit.circuit import Reset\n",
    "from IPython.display import display\n",
    "from qiskit.tools.monitor import job_monitor\n",
    "from qiskit.providers.ibmq import least_busy\n",
    "from qiskit import QuantumCircuit, transpile\n",
    "from qiskit.circuit.random import random_circuit\n",
    "from qiskit.circuit.exceptions import CircuitError\n",
    "from sympy.utilities.iterables import multiset_permutations\n",
    "from qiskit.visualization import plot_histogram, plot_circuit_layout\n",
    "from qiskit.circuit import QuantumRegister, ClassicalRegister, QuantumCircuit\n",
    "\n",
    "from qiskit.circuit.library.standard_gates import (\n",
    "    IGate,\n",
    "    U1Gate,\n",
    "    U2Gate,\n",
    "    U3Gate,\n",
    "    XGate,\n",
    "    YGate,\n",
    "    ZGate,\n",
    "    HGate,\n",
    "    SGate,\n",
    "    SdgGate,\n",
    "    TGate,\n",
    "    TdgGate,\n",
    "    RXGate,\n",
    "    RYGate,\n",
    "    RZGate,\n",
    "    CXGate,\n",
    "    CYGate,\n",
    "    CZGate,\n",
    "    CHGate,\n",
    "    CRZGate,\n",
    "    CU1Gate,\n",
    "    CU3Gate,\n",
    "    SwapGate,\n",
    "    RZZGate,\n",
    "    CCXGate,\n",
    "    CSwapGate,\n",
    ")"
   ]
  },
  {
   "cell_type": "code",
   "execution_count": 2,
   "id": "08092d63",
   "metadata": {},
   "outputs": [
    {
     "data": {
      "text/plain": [
       "<AccountProvider for IBMQ(hub='ibm-q', group='open', project='main')>"
      ]
     },
     "execution_count": 2,
     "metadata": {},
     "output_type": "execute_result"
    }
   ],
   "source": [
    "IBMQ.save_account('de404b7eba21afacf3e900bcd1cc1244967cecad8f7051683e08ff88d444aee2e6cb029f51036d2eb8efd6f18bd04acf5d9bc0891891ebe4c1bb1ab062f7741b', overwrite=True)\n",
    "IBMQ.load_account()"
   ]
  },
  {
   "cell_type": "code",
   "execution_count": 3,
   "id": "8db1b5c8",
   "metadata": {},
   "outputs": [],
   "source": [
    "def random_circuit(num_qubits, depth, max_operands=2, measure=False, conditional=False, reset=False, seed=None):\n",
    "    \"\"\"Generate random circuit of arbitrary size and form.\n",
    "\n",
    "    Args:\n",
    "        num_qubits (int): number of quantum wires\n",
    "        depth (int): layers of operations (i.e. critical path length)\n",
    "        max_operands (int): maximum operands of each gate (between 1 and 3)\n",
    "        measure (bool): if True, measure all qubits at the end\n",
    "        conditional (bool): if True, insert middle measurements and conditionals\n",
    "        reset (bool): if True, insert middle resets\n",
    "        seed (int): sets random seed (optional)\n",
    "        \n",
    "    \"\"\"\n",
    "    if max_operands < 1 or max_operands > 3:\n",
    "        raise CircuitError(\"max_operands must be between 1 and 3\")\n",
    "\n",
    "    one_q_ops = []\n",
    "    one_param = []\n",
    "    two_param = []\n",
    "    three_param = []\n",
    "    two_q_ops = [CXGate]\n",
    "    three_q_ops = []\n",
    "\n",
    "    qr = QuantumRegister(num_qubits, \"q\")\n",
    "    qc = QuantumCircuit(num_qubits)\n",
    "\n",
    "    if measure or conditional:\n",
    "        cr = ClassicalRegister(num_qubits, \"c\")\n",
    "        qc.add_register(cr)\n",
    "\n",
    "    if reset:\n",
    "        one_q_ops += [Reset]\n",
    "\n",
    "    if seed is None:\n",
    "        seed = np.random.randint(0, np.iinfo(np.int32).max)\n",
    "    rng = np.random.default_rng(seed)\n",
    "\n",
    "    # apply arbitrary random operations at every depth\n",
    "    for _ in range(depth):\n",
    "        # choose either 1, 2, or 3 qubits for the operation\n",
    "        remaining_qubits = list(range(num_qubits))\n",
    "        rng.shuffle(remaining_qubits)\n",
    "        while remaining_qubits:\n",
    "            max_possible_operands = min(len(remaining_qubits), max_operands)\n",
    "            num_operands = rng.choice(range(max_possible_operands)) + 1\n",
    "            operands = [remaining_qubits.pop() for _ in range(num_operands)]\n",
    "            \n",
    "            if num_operands == 1:\n",
    "                continue\n",
    "            elif num_operands == 2:\n",
    "                operation = CXGate\n",
    "            elif num_operands == 3:\n",
    "                continue\n",
    "                \n",
    "            num_angles = 0\n",
    "            angles = [rng.uniform(0, 2 * np.pi) for x in range(num_angles)]\n",
    "            register_operands = [qr[i] for i in operands]\n",
    "            op = operation(*angles)\n",
    "\n",
    "            # with some low probability, condition on classical bit values\n",
    "            if conditional and rng.choice(range(10)) == 0:\n",
    "                value = rng.integers(0, np.power(2, num_qubits))\n",
    "                op.condition = (cr, value)\n",
    "\n",
    "            qc.append(op, register_operands)\n",
    "\n",
    "    if measure:\n",
    "        qc.measure(qr, cr)\n",
    "\n",
    "    return qc"
   ]
  },
  {
   "cell_type": "code",
   "execution_count": 4,
   "id": "2a5f7b54",
   "metadata": {},
   "outputs": [],
   "source": [
    "def allgates(qc, transpiled_circuit):\n",
    "    count = transpiled_circuit.count_ops()\n",
    "    items = list(count.items())\n",
    "    pieces = len(items)\n",
    "    new_arrays = np.array_split(items, pieces)\n",
    "    new_arrays\n",
    "    for i in range(pieces):\n",
    "        if(new_arrays[i][0][0] == 'cx'):\n",
    "            cnotcount = int(new_arrays[i][0][1])\n",
    "\n",
    "    return cnotcount\n",
    "\n",
    "def gatecount(qc, layout, backend, plot=0):\n",
    "    transpiled_circuit = transpile(qc, backend, initial_layout=layout)\n",
    "    cx = allgates(qc, transpiled_circuit)\n",
    "    \n",
    "    return cx"
   ]
  },
  {
   "cell_type": "code",
   "execution_count": 5,
   "id": "c4306e46",
   "metadata": {},
   "outputs": [],
   "source": [
    "def getfeatures(qc):\n",
    "    gatedata = []\n",
    "    for gate in qc.data:\n",
    "        if (gate[0].name == 'cx'):\n",
    "            gatedata.append(gate[1])\n",
    "    gatedata = np.array(gatedata)\n",
    "    l = np.shape(gatedata)[0]\n",
    "\n",
    "    cnotarray = np.zeros([l,2], dtype=int)\n",
    "    for i in range(l):\n",
    "        cnotarray[i][0] = gatedata[i][0].index\n",
    "        cnotarray[i][1] = gatedata[i][1].index\n",
    "    return cnotarray.flatten()\n",
    "\n",
    "def getqiskitlayout(qc, backend, plot = 0):\n",
    "    transpiled_circuit = transpile(qc, backend, optimization_level=3) \n",
    "    bits = transpiled_circuit._layout.get_physical_bits()\n",
    "    \n",
    "    if(plot==1):\n",
    "        fig = plot_circuit_layout(transpiled_circuit, backend)\n",
    "        display(fig)\n",
    "\n",
    "    qiskitlayout = []\n",
    "    for i in range(len(bits)):\n",
    "        regtype = transpiled_circuit._layout.get_physical_bits()[i].register.qasm()\n",
    "        if(regtype.find('ancilla')==-1):\n",
    "            qiskitlayout.append(transpiled_circuit._layout.get_physical_bits()[i].index)\n",
    "        else:   \n",
    "            qiskitlayout.append(-1)\n",
    "            \n",
    "    return np.array(qiskitlayout)"
   ]
  },
  {
   "cell_type": "code",
   "execution_count": 6,
   "id": "cd3a28c9",
   "metadata": {},
   "outputs": [],
   "source": [
    "def elementgen(qubitno, depth, backend, plot=0):\n",
    "    qc = random_circuit(num_qubits=qubitno, depth=depth)\n",
    "    if(plot == 1):\n",
    "        fig = qc.draw(output='mpl')\n",
    "        display(fig)\n",
    "        \n",
    "    x = getfeatures(qc)\n",
    "    y = getqiskitlayout(qc, backend, plot)\n",
    "    \n",
    "    return x, y\n",
    "\n",
    "def datagen(size, qubitno, backend):\n",
    "    train = []\n",
    "    target = []\n",
    "    for i in range(size):\n",
    "        x, y = elementgen(qubitno=qubitno, depth=random.randint(1,14), backend=backend, plot=0)\n",
    "        train.append(x)\n",
    "        target.append(y)\n",
    "        if(i%1000 == 0):\n",
    "            print(\"Iteration\", i)\n",
    "\n",
    "    return train, target"
   ]
  },
  {
   "cell_type": "code",
   "execution_count": 7,
   "id": "dbfdb2c3",
   "metadata": {},
   "outputs": [],
   "source": [
    "def get_key(val, dictionary):\n",
    "    for key, value in dictionary.items():\n",
    "        if (np.array_equal(val, value)):\n",
    "            return key\n",
    "    return \"Key doesn't exist\"\n",
    "\n",
    "def targetdatagen(targetraw, layoutdict):\n",
    "    y = []\n",
    "    for i in range(datasetsize):\n",
    "        index = get_key(targetraw[i], layoutdict)\n",
    "        output = onehotdict[index]\n",
    "        y.append(output)\n",
    "    \n",
    "    return y"
   ]
  },
  {
   "cell_type": "code",
   "execution_count": 8,
   "id": "a22c63a4",
   "metadata": {},
   "outputs": [],
   "source": [
    "my_provider = IBMQ.get_provider()\n",
    "backend  = my_provider.get_backend('ibmq_lima')"
   ]
  },
  {
   "cell_type": "code",
   "execution_count": 9,
   "id": "7c36c953",
   "metadata": {},
   "outputs": [
    {
     "data": {
      "image/png": "[encoded data removed]",
      "text/plain": [
       "<Figure size 1591.6x686.28 with 1 Axes>"
      ]
     },
     "metadata": {},
     "output_type": "display_data"
    },
    {
     "name": "stderr",
     "output_type": "stream",
     "text": [
      "C:\\Users\\aniru\\AppData\\Local\\Temp/ipykernel_47268/2832588031.py:11: DeprecationWarning: Back-references to from Bit instances to their containing Registers have been deprecated. Instead, inspect Registers to find their contained Bits.\n",
      "  cnotarray[i][0] = gatedata[i][0].index\n",
      "C:\\Users\\aniru\\AppData\\Local\\Temp/ipykernel_47268/2832588031.py:12: DeprecationWarning: Back-references to from Bit instances to their containing Registers have been deprecated. Instead, inspect Registers to find their contained Bits.\n",
      "  cnotarray[i][1] = gatedata[i][1].index\n"
     ]
    },
    {
     "data": {
      "image/png": "[encoded data removed]",
      "text/plain": [
       "<Figure size 360x360 with 1 Axes>"
      ]
     },
     "metadata": {},
     "output_type": "display_data"
    },
    {
     "name": "stdout",
     "output_type": "stream",
     "text": [
      "[0 2 4 1 1 3 4 2 3 1 2 0 3 0 3 4 2 1 3 1 4 1 0 1 4 2 4 2 2 1 2 4 1 3 4 0 3\n",
      " 0 1 2 3 4 2 0 4 0 2 1 3 4 0 1 4 2 3 0 1 2 3 1 1 3 0 3 1 2 1 4 3 2 3 4 0 1\n",
      " 3 1 4 2 3 4 2 4 1 0 4 0 2 0 4 1 3 4 0 2]\n",
      "[3 2 0 4 1]\n"
     ]
    },
    {
     "name": "stderr",
     "output_type": "stream",
     "text": [
      "C:\\Users\\aniru\\AppData\\Local\\Temp/ipykernel_47268/2832588031.py:25: DeprecationWarning: Back-references to from Bit instances to their containing Registers have been deprecated. Instead, inspect Registers to find their contained Bits.\n",
      "  regtype = transpiled_circuit._layout.get_physical_bits()[i].register.qasm()\n",
      "C:\\Users\\aniru\\AppData\\Local\\Temp/ipykernel_47268/2832588031.py:27: DeprecationWarning: Back-references to from Bit instances to their containing Registers have been deprecated. Instead, inspect Registers to find their contained Bits.\n",
      "  qiskitlayout.append(transpiled_circuit._layout.get_physical_bits()[i].index)\n"
     ]
    }
   ],
   "source": [
    "x, y = elementgen(qubitno=5, depth=30, backend=backend, plot=1)\n",
    "print(x)\n",
    "print(y)"
   ]
  },
  {
   "cell_type": "code",
   "execution_count": null,
   "id": "8ee3e220",
   "metadata": {},
   "outputs": [
    {
     "name": "stderr",
     "output_type": "stream",
     "text": [
      "C:\\Users\\aniru\\AppData\\Local\\Temp/ipykernel_47268/2832588031.py:11: DeprecationWarning: Back-references to from Bit instances to their containing Registers have been deprecated. Instead, inspect Registers to find their contained Bits.\n",
      "  cnotarray[i][0] = gatedata[i][0].index\n",
      "C:\\Users\\aniru\\AppData\\Local\\Temp/ipykernel_47268/2832588031.py:12: DeprecationWarning: Back-references to from Bit instances to their containing Registers have been deprecated. Instead, inspect Registers to find their contained Bits.\n",
      "  cnotarray[i][1] = gatedata[i][1].index\n",
      "C:\\Users\\aniru\\AppData\\Local\\Temp/ipykernel_47268/2832588031.py:25: DeprecationWarning: Back-references to from Bit instances to their containing Registers have been deprecated. Instead, inspect Registers to find their contained Bits.\n",
      "  regtype = transpiled_circuit._layout.get_physical_bits()[i].register.qasm()\n",
      "C:\\Users\\aniru\\AppData\\Local\\Temp/ipykernel_47268/2832588031.py:27: DeprecationWarning: Back-references to from Bit instances to their containing Registers have been deprecated. Instead, inspect Registers to find their contained Bits.\n",
      "  qiskitlayout.append(transpiled_circuit._layout.get_physical_bits()[i].index)\n"
     ]
    },
    {
     "name": "stdout",
     "output_type": "stream",
     "text": [
      "Iteration 0\n",
      "Iteration 1000\n",
      "Iteration 2000\n",
      "Iteration 3000\n"
     ]
    }
   ],
   "source": [
    "qubitno = 5\n",
    "datasetsize = 30000\n",
    "trainraw, targetraw = datagen(size=datasetsize, qubitno=qubitno, backend=backend)"
   ]
  },
  {
   "cell_type": "code",
   "execution_count": null,
   "id": "888dee83",
   "metadata": {},
   "outputs": [],
   "source": [
    "layouts = np.array([0, 1, 2, 3, 4])\n",
    "arr = []\n",
    "for p in multiset_permutations(layouts):\n",
    "    arr.append(p)\n",
    "layoutdict = dict(enumerate(arr, 0))\n",
    "\n",
    "encoded = np.zeros([120,120], dtype = int)\n",
    "for i in range(120):\n",
    "    for j in range(120):\n",
    "        if(i==j):\n",
    "            encoded[i][j] = 1\n",
    "onehotdict = dict(enumerate(encoded, 0))\n",
    "\n",
    "x_data = trainraw\n",
    "y_data = targetdatagen(targetraw, layoutdict)\n",
    "\n",
    "max_length = max(len(row) for row in x_data)\n",
    "x_data = np.array([np.pad(row, (0, max_length-len(row))) for row in x_data])"
   ]
  },
  {
   "cell_type": "code",
   "execution_count": null,
   "id": "c9e7bb1d",
   "metadata": {},
   "outputs": [],
   "source": [
    "np.savetxt('x_data0.txt', x_data, fmt='%d')\n",
    "np.savetxt('y_data0.txt', y_data, fmt='%d')"
   ]
  },
  {
   "cell_type": "code",
   "execution_count": null,
   "id": "6f0ec8f0",
   "metadata": {},
   "outputs": [],
   "source": []
  }
 ],
 "metadata": {
  "kernelspec": {
   "display_name": "Python 3 (ipykernel)",
   "language": "python",
   "name": "python3"
  },
  "language_info": {
   "codemirror_mode": {
    "name": "ipython",
    "version": 3
   },
   "file_extension": ".py",
   "mimetype": "text/x-python",
   "name": "python",
   "nbconvert_exporter": "python",
   "pygments_lexer": "ipython3",
   "version": "3.9.7"
  }
 },
 "nbformat": 4,
 "nbformat_minor": 5
}
