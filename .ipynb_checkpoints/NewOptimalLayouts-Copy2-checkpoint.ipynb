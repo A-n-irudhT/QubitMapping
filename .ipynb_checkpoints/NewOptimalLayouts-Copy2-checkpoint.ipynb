{
 "cells": [
  {
   "cell_type": "code",
   "execution_count": 1,
   "id": "322292c7",
   "metadata": {},
   "outputs": [],
   "source": [
    "import math\n",
    "import numpy as np\n",
    "from qiskit import *\n",
    "from qiskit import IBMQ\n",
    "import matplotlib.pyplot as plt\n",
    "from IPython.display import display\n",
    "from qiskit import QuantumCircuit, transpile\n",
    "from sympy.utilities.iterables import multiset_permutations"
   ]
  },
  {
   "cell_type": "code",
   "execution_count": 2,
   "id": "f9030b38",
   "metadata": {},
   "outputs": [],
   "source": [
    "IBMQ.save_account('de404b7eba21afacf3e900bcd1cc1244967cecad8f7051683e08ff88d444aee2e6cb029f51036d2eb8efd6f18bd04acf5d9bc0891891ebe4c1bb1ab062f7741b', overwrite=True)\n",
    "IBMQ.load_account()\n",
    "\n",
    "my_provider = IBMQ.get_provider()\n",
    "backend  = my_provider.get_backend('ibmq_lima')"
   ]
  },
  {
   "cell_type": "code",
   "execution_count": 3,
   "id": "eb22c155",
   "metadata": {},
   "outputs": [],
   "source": [
    "x_data0 = np.loadtxt('x_data0.txt', dtype=int)\n",
    "x_data1 = np.loadtxt('x_data1.txt', dtype=int)\n",
    "x_data2 = np.loadtxt('x_data2.txt', dtype=int)\n",
    "\n",
    "y_data0 = np.loadtxt('y_data0.txt', dtype=int)\n",
    "y_data1 = np.loadtxt('y_data1.txt', dtype=int)\n",
    "y_data2 = np.loadtxt('y_data2.txt', dtype=int)\n",
    "\n",
    "max_length = 54\n",
    "x_data0 = np.array([np.pad(row, (0, max_length-len(row))) for row in x_data0])\n",
    "x_data1 = np.array([np.pad(row, (0, max_length-len(row))) for row in x_data1])\n",
    "x_data2 = np.array([np.pad(row, (0, max_length-len(row))) for row in x_data2])\n",
    "x_data = np.concatenate((x_data0, x_data1, x_data2))\n",
    "y_data = np.concatenate((y_data0, y_data1, y_data2))"
   ]
  },
  {
   "cell_type": "code",
   "execution_count": 4,
   "id": "d9e49cc4",
   "metadata": {},
   "outputs": [],
   "source": [
    "def get_cnot_count(qc, layout, backend):\n",
    "    transpiled_circuit = transpile(qc, backend, initial_layout=layout)\n",
    "    data = transpiled_circuit.count_ops()\n",
    "    l = list(data.values())\n",
    "    return l[0]\n",
    "\n",
    "def get_circuit_from_x(x, backend):\n",
    "    backend  = my_provider.get_backend('ibmq_lima')\n",
    "    qc = QuantumCircuit(5,5)\n",
    "    \n",
    "    x = np.reshape(x, (-1,2))\n",
    "    dimension = np.shape(x)[0]\n",
    "    for i in range(dimension):\n",
    "        if(x[i,0] != 0 or x[i,1] != 0):\n",
    "            qc.cx(x[i,0], x[i,1])\n",
    "        else:\n",
    "            break\n",
    "    return qc\n",
    "\n",
    "def get_designspace(qc, backend):\n",
    "    qubits = np.array([0, 1, 2, 3, 4])\n",
    "    designspace = np.empty(120, dtype=int)\n",
    "    i = 0\n",
    "    for p in multiset_permutations(qubits):\n",
    "        designspace[i] = get_cnot_count(qc, p, backend)\n",
    "        i = i+1\n",
    "        \n",
    "    return np.array(designspace)\n",
    "\n",
    "def get_optimal_layouts(designspace, margin, backend):\n",
    "    accepted_range = np.amin(designspace) + margin\n",
    "    indexes = np.where(designspace <= accepted_range)[0]\n",
    "    \n",
    "    return indexes\n",
    "\n",
    "def one_hot_encode_layout_data(layouts):\n",
    "    encoded = np.zeros(120, dtype=int)\n",
    "    for i in layouts:\n",
    "        encoded[i] = 1\n",
    "        \n",
    "    return encoded\n",
    "\n",
    "def get_new_target_element(x, backend):\n",
    "    datasetsize = np.shape(x)[0]\n",
    "    current_cnot_data = x\n",
    "    qc = get_circuit_from_x(current_cnot_data, backend)\n",
    "    designspace = get_designspace(qc, backend)\n",
    "    \n",
    "    margin = np.std(designspace)\n",
    "    \n",
    "    indexes = get_optimal_layouts(designspace, margin, backend)\n",
    "    target_element = one_hot_encode_layout_data(indexes)\n",
    "    \n",
    "    return target_element\n",
    "\n",
    "def get_target_data(x_data, backend):\n",
    "    y_new = []\n",
    "    datasetsize = np.shape(x_data)[0]\n",
    "    for i in range(datasetsize):\n",
    "        if(np.all((x_data[i] == 0))):\n",
    "            continue\n",
    "        else:\n",
    "            target_element = get_new_target_element(x_data[i], backend)\n",
    "            y_new.append(target_element)\n",
    "            \n",
    "        if(i%2500 == 0):\n",
    "            print(\"Iteration -\", i)\n",
    "    return y_new"
   ]
  },
  {
   "cell_type": "code",
   "execution_count": 5,
   "id": "96754410",
   "metadata": {},
   "outputs": [
    {
     "name": "stdout",
     "output_type": "stream",
     "text": [
      "Shape - (120,)\n",
      "Minimum - 15\n",
      "Standard Deviation - 5\n",
      "[26 32 27 27 24 23 24 27 23 25 21 15 19 30 27 25 29 26 29 28 24 25 29 26\n",
      " 23 30 20 26 26 23 21 33 20 22 23 16 23 23 26 29 29 30 26 27 21 22 30 19\n",
      " 26 25 23 24 20 20 24 31 23 27 24 23 19 29 21 28 30 23 27 23 19 25 29 22\n",
      " 17 24 20 27 26 26 20 27 20 27 39 22 18 29 17 26 24 24 25 26 21 22 24 21\n",
      " 27 30 24 27 31 28 30 30 29 30 29 27 24 27 27 30 32 33 22 33 24 22 33 24]\n"
     ]
    }
   ],
   "source": [
    "qc = get_circuit_from_x(x_data[4852], backend)\n",
    "designspace = get_designspace(qc, backend)\n",
    "print(\"Shape -\", np.shape(designspace))\n",
    "print(\"Minimum -\", np.amin(designspace))\n",
    "print(\"Standard Deviation -\", math.ceil(np.std(designspace)))\n",
    "print(designspace)"
   ]
  },
  {
   "cell_type": "code",
   "execution_count": 6,
   "id": "54f10f15",
   "metadata": {},
   "outputs": [
    {
     "name": "stdout",
     "output_type": "stream",
     "text": [
      "Indexes -\n",
      " [11 12 26 32 35 47 52 53 60 68 72 74 78 80 84 86]\n",
      "Design Space -\n",
      " [15 19 20 20 16 19 20 20 19 19 17 20 20 20 18 17]\n"
     ]
    }
   ],
   "source": [
    "indexes = get_optimal_layouts(designspace, 5, backend)\n",
    "print(\"Indexes -\\n\", indexes)\n",
    "s = []\n",
    "for i in indexes:\n",
    "    s.append(designspace[i])\n",
    "s = np.array(s)\n",
    "print(\"Design Space -\\n\", s)"
   ]
  },
  {
   "cell_type": "code",
   "execution_count": 7,
   "id": "4eb4a163",
   "metadata": {},
   "outputs": [
    {
     "name": "stdout",
     "output_type": "stream",
     "text": [
      "[0 0 0 0 0 0 0 1 0 0 0 0 0 1 0 1 0 0 1 0 1 1 1 0 0 1 0 0 0 0 0 1 0 1 0 0 1\n",
      " 0 0 1 0 0 1 0 1 0 0 1 0 0 0 1 0 0 0 0 0 0 0 0 0 1 0 1 0 0 1 1 0 0 0 0 0 1\n",
      " 0 1 0 0 0 1 0 0 0 0 0 1 0 0 0 0 0 1 0 0 0 0 0 0 1 1 0 0 0 0 0 0 0 0 0 0 0\n",
      " 0 0 0 0 0 0 0 0 0]\n"
     ]
    }
   ],
   "source": [
    "y_trial = get_new_target_element(x_data[2387], backend)\n",
    "print(y_trial)"
   ]
  },
  {
   "cell_type": "code",
   "execution_count": 8,
   "id": "5337d56c",
   "metadata": {},
   "outputs": [],
   "source": [
    "#y_new = get_target_data(x_data, backend)"
   ]
  },
  {
   "cell_type": "code",
   "execution_count": 9,
   "id": "ecac5f06",
   "metadata": {},
   "outputs": [],
   "source": [
    "non_zero_x = []\n",
    "non_zero_y = []\n",
    "for i in range(np.shape(x_data)[0]):\n",
    "    if(~np.all((x_data[i]==0))):\n",
    "        non_zero_x.append(x_data[i])\n",
    "        non_zero_y.append(y_data[i])\n",
    "    \n",
    "non_zero_x = np.array(non_zero_x)\n",
    "non_zero_y = np.array(non_zero_y)"
   ]
  },
  {
   "cell_type": "code",
   "execution_count": 10,
   "id": "6459db68",
   "metadata": {},
   "outputs": [
    {
     "name": "stdout",
     "output_type": "stream",
     "text": [
      "[[4 3 1 ... 0 0 0]\n",
      " [0 1 4 ... 0 0 0]\n",
      " [4 0 2 ... 0 0 0]\n",
      " ...\n",
      " [2 4 1 ... 0 0 0]\n",
      " [4 0 3 ... 0 0 0]\n",
      " [2 3 4 ... 0 0 0]]\n",
      "(89581, 54)\n"
     ]
    }
   ],
   "source": [
    "print(np.array(non_zero_x))\n",
    "print(np.shape(non_zero_x))"
   ]
  },
  {
   "cell_type": "code",
   "execution_count": 11,
   "id": "5d07bfb7",
   "metadata": {},
   "outputs": [
    {
     "name": "stdout",
     "output_type": "stream",
     "text": [
      "[[0 0 0 ... 0 0 0]\n",
      " [0 0 0 ... 0 0 0]\n",
      " [0 0 0 ... 0 0 0]\n",
      " ...\n",
      " [0 0 0 ... 0 0 0]\n",
      " [0 0 0 ... 0 0 0]\n",
      " [0 0 0 ... 0 0 0]]\n",
      "(89581, 120)\n"
     ]
    }
   ],
   "source": [
    "print(np.array(non_zero_y))\n",
    "print(np.shape(non_zero_y))"
   ]
  },
  {
   "cell_type": "code",
   "execution_count": 12,
   "id": "4f6a5b9a",
   "metadata": {},
   "outputs": [
    {
     "name": "stdout",
     "output_type": "stream",
     "text": [
      "Iteration - 0\n"
     ]
    },
    {
     "ename": "KeyboardInterrupt",
     "evalue": "",
     "output_type": "error",
     "traceback": [
      "\u001b[1;31m---------------------------------------------------------------------------\u001b[0m",
      "\u001b[1;31mFileNotFoundError\u001b[0m                         Traceback (most recent call last)",
      "\u001b[1;32m~\\AppData\\Local\\Programs\\Python\\Python39\\lib\\genericpath.py\u001b[0m in \u001b[0;36misfile\u001b[1;34m(path)\u001b[0m\n\u001b[0;32m     29\u001b[0m     \u001b[1;32mtry\u001b[0m\u001b[1;33m:\u001b[0m\u001b[1;33m\u001b[0m\u001b[1;33m\u001b[0m\u001b[0m\n\u001b[1;32m---> 30\u001b[1;33m         \u001b[0mst\u001b[0m \u001b[1;33m=\u001b[0m \u001b[0mos\u001b[0m\u001b[1;33m.\u001b[0m\u001b[0mstat\u001b[0m\u001b[1;33m(\u001b[0m\u001b[0mpath\u001b[0m\u001b[1;33m)\u001b[0m\u001b[1;33m\u001b[0m\u001b[1;33m\u001b[0m\u001b[0m\n\u001b[0m\u001b[0;32m     31\u001b[0m     \u001b[1;32mexcept\u001b[0m \u001b[1;33m(\u001b[0m\u001b[0mOSError\u001b[0m\u001b[1;33m,\u001b[0m \u001b[0mValueError\u001b[0m\u001b[1;33m)\u001b[0m\u001b[1;33m:\u001b[0m\u001b[1;33m\u001b[0m\u001b[1;33m\u001b[0m\u001b[0m\n",
      "\u001b[1;31mFileNotFoundError\u001b[0m: [WinError 2] The system cannot find the file specified: 'C:\\\\Users\\\\aniru\\\\.qiskit\\\\settings.conf'",
      "\nDuring handling of the above exception, another exception occurred:\n",
      "\u001b[1;31mKeyboardInterrupt\u001b[0m                         Traceback (most recent call last)",
      "\u001b[1;32m~\\AppData\\Local\\Temp/ipykernel_17096/2128677667.py\u001b[0m in \u001b[0;36m<module>\u001b[1;34m\u001b[0m\n\u001b[1;32m----> 1\u001b[1;33m \u001b[0my_new\u001b[0m \u001b[1;33m=\u001b[0m \u001b[0mget_target_data\u001b[0m\u001b[1;33m(\u001b[0m\u001b[0mnon_zero_x\u001b[0m\u001b[1;33m,\u001b[0m \u001b[0mbackend\u001b[0m\u001b[1;33m)\u001b[0m\u001b[1;33m\u001b[0m\u001b[1;33m\u001b[0m\u001b[0m\n\u001b[0m",
      "\u001b[1;32m~\\AppData\\Local\\Temp/ipykernel_17096/1934589262.py\u001b[0m in \u001b[0;36mget_target_data\u001b[1;34m(x_data, backend)\u001b[0m\n\u001b[0;32m     61\u001b[0m             \u001b[1;32mcontinue\u001b[0m\u001b[1;33m\u001b[0m\u001b[1;33m\u001b[0m\u001b[0m\n\u001b[0;32m     62\u001b[0m         \u001b[1;32melse\u001b[0m\u001b[1;33m:\u001b[0m\u001b[1;33m\u001b[0m\u001b[1;33m\u001b[0m\u001b[0m\n\u001b[1;32m---> 63\u001b[1;33m             \u001b[0mtarget_element\u001b[0m \u001b[1;33m=\u001b[0m \u001b[0mget_new_target_element\u001b[0m\u001b[1;33m(\u001b[0m\u001b[0mx_data\u001b[0m\u001b[1;33m[\u001b[0m\u001b[0mi\u001b[0m\u001b[1;33m]\u001b[0m\u001b[1;33m,\u001b[0m \u001b[0mbackend\u001b[0m\u001b[1;33m)\u001b[0m\u001b[1;33m\u001b[0m\u001b[1;33m\u001b[0m\u001b[0m\n\u001b[0m\u001b[0;32m     64\u001b[0m             \u001b[0my_new\u001b[0m\u001b[1;33m.\u001b[0m\u001b[0mappend\u001b[0m\u001b[1;33m(\u001b[0m\u001b[0mtarget_element\u001b[0m\u001b[1;33m)\u001b[0m\u001b[1;33m\u001b[0m\u001b[1;33m\u001b[0m\u001b[0m\n\u001b[0;32m     65\u001b[0m \u001b[1;33m\u001b[0m\u001b[0m\n",
      "\u001b[1;32m~\\AppData\\Local\\Temp/ipykernel_17096/1934589262.py\u001b[0m in \u001b[0;36mget_new_target_element\u001b[1;34m(x, backend)\u001b[0m\n\u001b[0;32m     45\u001b[0m     \u001b[0mcurrent_cnot_data\u001b[0m \u001b[1;33m=\u001b[0m \u001b[0mx\u001b[0m\u001b[1;33m\u001b[0m\u001b[1;33m\u001b[0m\u001b[0m\n\u001b[0;32m     46\u001b[0m     \u001b[0mqc\u001b[0m \u001b[1;33m=\u001b[0m \u001b[0mget_circuit_from_x\u001b[0m\u001b[1;33m(\u001b[0m\u001b[0mcurrent_cnot_data\u001b[0m\u001b[1;33m,\u001b[0m \u001b[0mbackend\u001b[0m\u001b[1;33m)\u001b[0m\u001b[1;33m\u001b[0m\u001b[1;33m\u001b[0m\u001b[0m\n\u001b[1;32m---> 47\u001b[1;33m     \u001b[0mdesignspace\u001b[0m \u001b[1;33m=\u001b[0m \u001b[0mget_designspace\u001b[0m\u001b[1;33m(\u001b[0m\u001b[0mqc\u001b[0m\u001b[1;33m,\u001b[0m \u001b[0mbackend\u001b[0m\u001b[1;33m)\u001b[0m\u001b[1;33m\u001b[0m\u001b[1;33m\u001b[0m\u001b[0m\n\u001b[0m\u001b[0;32m     48\u001b[0m \u001b[1;33m\u001b[0m\u001b[0m\n\u001b[0;32m     49\u001b[0m     \u001b[0mmargin\u001b[0m \u001b[1;33m=\u001b[0m \u001b[0mnp\u001b[0m\u001b[1;33m.\u001b[0m\u001b[0mstd\u001b[0m\u001b[1;33m(\u001b[0m\u001b[0mdesignspace\u001b[0m\u001b[1;33m)\u001b[0m\u001b[1;33m\u001b[0m\u001b[1;33m\u001b[0m\u001b[0m\n",
      "\u001b[1;32m~\\AppData\\Local\\Temp/ipykernel_17096/1934589262.py\u001b[0m in \u001b[0;36mget_designspace\u001b[1;34m(qc, backend)\u001b[0m\n\u001b[0;32m     23\u001b[0m     \u001b[0mi\u001b[0m \u001b[1;33m=\u001b[0m \u001b[1;36m0\u001b[0m\u001b[1;33m\u001b[0m\u001b[1;33m\u001b[0m\u001b[0m\n\u001b[0;32m     24\u001b[0m     \u001b[1;32mfor\u001b[0m \u001b[0mp\u001b[0m \u001b[1;32min\u001b[0m \u001b[0mmultiset_permutations\u001b[0m\u001b[1;33m(\u001b[0m\u001b[0mqubits\u001b[0m\u001b[1;33m)\u001b[0m\u001b[1;33m:\u001b[0m\u001b[1;33m\u001b[0m\u001b[1;33m\u001b[0m\u001b[0m\n\u001b[1;32m---> 25\u001b[1;33m         \u001b[0mdesignspace\u001b[0m\u001b[1;33m[\u001b[0m\u001b[0mi\u001b[0m\u001b[1;33m]\u001b[0m \u001b[1;33m=\u001b[0m \u001b[0mget_cnot_count\u001b[0m\u001b[1;33m(\u001b[0m\u001b[0mqc\u001b[0m\u001b[1;33m,\u001b[0m \u001b[0mp\u001b[0m\u001b[1;33m,\u001b[0m \u001b[0mbackend\u001b[0m\u001b[1;33m)\u001b[0m\u001b[1;33m\u001b[0m\u001b[1;33m\u001b[0m\u001b[0m\n\u001b[0m\u001b[0;32m     26\u001b[0m         \u001b[0mi\u001b[0m \u001b[1;33m=\u001b[0m \u001b[0mi\u001b[0m\u001b[1;33m+\u001b[0m\u001b[1;36m1\u001b[0m\u001b[1;33m\u001b[0m\u001b[1;33m\u001b[0m\u001b[0m\n\u001b[0;32m     27\u001b[0m \u001b[1;33m\u001b[0m\u001b[0m\n",
      "\u001b[1;32m~\\AppData\\Local\\Temp/ipykernel_17096/1934589262.py\u001b[0m in \u001b[0;36mget_cnot_count\u001b[1;34m(qc, layout, backend)\u001b[0m\n\u001b[0;32m      1\u001b[0m \u001b[1;32mdef\u001b[0m \u001b[0mget_cnot_count\u001b[0m\u001b[1;33m(\u001b[0m\u001b[0mqc\u001b[0m\u001b[1;33m,\u001b[0m \u001b[0mlayout\u001b[0m\u001b[1;33m,\u001b[0m \u001b[0mbackend\u001b[0m\u001b[1;33m)\u001b[0m\u001b[1;33m:\u001b[0m\u001b[1;33m\u001b[0m\u001b[1;33m\u001b[0m\u001b[0m\n\u001b[1;32m----> 2\u001b[1;33m     \u001b[0mtranspiled_circuit\u001b[0m \u001b[1;33m=\u001b[0m \u001b[0mtranspile\u001b[0m\u001b[1;33m(\u001b[0m\u001b[0mqc\u001b[0m\u001b[1;33m,\u001b[0m \u001b[0mbackend\u001b[0m\u001b[1;33m,\u001b[0m \u001b[0minitial_layout\u001b[0m\u001b[1;33m=\u001b[0m\u001b[0mlayout\u001b[0m\u001b[1;33m)\u001b[0m\u001b[1;33m\u001b[0m\u001b[1;33m\u001b[0m\u001b[0m\n\u001b[0m\u001b[0;32m      3\u001b[0m     \u001b[0mdata\u001b[0m \u001b[1;33m=\u001b[0m \u001b[0mtranspiled_circuit\u001b[0m\u001b[1;33m.\u001b[0m\u001b[0mcount_ops\u001b[0m\u001b[1;33m(\u001b[0m\u001b[1;33m)\u001b[0m\u001b[1;33m\u001b[0m\u001b[1;33m\u001b[0m\u001b[0m\n\u001b[0;32m      4\u001b[0m     \u001b[0ml\u001b[0m \u001b[1;33m=\u001b[0m \u001b[0mlist\u001b[0m\u001b[1;33m(\u001b[0m\u001b[0mdata\u001b[0m\u001b[1;33m.\u001b[0m\u001b[0mvalues\u001b[0m\u001b[1;33m(\u001b[0m\u001b[1;33m)\u001b[0m\u001b[1;33m)\u001b[0m\u001b[1;33m\u001b[0m\u001b[1;33m\u001b[0m\u001b[0m\n\u001b[0;32m      5\u001b[0m     \u001b[1;32mreturn\u001b[0m \u001b[0ml\u001b[0m\u001b[1;33m[\u001b[0m\u001b[1;36m0\u001b[0m\u001b[1;33m]\u001b[0m\u001b[1;33m\u001b[0m\u001b[1;33m\u001b[0m\u001b[0m\n",
      "\u001b[1;32m~\\AppData\\Local\\Programs\\Python\\Python39\\lib\\site-packages\\qiskit\\compiler\\transpiler.py\u001b[0m in \u001b[0;36mtranspile\u001b[1;34m(circuits, backend, basis_gates, inst_map, coupling_map, backend_properties, initial_layout, layout_method, routing_method, translation_method, scheduling_method, instruction_durations, dt, approximation_degree, timing_constraints, seed_transpiler, optimization_level, callback, output_name, unitary_synthesis_method, unitary_synthesis_plugin_config, target)\u001b[0m\n\u001b[0;32m    258\u001b[0m     \u001b[1;32mif\u001b[0m \u001b[0moptimization_level\u001b[0m \u001b[1;32mis\u001b[0m \u001b[1;32mNone\u001b[0m\u001b[1;33m:\u001b[0m\u001b[1;33m\u001b[0m\u001b[1;33m\u001b[0m\u001b[0m\n\u001b[0;32m    259\u001b[0m         \u001b[1;31m# Take optimization level from the configuration or 1 as default.\u001b[0m\u001b[1;33m\u001b[0m\u001b[1;33m\u001b[0m\u001b[0m\n\u001b[1;32m--> 260\u001b[1;33m         \u001b[0mconfig\u001b[0m \u001b[1;33m=\u001b[0m \u001b[0muser_config\u001b[0m\u001b[1;33m.\u001b[0m\u001b[0mget_config\u001b[0m\u001b[1;33m(\u001b[0m\u001b[1;33m)\u001b[0m\u001b[1;33m\u001b[0m\u001b[1;33m\u001b[0m\u001b[0m\n\u001b[0m\u001b[0;32m    261\u001b[0m         \u001b[0moptimization_level\u001b[0m \u001b[1;33m=\u001b[0m \u001b[0mconfig\u001b[0m\u001b[1;33m.\u001b[0m\u001b[0mget\u001b[0m\u001b[1;33m(\u001b[0m\u001b[1;34m\"transpile_optimization_level\"\u001b[0m\u001b[1;33m,\u001b[0m \u001b[1;36m1\u001b[0m\u001b[1;33m)\u001b[0m\u001b[1;33m\u001b[0m\u001b[1;33m\u001b[0m\u001b[0m\n\u001b[0;32m    262\u001b[0m \u001b[1;33m\u001b[0m\u001b[0m\n",
      "\u001b[1;32m~\\AppData\\Local\\Programs\\Python\\Python39\\lib\\site-packages\\qiskit\\user_config.py\u001b[0m in \u001b[0;36mget_config\u001b[1;34m()\u001b[0m\n\u001b[0;32m    219\u001b[0m     \"\"\"\n\u001b[0;32m    220\u001b[0m     \u001b[0mfilename\u001b[0m \u001b[1;33m=\u001b[0m \u001b[0mos\u001b[0m\u001b[1;33m.\u001b[0m\u001b[0mgetenv\u001b[0m\u001b[1;33m(\u001b[0m\u001b[1;34m\"QISKIT_SETTINGS\"\u001b[0m\u001b[1;33m,\u001b[0m \u001b[0mDEFAULT_FILENAME\u001b[0m\u001b[1;33m)\u001b[0m\u001b[1;33m\u001b[0m\u001b[1;33m\u001b[0m\u001b[0m\n\u001b[1;32m--> 221\u001b[1;33m     \u001b[1;32mif\u001b[0m \u001b[1;32mnot\u001b[0m \u001b[0mos\u001b[0m\u001b[1;33m.\u001b[0m\u001b[0mpath\u001b[0m\u001b[1;33m.\u001b[0m\u001b[0misfile\u001b[0m\u001b[1;33m(\u001b[0m\u001b[0mfilename\u001b[0m\u001b[1;33m)\u001b[0m\u001b[1;33m:\u001b[0m\u001b[1;33m\u001b[0m\u001b[1;33m\u001b[0m\u001b[0m\n\u001b[0m\u001b[0;32m    222\u001b[0m         \u001b[1;32mreturn\u001b[0m \u001b[1;33m{\u001b[0m\u001b[1;33m}\u001b[0m\u001b[1;33m\u001b[0m\u001b[1;33m\u001b[0m\u001b[0m\n\u001b[0;32m    223\u001b[0m     \u001b[0muser_config\u001b[0m \u001b[1;33m=\u001b[0m \u001b[0mUserConfig\u001b[0m\u001b[1;33m(\u001b[0m\u001b[0mfilename\u001b[0m\u001b[1;33m)\u001b[0m\u001b[1;33m\u001b[0m\u001b[1;33m\u001b[0m\u001b[0m\n",
      "\u001b[1;32m~\\AppData\\Local\\Programs\\Python\\Python39\\lib\\genericpath.py\u001b[0m in \u001b[0;36misfile\u001b[1;34m(path)\u001b[0m\n\u001b[0;32m     28\u001b[0m     \u001b[1;34m\"\"\"Test whether a path is a regular file\"\"\"\u001b[0m\u001b[1;33m\u001b[0m\u001b[1;33m\u001b[0m\u001b[0m\n\u001b[0;32m     29\u001b[0m     \u001b[1;32mtry\u001b[0m\u001b[1;33m:\u001b[0m\u001b[1;33m\u001b[0m\u001b[1;33m\u001b[0m\u001b[0m\n\u001b[1;32m---> 30\u001b[1;33m         \u001b[0mst\u001b[0m \u001b[1;33m=\u001b[0m \u001b[0mos\u001b[0m\u001b[1;33m.\u001b[0m\u001b[0mstat\u001b[0m\u001b[1;33m(\u001b[0m\u001b[0mpath\u001b[0m\u001b[1;33m)\u001b[0m\u001b[1;33m\u001b[0m\u001b[1;33m\u001b[0m\u001b[0m\n\u001b[0m\u001b[0;32m     31\u001b[0m     \u001b[1;32mexcept\u001b[0m \u001b[1;33m(\u001b[0m\u001b[0mOSError\u001b[0m\u001b[1;33m,\u001b[0m \u001b[0mValueError\u001b[0m\u001b[1;33m)\u001b[0m\u001b[1;33m:\u001b[0m\u001b[1;33m\u001b[0m\u001b[1;33m\u001b[0m\u001b[0m\n\u001b[0;32m     32\u001b[0m         \u001b[1;32mreturn\u001b[0m \u001b[1;32mFalse\u001b[0m\u001b[1;33m\u001b[0m\u001b[1;33m\u001b[0m\u001b[0m\n",
      "\u001b[1;31mKeyboardInterrupt\u001b[0m: "
     ]
    }
   ],
   "source": [
    "y_new = get_target_data(non_zero_x, backend)"
   ]
  }
 ],
 "metadata": {
  "kernelspec": {
   "display_name": "Python 3 (ipykernel)",
   "language": "python",
   "name": "python3"
  },
  "language_info": {
   "codemirror_mode": {
    "name": "ipython",
    "version": 3
   },
   "file_extension": ".py",
   "mimetype": "text/x-python",
   "name": "python",
   "nbconvert_exporter": "python",
   "pygments_lexer": "ipython3",
   "version": "3.9.7"
  }
 },
 "nbformat": 4,
 "nbformat_minor": 5
}
