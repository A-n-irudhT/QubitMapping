{
 "cells": [
  {
   "cell_type": "code",
   "execution_count": 1,
   "id": "322292c7",
   "metadata": {},
   "outputs": [],
   "source": [
    "import math\n",
    "import numpy as np\n",
    "from qiskit import *\n",
    "from qiskit import IBMQ\n",
    "import matplotlib.pyplot as plt\n",
    "from IPython.display import display\n",
    "from qiskit import QuantumCircuit, transpile\n",
    "from sympy.utilities.iterables import multiset_permutations"
   ]
  },
  {
   "cell_type": "code",
   "execution_count": 2,
   "id": "f9030b38",
   "metadata": {},
   "outputs": [],
   "source": [
    "IBMQ.save_account('de404b7eba21afacf3e900bcd1cc1244967cecad8f7051683e08ff88d444aee2e6cb029f51036d2eb8efd6f18bd04acf5d9bc0891891ebe4c1bb1ab062f7741b', overwrite=True)\n",
    "IBMQ.load_account()\n",
    "\n",
    "my_provider = IBMQ.get_provider()\n",
    "backend  = my_provider.get_backend('ibmq_lima')"
   ]
  },
  {
   "cell_type": "code",
   "execution_count": 3,
   "id": "eb22c155",
   "metadata": {},
   "outputs": [],
   "source": [
    "x_data0 = np.loadtxt('x_data0.txt', dtype=int)\n",
    "x_data1 = np.loadtxt('x_data1.txt', dtype=int)\n",
    "x_data2 = np.loadtxt('x_data2.txt', dtype=int)\n",
    "\n",
    "y_data0 = np.loadtxt('y_data0.txt', dtype=int)\n",
    "y_data1 = np.loadtxt('y_data1.txt', dtype=int)\n",
    "y_data2 = np.loadtxt('y_data2.txt', dtype=int)\n",
    "\n",
    "max_length = 54\n",
    "x_data0 = np.array([np.pad(row, (0, max_length-len(row))) for row in x_data0])\n",
    "x_data1 = np.array([np.pad(row, (0, max_length-len(row))) for row in x_data1])\n",
    "x_data2 = np.array([np.pad(row, (0, max_length-len(row))) for row in x_data2])\n",
    "x_data = np.concatenate((x_data0, x_data1, x_data2))\n",
    "y_data = np.concatenate((y_data0, y_data1, y_data2))"
   ]
  },
  {
   "cell_type": "code",
   "execution_count": 4,
   "id": "d9e49cc4",
   "metadata": {},
   "outputs": [],
   "source": [
    "def get_cnot_count(qc, layout, backend):\n",
    "    transpiled_circuit = transpile(qc, backend, initial_layout=layout)\n",
    "    data = transpiled_circuit.count_ops()\n",
    "    l = list(data.values())\n",
    "    return l[0]\n",
    "\n",
    "def get_circuit_from_x(x, backend):\n",
    "    backend  = my_provider.get_backend('ibmq_lima')\n",
    "    qc = QuantumCircuit(5,5)\n",
    "    \n",
    "    x = np.reshape(x, (-1,2))\n",
    "    dimension = np.shape(x)[0]\n",
    "    for i in range(dimension):\n",
    "        if(x[i,0] != 0 or x[i,1] != 0):\n",
    "            qc.cx(x[i,0], x[i,1])\n",
    "        else:\n",
    "            break\n",
    "    return qc\n",
    "\n",
    "def get_designspace(qc, backend):\n",
    "    qubits = np.array([0, 1, 2, 3, 4])\n",
    "    designspace = np.empty(120, dtype=int)\n",
    "    i = 0\n",
    "    for p in multiset_permutations(qubits):\n",
    "        designspace[i] = get_cnot_count(qc, p, backend)\n",
    "        i = i+1\n",
    "        \n",
    "    return np.array(designspace)\n",
    "\n",
    "def get_optimal_layouts(designspace, margin, backend):\n",
    "    accepted_range = np.amin(designspace) + margin\n",
    "    indexes = np.where(designspace <= accepted_range)[0]\n",
    "    \n",
    "    return indexes\n",
    "\n",
    "def one_hot_encode_layout_data(layouts):\n",
    "    encoded = np.zeros(120, dtype=int)\n",
    "    for i in layouts:\n",
    "        encoded[i] = 1\n",
    "        \n",
    "    return encoded\n",
    "\n",
    "def get_new_target_element(x, backend):\n",
    "    datasetsize = np.shape(x)[0]\n",
    "    current_cnot_data = x\n",
    "    qc = get_circuit_from_x(current_cnot_data, backend)\n",
    "    designspace = get_designspace(qc, backend)\n",
    "    \n",
    "    margin = np.std(designspace)\n",
    "    \n",
    "    indexes = get_optimal_layouts(designspace, margin, backend)\n",
    "    target_element = one_hot_encode_layout_data(indexes)\n",
    "    \n",
    "    return target_element\n",
    "\n",
    "def get_target_data(x_data, backend):\n",
    "    y_new = []\n",
    "    datasetsize = np.shape(x_data)[0]\n",
    "    for i in range(5):\n",
    "        if(np.all((x_data[i] == 0))):\n",
    "            continue\n",
    "        else:\n",
    "            target_element = get_new_target_element(x_data[i], backend)\n",
    "            y_new.append(target_element)\n",
    "    return y_new"
   ]
  },
  {
   "cell_type": "code",
   "execution_count": 5,
   "id": "96754410",
   "metadata": {},
   "outputs": [
    {
     "name": "stdout",
     "output_type": "stream",
     "text": [
      "Shape - (120,)\n",
      "Minimum - 16\n",
      "Standard Deviation - 5\n",
      "[26 33 23 27 24 21 24 28 23 26 20 18 19 30 27 28 29 32 26 23 24 25 24 27\n",
      " 23 31 20 26 23 23 21 31 20 21 23 18 24 23 23 25 26 32 29 22 32 23 30 18\n",
      " 26 28 23 27 20 17 24 28 23 25 26 23 19 24 21 29 30 25 16 22 18 26 27 29\n",
      " 17 26 20 29 23 26 21 29 20 29 26 25 18 27 17 26 24 21 19 22 27 23 26 21\n",
      " 27 30 24 29 31 30 27 32 29 32 35 31 26 29 29 32 30 35 27 31 24 22 30 24]\n"
     ]
    }
   ],
   "source": [
    "qc = get_circuit_from_x(x_data[4852], backend)\n",
    "designspace = get_designspace(qc, backend)\n",
    "print(\"Shape -\", np.shape(designspace))\n",
    "print(\"Minimum -\", np.amin(designspace))\n",
    "print(\"Standard Deviation -\", math.ceil(np.std(designspace)))\n",
    "print(designspace)"
   ]
  },
  {
   "cell_type": "code",
   "execution_count": 6,
   "id": "54f10f15",
   "metadata": {},
   "outputs": [
    {
     "name": "stdout",
     "output_type": "stream",
     "text": [
      "Indexes -\n",
      " [ 5 10 11 12 26 30 32 33 35 47 52 53 60 62 66 68 72 74 78 80 84 86 89 90\n",
      " 95]\n",
      "Design Space -\n",
      " [21 20 18 19 20 21 20 21 18 18 20 17 19 21 16 18 17 20 21 20 18 17 21 19\n",
      " 21]\n"
     ]
    }
   ],
   "source": [
    "indexes = get_optimal_layouts(designspace, 5, backend)\n",
    "print(\"Indexes -\\n\", indexes)\n",
    "s = []\n",
    "for i in indexes:\n",
    "    s.append(designspace[i])\n",
    "s = np.array(s)\n",
    "print(\"Design Space -\\n\", s)"
   ]
  },
  {
   "cell_type": "code",
   "execution_count": 7,
   "id": "4eb4a163",
   "metadata": {},
   "outputs": [
    {
     "name": "stdout",
     "output_type": "stream",
     "text": [
      "[0 0 0 0 0 0 0 0 0 0 0 0 0 1 1 0 1 0 1 1 1 1 1 0 0 0 0 0 0 0 0 0 0 0 0 0 0\n",
      " 1 0 1 0 0 1 1 1 0 1 1 0 1 0 0 0 0 0 1 0 0 0 0 0 1 0 1 0 0 0 0 0 1 0 0 0 1\n",
      " 0 1 0 0 0 1 0 0 0 0 0 1 0 1 0 0 0 1 1 0 1 0 0 0 0 1 0 0 0 0 0 0 0 0 0 1 0\n",
      " 0 0 0 0 0 0 0 0 0]\n"
     ]
    }
   ],
   "source": [
    "y_trial = get_new_target_element(x_data[2387], backend)\n",
    "print(y_trial)"
   ]
  },
  {
   "cell_type": "code",
   "execution_count": 8,
   "id": "5337d56c",
   "metadata": {},
   "outputs": [],
   "source": [
    "y_new = get_target_data(x_data, backend)"
   ]
  },
  {
   "cell_type": "code",
   "execution_count": 12,
   "id": "ecac5f06",
   "metadata": {},
   "outputs": [
    {
     "data": {
      "text/plain": [
       "array([    1,   662,   921,  1255,  1266,  1324,  1334,  1594,  1919,\n",
       "        2186,  2547,  2818,  4161,  4240,  4472,  4498,  4654,  5083,\n",
       "        5169,  5424,  5599,  5605,  5746,  5812,  6442,  6679,  7057,\n",
       "        7273,  7965,  8306,  8416,  8503,  8631,  8744,  8866,  9069,\n",
       "        9154, 10012, 10559, 10854, 10872, 10966, 11110, 11283, 11479,\n",
       "       11884, 12517, 12583, 12767, 12774, 12776, 13090, 13091, 13117,\n",
       "       13349, 13561, 13582, 13676, 14089, 14285, 14351, 14485, 14879,\n",
       "       14884, 15097, 15116, 15335, 15456, 15573, 15600, 15601, 15804,\n",
       "       16183, 16277, 16541, 16772, 17818, 17826, 17894, 18113, 18180,\n",
       "       18204, 18498, 19209, 19258, 19590, 19637, 19760, 19825, 19863,\n",
       "       20067, 20121, 20187, 20528, 20782, 20921, 21008, 21091, 21128,\n",
       "       21291, 21437, 21547, 21553, 21711, 22066, 22107, 22112, 22353,\n",
       "       22462, 22532, 23089, 23311, 23440, 23544, 23561, 23692, 23713,\n",
       "       23727, 24153, 24157, 24836, 24891, 24971, 25202, 25270, 25307,\n",
       "       25411, 25651, 26007, 26069, 26309, 26727, 26938, 26983, 27026,\n",
       "       27483, 27694, 28159, 28222, 28306, 28561, 28622, 28751, 28825,\n",
       "       29035, 29143, 29186, 29524, 29531, 29562, 30147, 30489, 30666,\n",
       "       30693, 30936, 31219, 31326, 31772, 31926, 31940, 32308, 32423,\n",
       "       32662, 33167, 33186, 33861, 34071, 34219, 34492, 34495, 34934,\n",
       "       34954, 34997, 35121, 35224, 35547, 35707, 35709, 35886, 36114,\n",
       "       36292, 36321, 36477, 36542, 36781, 36835, 36890, 37466, 37551,\n",
       "       37592, 37828, 38242, 39335, 39677, 39722, 40112, 40267, 40367,\n",
       "       40388, 40519, 40946, 41247, 41971, 42006, 42057, 42375, 42469,\n",
       "       42478, 42646, 42741, 42780, 42938, 43040, 43059, 43821, 44031,\n",
       "       45042, 45223, 45274, 45294, 45326, 45555, 45562, 45658, 46365,\n",
       "       46443, 46698, 46749, 46987, 47083, 47148, 47537, 47642, 47836,\n",
       "       47861, 47880, 48432, 48990, 49133, 49529, 50042, 50332, 50720,\n",
       "       50792, 51291, 51310, 51536, 51712, 52104, 52135, 52277, 52402,\n",
       "       52983, 53091, 53487, 53565, 53915, 54151, 54460, 55231, 55613,\n",
       "       55901, 56016, 56241, 56381, 56395, 56534, 56694, 57025, 57036,\n",
       "       57109, 57291, 57631, 57697, 57842, 57851, 58103, 58672, 59176,\n",
       "       59767, 59939, 60326, 60702, 60962, 60997, 61498, 61520, 61770,\n",
       "       61874, 62182, 62458, 62486, 62572, 63539, 63701, 63733, 63759,\n",
       "       63906, 64397, 64897, 65013, 65140, 65206, 65286, 65294, 65320,\n",
       "       65443, 65531, 65560, 65715, 65783, 65891, 65949, 66030, 66078,\n",
       "       66159, 66207, 66312, 66599, 66860, 67517, 67618, 67788, 68373,\n",
       "       68685, 68849, 69035, 69047, 69158, 69469, 69745, 70082, 70430,\n",
       "       71424, 71803, 71866, 71981, 72036, 72215, 72568, 72708, 73003,\n",
       "       73084, 73281, 73656, 73888, 73993, 74340, 74441, 74728, 74893,\n",
       "       74936, 75245, 75270, 75477, 75832, 75934, 76795, 76804, 76872,\n",
       "       77055, 77104, 77115, 77135, 77323, 77363, 77386, 77528, 77819,\n",
       "       78613, 79194, 79281, 79561, 80043, 80191, 80334, 80474, 80729,\n",
       "       80838, 81294, 81656, 81858, 81956, 82465, 83354, 83556, 83589,\n",
       "       83818, 84077, 84215, 84817, 85258, 86021, 86061, 86252, 86517,\n",
       "       86887, 87035, 87055, 87227, 87465, 87535, 87642, 87936, 88170,\n",
       "       88238, 88376, 88567, 88650, 88709, 88745, 88800, 88806, 89011,\n",
       "       89344, 89616, 89654, 89911, 89990])"
      ]
     },
     "execution_count": 12,
     "metadata": {},
     "output_type": "execute_result"
    }
   ],
   "source": [
    "zero_indexes = []\n",
    "for i in range(np.shape(x_data)[0]):\n",
    "    if(np.all((x_data[i] == 0))):\n",
    "        zero_indexes.append(i)\n",
    "zero_indexes = np.array(zero_indexes)\n",
    "zero_indexes"
   ]
  },
  {
   "cell_type": "code",
   "execution_count": 13,
   "id": "60edea52",
   "metadata": {},
   "outputs": [
    {
     "data": {
      "text/plain": [
       "array([0, 0, 0, 0, 0, 0, 0, 0, 0, 0, 0, 0, 0, 0, 0, 0, 0, 0, 0, 0, 0, 0,\n",
       "       0, 0, 0, 0, 0, 0, 0, 0, 0, 0, 0, 0, 0, 0, 0, 0, 0, 0, 0, 0, 0, 0,\n",
       "       0, 0, 0, 0, 0, 0, 0, 0, 0, 0])"
      ]
     },
     "execution_count": 13,
     "metadata": {},
     "output_type": "execute_result"
    }
   ],
   "source": [
    "x_data[zero_indexes[7]]"
   ]
  },
  {
   "cell_type": "code",
   "execution_count": 14,
   "id": "9bc067e7",
   "metadata": {},
   "outputs": [
    {
     "data": {
      "text/plain": [
       "(419,)"
      ]
     },
     "execution_count": 14,
     "metadata": {},
     "output_type": "execute_result"
    }
   ],
   "source": [
    "for i in range(np.shape(x_data)[0]):\n",
    "    if(i)"
   ]
  },
  {
   "cell_type": "code",
   "execution_count": null,
   "id": "6459db68",
   "metadata": {},
   "outputs": [],
   "source": []
  }
 ],
 "metadata": {
  "kernelspec": {
   "display_name": "Python 3 (ipykernel)",
   "language": "python",
   "name": "python3"
  },
  "language_info": {
   "codemirror_mode": {
    "name": "ipython",
    "version": 3
   },
   "file_extension": ".py",
   "mimetype": "text/x-python",
   "name": "python",
   "nbconvert_exporter": "python",
   "pygments_lexer": "ipython3",
   "version": "3.9.7"
  }
 },
 "nbformat": 4,
 "nbformat_minor": 5
}
