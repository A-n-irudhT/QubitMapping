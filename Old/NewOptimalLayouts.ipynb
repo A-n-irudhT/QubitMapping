{
 "cells": [
  {
   "cell_type": "code",
   "execution_count": 1,
   "id": "322292c7",
   "metadata": {},
   "outputs": [],
   "source": [
    "import math\n",
    "import numpy as np\n",
    "from qiskit import *\n",
    "from qiskit import IBMQ\n",
    "import matplotlib.pyplot as plt\n",
    "from IPython.display import display\n",
    "from qiskit import QuantumCircuit, transpile\n",
    "from sympy.utilities.iterables import multiset_permutations"
   ]
  },
  {
   "cell_type": "code",
   "execution_count": 2,
   "id": "f9030b38",
   "metadata": {},
   "outputs": [],
   "source": [
    "IBMQ.save_account('de404b7eba21afacf3e900bcd1cc1244967cecad8f7051683e08ff88d444aee2e6cb029f51036d2eb8efd6f18bd04acf5d9bc0891891ebe4c1bb1ab062f7741b', overwrite=True)\n",
    "IBMQ.load_account()\n",
    "\n",
    "my_provider = IBMQ.get_provider()\n",
    "backend  = my_provider.get_backend('ibmq_lima')"
   ]
  },
  {
   "cell_type": "code",
   "execution_count": 3,
   "id": "eb22c155",
   "metadata": {},
   "outputs": [],
   "source": [
    "x_data0 = np.loadtxt('x_data0.txt', dtype=int)\n",
    "y_data = np.loadtxt('y_data0.txt', dtype=int)\n",
    "\n",
    "max_length = 54\n",
    "x_data = np.array([np.pad(row, (0, max_length-len(row))) for row in x_data0])"
   ]
  },
  {
   "cell_type": "code",
   "execution_count": 4,
   "id": "3bafcc6b",
   "metadata": {},
   "outputs": [
    {
     "name": "stdout",
     "output_type": "stream",
     "text": [
      "(30000, 54)\n",
      "(30000, 54)\n"
     ]
    }
   ],
   "source": [
    "print(np.shape(x_data))\n",
    "print(np.shape(x_data))"
   ]
  },
  {
   "cell_type": "code",
   "execution_count": 5,
   "id": "d9e49cc4",
   "metadata": {},
   "outputs": [],
   "source": [
    "def get_cnot_count(qc, layout, backend):\n",
    "    transpiled_circuit = transpile(qc, backend, initial_layout=layout)\n",
    "    data = transpiled_circuit.count_ops()\n",
    "    l = list(data.values())\n",
    "    return l[0]\n",
    "\n",
    "def get_circuit_from_x(x, backend):\n",
    "    qc = QuantumCircuit(5,5)\n",
    "    \n",
    "    x = np.reshape(x, (-1,2))\n",
    "    dimension = np.shape(x)[0]\n",
    "    for i in range(dimension):\n",
    "        if(x[i,0] != 0 or x[i,1] != 0):\n",
    "            qc.cx(x[i,0], x[i,1])\n",
    "        else:\n",
    "            break\n",
    "    return qc\n",
    "\n",
    "def get_designspace(qc, backend):\n",
    "    qubits = np.array([0, 1, 2, 3, 4])\n",
    "    designspace = np.empty(120, dtype=int)\n",
    "    i = 0\n",
    "    for p in multiset_permutations(qubits):\n",
    "        designspace[i] = get_cnot_count(qc, p, backend)\n",
    "        i = i+1\n",
    "        \n",
    "    return np.array(designspace)\n",
    "\n",
    "def get_optimal_layouts(designspace, margin, backend):\n",
    "    accepted_range = np.amin(designspace) + margin\n",
    "    indexes = np.where(designspace <= accepted_range)[0]\n",
    "    \n",
    "    return indexes\n",
    "\n",
    "def one_hot_encode_layout_data(layouts):\n",
    "    encoded = np.zeros(120, dtype=int)\n",
    "    for i in layouts:\n",
    "        encoded[i] = 1\n",
    "        \n",
    "    return encoded\n",
    "\n",
    "def get_new_target_element(x, backend):\n",
    "    datasetsize = np.shape(x)[0]\n",
    "    current_cnot_data = x\n",
    "    qc = get_circuit_from_x(current_cnot_data, backend)\n",
    "    designspace = get_designspace(qc, backend)\n",
    "    \n",
    "    margin = np.std(designspace)\n",
    "    \n",
    "    indexes = get_optimal_layouts(designspace, margin, backend)\n",
    "    target_element = one_hot_encode_layout_data(indexes)\n",
    "    \n",
    "    return target_element\n",
    "\n",
    "def get_target_data(x_data, backend):\n",
    "    y_new = []\n",
    "    datasetsize = np.shape(x_data)[0]\n",
    "    for i in range(datasetsize):\n",
    "        if(np.all((x_data[i] == 0))):\n",
    "            continue\n",
    "        else:\n",
    "            target_element = get_new_target_element(x_data[i], backend)\n",
    "            y_new.append(target_element)\n",
    "            \n",
    "        if(i%2500 == 0):\n",
    "            print(\"Iteration -\", i)\n",
    "    return y_new"
   ]
  },
  {
   "cell_type": "code",
   "execution_count": 6,
   "id": "96754410",
   "metadata": {},
   "outputs": [
    {
     "name": "stdout",
     "output_type": "stream",
     "text": [
      "Shape - (120,)\n",
      "Minimum - 17\n",
      "Standard Deviation - 5\n",
      "[26 31 23 27 24 21 24 30 23 24 21 18 19 30 21 23 26 29 22 28 25 25 29 26\n",
      " 23 28 20 26 26 23 21 33 20 21 24 18 24 28 26 26 32 30 25 22 21 23 23 19\n",
      " 26 25 23 25 23 18 24 28 23 28 26 19 25 25 21 27 30 26 29 22 18 27 27 19\n",
      " 17 26 20 29 26 29 20 29 23 29 27 27 18 29 17 24 22 22 23 22 21 19 29 24\n",
      " 25 32 26 27 31 28 27 30 29 30 35 31 26 27 29 30 32 35 26 31 23 22 35 24]\n"
     ]
    }
   ],
   "source": [
    "qc = get_circuit_from_x(x_data[4852], backend)\n",
    "designspace = get_designspace(qc, backend)\n",
    "print(\"Shape -\", np.shape(designspace))\n",
    "print(\"Minimum -\", np.amin(designspace))\n",
    "print(\"Standard Deviation -\", math.ceil(np.std(designspace)))\n",
    "print(designspace)"
   ]
  },
  {
   "cell_type": "code",
   "execution_count": 7,
   "id": "54f10f15",
   "metadata": {},
   "outputs": [
    {
     "name": "stdout",
     "output_type": "stream",
     "text": [
      "Indexes -\n",
      " [  5  10  11  12  14  18  26  30  32  33  35  43  44  47  53  59  62  67\n",
      "  68  71  72  74  78  84  86  88  89  91  92  93 117]\n",
      "Design Space -\n",
      " [21 21 18 19 21 22 20 21 20 21 18 22 21 19 18 19 21 22 18 19 17 20 20 18\n",
      " 17 22 22 22 21 19 22]\n"
     ]
    }
   ],
   "source": [
    "indexes = get_optimal_layouts(designspace, 5, backend)\n",
    "print(\"Indexes -\\n\", indexes)\n",
    "s = []\n",
    "for i in indexes:\n",
    "    s.append(designspace[i])\n",
    "s = np.array(s)\n",
    "print(\"Design Space -\\n\", s)"
   ]
  },
  {
   "cell_type": "code",
   "execution_count": 8,
   "id": "4eb4a163",
   "metadata": {},
   "outputs": [
    {
     "name": "stdout",
     "output_type": "stream",
     "text": [
      "[0 0 0 0 0 0 0 0 0 0 0 0 0 1 1 1 0 0 0 0 1 1 1 1 0 1 0 0 0 0 0 1 0 0 0 0 1\n",
      " 0 0 1 0 0 1 0 1 0 0 1 0 0 0 0 0 0 0 0 0 0 0 0 0 1 0 1 0 0 1 1 0 1 0 0 0 1\n",
      " 0 1 0 0 0 1 0 1 0 0 0 1 0 1 0 0 0 1 1 0 1 0 0 0 0 1 0 0 0 0 0 0 0 0 0 1 0\n",
      " 0 0 0 0 0 0 0 0 0]\n"
     ]
    }
   ],
   "source": [
    "y_trial = get_new_target_element(x_data[2387], backend)\n",
    "print(y_trial)"
   ]
  },
  {
   "cell_type": "code",
   "execution_count": 9,
   "id": "5337d56c",
   "metadata": {},
   "outputs": [],
   "source": [
    "#y_new = get_target_data(x_data, backend)"
   ]
  },
  {
   "cell_type": "code",
   "execution_count": 10,
   "id": "ecac5f06",
   "metadata": {},
   "outputs": [],
   "source": [
    "non_zero_x = []\n",
    "non_zero_y = []\n",
    "for i in range(np.shape(x_data)[0]):\n",
    "    if(~np.all((x_data[i]==0))):\n",
    "        non_zero_x.append(x_data[i])\n",
    "        non_zero_y.append(y_data[i])\n",
    "    \n",
    "non_zero_x = np.array(non_zero_x)\n",
    "non_zero_y = np.array(non_zero_y)"
   ]
  },
  {
   "cell_type": "code",
   "execution_count": 11,
   "id": "6459db68",
   "metadata": {},
   "outputs": [
    {
     "name": "stdout",
     "output_type": "stream",
     "text": [
      "[[4 3 1 ... 0 0 0]\n",
      " [0 1 4 ... 0 0 0]\n",
      " [4 0 2 ... 0 0 0]\n",
      " ...\n",
      " [4 0 1 ... 0 0 0]\n",
      " [1 3 2 ... 0 0 0]\n",
      " [4 3 0 ... 0 0 0]]\n",
      "(29850, 54)\n"
     ]
    }
   ],
   "source": [
    "print(np.array(non_zero_x))\n",
    "print(np.shape(non_zero_x))"
   ]
  },
  {
   "cell_type": "code",
   "execution_count": 12,
   "id": "d1e11b4e",
   "metadata": {},
   "outputs": [
    {
     "name": "stdout",
     "output_type": "stream",
     "text": [
      "[[0 0 0 ... 0 0 0]\n",
      " [0 0 0 ... 0 0 0]\n",
      " [0 0 0 ... 0 0 0]\n",
      " ...\n",
      " [0 0 0 ... 0 0 0]\n",
      " [0 0 1 ... 0 0 0]\n",
      " [0 0 0 ... 0 0 0]]\n",
      "(29850, 120)\n"
     ]
    }
   ],
   "source": [
    "print(np.array(non_zero_y))\n",
    "print(np.shape(non_zero_y))"
   ]
  },
  {
   "cell_type": "code",
   "execution_count": 13,
   "id": "54ce6367",
   "metadata": {},
   "outputs": [
    {
     "name": "stdout",
     "output_type": "stream",
     "text": [
      "Iteration - 0\n"
     ]
    },
    {
     "ename": "IndexError",
     "evalue": "list index out of range",
     "output_type": "error",
     "traceback": [
      "\u001b[1;31m---------------------------------------------------------------------------\u001b[0m",
      "\u001b[1;31mIndexError\u001b[0m                                Traceback (most recent call last)",
      "\u001b[1;32m~\\AppData\\Local\\Temp/ipykernel_22168/2128677667.py\u001b[0m in \u001b[0;36m<module>\u001b[1;34m\u001b[0m\n\u001b[1;32m----> 1\u001b[1;33m \u001b[0my_new\u001b[0m \u001b[1;33m=\u001b[0m \u001b[0mget_target_data\u001b[0m\u001b[1;33m(\u001b[0m\u001b[0mnon_zero_x\u001b[0m\u001b[1;33m,\u001b[0m \u001b[0mbackend\u001b[0m\u001b[1;33m)\u001b[0m\u001b[1;33m\u001b[0m\u001b[1;33m\u001b[0m\u001b[0m\n\u001b[0m",
      "\u001b[1;32m~\\AppData\\Local\\Temp/ipykernel_22168/3263582680.py\u001b[0m in \u001b[0;36mget_target_data\u001b[1;34m(x_data, backend)\u001b[0m\n\u001b[0;32m     60\u001b[0m             \u001b[1;32mcontinue\u001b[0m\u001b[1;33m\u001b[0m\u001b[1;33m\u001b[0m\u001b[0m\n\u001b[0;32m     61\u001b[0m         \u001b[1;32melse\u001b[0m\u001b[1;33m:\u001b[0m\u001b[1;33m\u001b[0m\u001b[1;33m\u001b[0m\u001b[0m\n\u001b[1;32m---> 62\u001b[1;33m             \u001b[0mtarget_element\u001b[0m \u001b[1;33m=\u001b[0m \u001b[0mget_new_target_element\u001b[0m\u001b[1;33m(\u001b[0m\u001b[0mx_data\u001b[0m\u001b[1;33m[\u001b[0m\u001b[0mi\u001b[0m\u001b[1;33m]\u001b[0m\u001b[1;33m,\u001b[0m \u001b[0mbackend\u001b[0m\u001b[1;33m)\u001b[0m\u001b[1;33m\u001b[0m\u001b[1;33m\u001b[0m\u001b[0m\n\u001b[0m\u001b[0;32m     63\u001b[0m             \u001b[0my_new\u001b[0m\u001b[1;33m.\u001b[0m\u001b[0mappend\u001b[0m\u001b[1;33m(\u001b[0m\u001b[0mtarget_element\u001b[0m\u001b[1;33m)\u001b[0m\u001b[1;33m\u001b[0m\u001b[1;33m\u001b[0m\u001b[0m\n\u001b[0;32m     64\u001b[0m \u001b[1;33m\u001b[0m\u001b[0m\n",
      "\u001b[1;32m~\\AppData\\Local\\Temp/ipykernel_22168/3263582680.py\u001b[0m in \u001b[0;36mget_new_target_element\u001b[1;34m(x, backend)\u001b[0m\n\u001b[0;32m     44\u001b[0m     \u001b[0mcurrent_cnot_data\u001b[0m \u001b[1;33m=\u001b[0m \u001b[0mx\u001b[0m\u001b[1;33m\u001b[0m\u001b[1;33m\u001b[0m\u001b[0m\n\u001b[0;32m     45\u001b[0m     \u001b[0mqc\u001b[0m \u001b[1;33m=\u001b[0m \u001b[0mget_circuit_from_x\u001b[0m\u001b[1;33m(\u001b[0m\u001b[0mcurrent_cnot_data\u001b[0m\u001b[1;33m,\u001b[0m \u001b[0mbackend\u001b[0m\u001b[1;33m)\u001b[0m\u001b[1;33m\u001b[0m\u001b[1;33m\u001b[0m\u001b[0m\n\u001b[1;32m---> 46\u001b[1;33m     \u001b[0mdesignspace\u001b[0m \u001b[1;33m=\u001b[0m \u001b[0mget_designspace\u001b[0m\u001b[1;33m(\u001b[0m\u001b[0mqc\u001b[0m\u001b[1;33m,\u001b[0m \u001b[0mbackend\u001b[0m\u001b[1;33m)\u001b[0m\u001b[1;33m\u001b[0m\u001b[1;33m\u001b[0m\u001b[0m\n\u001b[0m\u001b[0;32m     47\u001b[0m \u001b[1;33m\u001b[0m\u001b[0m\n\u001b[0;32m     48\u001b[0m     \u001b[0mmargin\u001b[0m \u001b[1;33m=\u001b[0m \u001b[0mnp\u001b[0m\u001b[1;33m.\u001b[0m\u001b[0mstd\u001b[0m\u001b[1;33m(\u001b[0m\u001b[0mdesignspace\u001b[0m\u001b[1;33m)\u001b[0m\u001b[1;33m\u001b[0m\u001b[1;33m\u001b[0m\u001b[0m\n",
      "\u001b[1;32m~\\AppData\\Local\\Temp/ipykernel_22168/3263582680.py\u001b[0m in \u001b[0;36mget_designspace\u001b[1;34m(qc, backend)\u001b[0m\n\u001b[0;32m     22\u001b[0m     \u001b[0mi\u001b[0m \u001b[1;33m=\u001b[0m \u001b[1;36m0\u001b[0m\u001b[1;33m\u001b[0m\u001b[1;33m\u001b[0m\u001b[0m\n\u001b[0;32m     23\u001b[0m     \u001b[1;32mfor\u001b[0m \u001b[0mp\u001b[0m \u001b[1;32min\u001b[0m \u001b[0mmultiset_permutations\u001b[0m\u001b[1;33m(\u001b[0m\u001b[0mqubits\u001b[0m\u001b[1;33m)\u001b[0m\u001b[1;33m:\u001b[0m\u001b[1;33m\u001b[0m\u001b[1;33m\u001b[0m\u001b[0m\n\u001b[1;32m---> 24\u001b[1;33m         \u001b[0mdesignspace\u001b[0m\u001b[1;33m[\u001b[0m\u001b[0mi\u001b[0m\u001b[1;33m]\u001b[0m \u001b[1;33m=\u001b[0m \u001b[0mget_cnot_count\u001b[0m\u001b[1;33m(\u001b[0m\u001b[0mqc\u001b[0m\u001b[1;33m,\u001b[0m \u001b[0mp\u001b[0m\u001b[1;33m,\u001b[0m \u001b[0mbackend\u001b[0m\u001b[1;33m)\u001b[0m\u001b[1;33m\u001b[0m\u001b[1;33m\u001b[0m\u001b[0m\n\u001b[0m\u001b[0;32m     25\u001b[0m         \u001b[0mi\u001b[0m \u001b[1;33m=\u001b[0m \u001b[0mi\u001b[0m\u001b[1;33m+\u001b[0m\u001b[1;36m1\u001b[0m\u001b[1;33m\u001b[0m\u001b[1;33m\u001b[0m\u001b[0m\n\u001b[0;32m     26\u001b[0m \u001b[1;33m\u001b[0m\u001b[0m\n",
      "\u001b[1;32m~\\AppData\\Local\\Temp/ipykernel_22168/3263582680.py\u001b[0m in \u001b[0;36mget_cnot_count\u001b[1;34m(qc, layout, backend)\u001b[0m\n\u001b[0;32m      3\u001b[0m     \u001b[0mdata\u001b[0m \u001b[1;33m=\u001b[0m \u001b[0mtranspiled_circuit\u001b[0m\u001b[1;33m.\u001b[0m\u001b[0mcount_ops\u001b[0m\u001b[1;33m(\u001b[0m\u001b[1;33m)\u001b[0m\u001b[1;33m\u001b[0m\u001b[1;33m\u001b[0m\u001b[0m\n\u001b[0;32m      4\u001b[0m     \u001b[0ml\u001b[0m \u001b[1;33m=\u001b[0m \u001b[0mlist\u001b[0m\u001b[1;33m(\u001b[0m\u001b[0mdata\u001b[0m\u001b[1;33m.\u001b[0m\u001b[0mvalues\u001b[0m\u001b[1;33m(\u001b[0m\u001b[1;33m)\u001b[0m\u001b[1;33m)\u001b[0m\u001b[1;33m\u001b[0m\u001b[1;33m\u001b[0m\u001b[0m\n\u001b[1;32m----> 5\u001b[1;33m     \u001b[1;32mreturn\u001b[0m \u001b[0ml\u001b[0m\u001b[1;33m[\u001b[0m\u001b[1;36m0\u001b[0m\u001b[1;33m]\u001b[0m\u001b[1;33m\u001b[0m\u001b[1;33m\u001b[0m\u001b[0m\n\u001b[0m\u001b[0;32m      6\u001b[0m \u001b[1;33m\u001b[0m\u001b[0m\n\u001b[0;32m      7\u001b[0m \u001b[1;32mdef\u001b[0m \u001b[0mget_circuit_from_x\u001b[0m\u001b[1;33m(\u001b[0m\u001b[0mx\u001b[0m\u001b[1;33m,\u001b[0m \u001b[0mbackend\u001b[0m\u001b[1;33m)\u001b[0m\u001b[1;33m:\u001b[0m\u001b[1;33m\u001b[0m\u001b[1;33m\u001b[0m\u001b[0m\n",
      "\u001b[1;31mIndexError\u001b[0m: list index out of range"
     ]
    }
   ],
   "source": [
    "y_new = get_target_data(non_zero_x, backend)"
   ]
  }
 ],
 "metadata": {
  "kernelspec": {
   "display_name": "Python 3 (ipykernel)",
   "language": "python",
   "name": "python3"
  },
  "language_info": {
   "codemirror_mode": {
    "name": "ipython",
    "version": 3
   },
   "file_extension": ".py",
   "mimetype": "text/x-python",
   "name": "python",
   "nbconvert_exporter": "python",
   "pygments_lexer": "ipython3",
   "version": "3.9.7"
  }
 },
 "nbformat": 4,
 "nbformat_minor": 5
}
