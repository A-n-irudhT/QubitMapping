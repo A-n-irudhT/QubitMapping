{
 "cells": [
  {
   "cell_type": "code",
   "execution_count": 1,
   "id": "46750b57",
   "metadata": {
    "scrolled": false
   },
   "outputs": [],
   "source": [
    "import time\n",
    "import yaml\n",
    "import json\n",
    "import numpy as np\n",
    "from qiskit import *\n",
    "from qiskit import Aer\n",
    "from qiskit import IBMQ\n",
    "import matplotlib.pyplot as plt\n",
    "from IPython.display import display\n",
    "from qiskit.test.mock import FakeVigo\n",
    "from qiskit.tools.monitor import job_monitor\n",
    "from qiskit.converters import circuit_to_dag\n",
    "from qiskit import QuantumCircuit, transpile\n",
    "from qiskit.providers.ibmq import least_busy\n",
    "from qiskit.visualization import plot_histogram\n",
    "from qiskit.visualization import plot_circuit_layout\n",
    "from sympy.utilities.iterables import multiset_permutations\n",
    "\n",
    "%matplotlib inline"
   ]
  },
  {
   "cell_type": "code",
   "execution_count": 2,
   "id": "eebec536",
   "metadata": {
    "scrolled": false
   },
   "outputs": [
    {
     "data": {
      "text/plain": [
       "<AccountProvider for IBMQ(hub='ibm-q', group='open', project='main')>"
      ]
     },
     "execution_count": 2,
     "metadata": {},
     "output_type": "execute_result"
    }
   ],
   "source": [
    "IBMQ.save_account('de404b7eba21afacf3e900bcd1cc1244967cecad8f7051683e08ff88d444aee2e6cb029f51036d2eb8efd6f18bd04acf5d9bc0891891ebe4c1bb1ab062f7741b', overwrite=True)\n",
    "IBMQ.load_account()"
   ]
  },
  {
   "cell_type": "code",
   "execution_count": 3,
   "id": "7c5a261b",
   "metadata": {
    "scrolled": false
   },
   "outputs": [
    {
     "data": {
      "text/plain": [
       "'ibmq_santiago'"
      ]
     },
     "execution_count": 3,
     "metadata": {},
     "output_type": "execute_result"
    }
   ],
   "source": [
    "provider = IBMQ.get_provider(hub='ibm-q', group='open')\n",
    "small_devices = provider.backends(filters=lambda x: x.configuration().n_qubits == 5 and not x.configuration().simulator)\n",
    "devname = str(least_busy(small_devices))\n",
    "devname"
   ]
  },
  {
   "cell_type": "code",
   "execution_count": 4,
   "id": "8f53829d",
   "metadata": {
    "scrolled": false
   },
   "outputs": [
    {
     "data": {
      "image/png": "[encoded data removed]",
      "text/plain": [
       "<Figure size 568.197x325.08 with 1 Axes>"
      ]
     },
     "execution_count": 4,
     "metadata": {},
     "output_type": "execute_result"
    }
   ],
   "source": [
    "qc = QuantumCircuit(4,4)\n",
    "qc.x(0)\n",
    "qc.h(1)\n",
    "qc.cx(0,1)\n",
    "qc.cx(1,2)\n",
    "qc.x(3)\n",
    "qc.barrier()\n",
    "qc.measure(range(4), range(4))\n",
    "qc.draw(output='mpl')"
   ]
  },
  {
   "cell_type": "code",
   "execution_count": 5,
   "id": "987f9bba",
   "metadata": {
    "scrolled": false
   },
   "outputs": [
    {
     "data": {
      "image/png": "[encoded data removed]",
      "text/plain": [
       "<Figure size 504x360 with 1 Axes>"
      ]
     },
     "metadata": {},
     "output_type": "display_data"
    }
   ],
   "source": [
    "simulator = Aer.get_backend('qasm_simulator')\n",
    "results = execute(qc,simulator).result().get_counts()\n",
    "fig = plot_histogram(results)\n",
    "display(fig)"
   ]
  },
  {
   "cell_type": "code",
   "execution_count": null,
   "id": "d75ae64a",
   "metadata": {
    "scrolled": false
   },
   "outputs": [],
   "source": [
    "device = provider.get_backend(devname)\n",
    "job = execute(qc, backend = device, shots = 1024)\n",
    "job_monitor(job)\n",
    "device_result = job.result()\n",
    "plot_histogram(device_result.get_counts(qc))"
   ]
  },
  {
   "cell_type": "code",
   "execution_count": 6,
   "id": "3281d763",
   "metadata": {
    "scrolled": false
   },
   "outputs": [],
   "source": [
    "qubits = np.array([0, 1, 2, 3])\n",
    "arr = []\n",
    "for p in multiset_permutations(qubits):\n",
    "    arr.append(p)"
   ]
  },
  {
   "cell_type": "code",
   "execution_count": null,
   "id": "81bc40c7",
   "metadata": {
    "scrolled": false
   },
   "outputs": [],
   "source": [
    "backend = provider.get_backend(devname)\n",
    "transpiled_circuit = transpile(qc, backend, initial_layout=arr[2])\n",
    "plot_circuit_layout(transpiled_circuit, backend)\n",
    "\n",
    "results = execute(qc, backend = provider.get_backend(devname), initial_layout = arr[2], shots = 1000).result().get_counts()\n",
    "plot_histogram(results)"
   ]
  },
  {
   "cell_type": "code",
   "execution_count": null,
   "id": "6ad82eb2",
   "metadata": {},
   "outputs": [],
   "source": [
    "def gatecount(qc, layout, devname):\n",
    "    backend = provider.get_backend(devname)\n",
    "    \n",
    "    transpiled_circuit = transpile(qc, backend, initial_layout = layout)\n",
    "    count = transpiled_circuit.count_ops()\n",
    "    print('Gate counts - ', )\n",
    "    print(json.dumps(count,indent=4))\n",
    "    \n",
    "def plothistogram(qc, layout, devname):\n",
    "    backend = provider.get_backend(devname)\n",
    "    \n",
    "    transpiled_circuit = transpile(qc, backend, initial_layout=layout)\n",
    "    \n",
    "    results = execute(qc, backend = provider.get_backend('ibmq_santiago'), initial_layout = layout, shots = 1000)\n",
    "    job_monitor(results)\n",
    "    fig = plot_histogram(results.result().get_counts())\n",
    "    display(fig)"
   ]
  },
  {
   "cell_type": "code",
   "execution_count": null,
   "id": "242dbb9d",
   "metadata": {
    "scrolled": true
   },
   "outputs": [],
   "source": [
    "plothistogram(qc, arr[10], devname)"
   ]
  },
  {
   "cell_type": "code",
   "execution_count": null,
   "id": "192480a9",
   "metadata": {},
   "outputs": [],
   "source": []
  }
 ],
 "metadata": {
  "interpreter": {
   "hash": "8c93b56f12893a73f3fb26b619faf35eb67f0f4410719b74190040acf104b72e"
  },
  "kernelspec": {
   "display_name": "Python 3 (ipykernel)",
   "language": "python",
   "name": "python3"
  },
  "language_info": {
   "codemirror_mode": {
    "name": "ipython",
    "version": 3
   },
   "file_extension": ".py",
   "mimetype": "text/x-python",
   "name": "python",
   "nbconvert_exporter": "python",
   "pygments_lexer": "ipython3",
   "version": "3.9.7"
  }
 },
 "nbformat": 4,
 "nbformat_minor": 5
}
