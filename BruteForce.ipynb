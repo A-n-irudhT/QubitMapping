{
 "cells": [
  {
   "cell_type": "code",
   "execution_count": 1,
   "id": "be21b428",
   "metadata": {},
   "outputs": [],
   "source": [
    "import time\n",
    "import numpy as np\n",
    "from qiskit import *\n",
    "from qiskit import Aer\n",
    "from qiskit import IBMQ\n",
    "import matplotlib.pyplot as plt\n",
    "from IPython.display import display\n",
    "from qiskit import QuantumCircuit, transpile\n",
    "from qiskit.tools.monitor import job_monitor\n",
    "from qiskit.providers.ibmq import least_busy\n",
    "from sympy.utilities.iterables import multiset_permutations\n",
    "from qiskit.visualization import plot_histogram, plot_circuit_layout"
   ]
  },
  {
   "cell_type": "code",
   "execution_count": 2,
   "id": "152bb33b",
   "metadata": {},
   "outputs": [
    {
     "data": {
      "text/plain": [
       "<AccountProvider for IBMQ(hub='ibm-q', group='open', project='main')>"
      ]
     },
     "execution_count": 2,
     "metadata": {},
     "output_type": "execute_result"
    }
   ],
   "source": [
    "IBMQ.save_account('de404b7eba21afacf3e900bcd1cc1244967cecad8f7051683e08ff88d444aee2e6cb029f51036d2eb8efd6f18bd04acf5d9bc0891891ebe4c1bb1ab062f7741b', overwrite=True)\n",
    "IBMQ.load_account()"
   ]
  },
  {
   "cell_type": "code",
   "execution_count": 3,
   "id": "b65a91de",
   "metadata": {},
   "outputs": [
    {
     "data": {
      "image/png": "[encoded data removed]",
      "text/plain": [
       "<Figure size 628.397x325.08 with 1 Axes>"
      ]
     },
     "execution_count": 3,
     "metadata": {},
     "output_type": "execute_result"
    }
   ],
   "source": [
    "qc = QuantumCircuit(4,4)\n",
    "qc.x(0)\n",
    "qc.h(1)\n",
    "qc.cx(0,1)\n",
    "qc.cx(1,2)\n",
    "qc.x(3)\n",
    "qc.cx(3,1)\n",
    "qc.barrier()\n",
    "qc.measure(range(4), range(4))\n",
    "qc.draw(output='mpl')"
   ]
  },
  {
   "cell_type": "code",
   "execution_count": 4,
   "id": "1ddad8c0",
   "metadata": {},
   "outputs": [],
   "source": [
    "qubits = np.array([0, 1, 2, 3])\n",
    "arr = []\n",
    "for p in multiset_permutations(qubits):\n",
    "    arr.append(p)"
   ]
  },
  {
   "cell_type": "code",
   "execution_count": 5,
   "id": "4625467d",
   "metadata": {},
   "outputs": [],
   "source": [
    "def gatecount(qc, transpiled_circuit):\n",
    "    count = transpiled_circuit.count_ops()\n",
    "    items = list(count.items())\n",
    "    pieces = len(items)\n",
    "    new_arrays = np.array_split(items, pieces)\n",
    "    new_arrays\n",
    "    for i in range(pieces):\n",
    "        if(new_arrays[i][0][0] == 'cx'):\n",
    "            cnotcount = int(new_arrays[i][0][1])\n",
    "            \n",
    "    #print('Gate Counts -')\n",
    "    #print(json.dumps(count,indent=4))\n",
    "    return cnotcount\n",
    "    \n",
    "def plothistogram(qc, job):\n",
    "    fig = plot_histogram(job.result().get_counts())\n",
    "    display(fig)\n",
    "\n",
    "def run(qc, layout, computer, plot=0):\n",
    "    if (computer == 0):\n",
    "        backend = Aer.get_backend('qasm_simulator')\n",
    "        \n",
    "    else:\n",
    "        provider = IBMQ.get_provider(hub='ibm-q', group='open')\n",
    "        small_devices = provider.backends(filters=lambda x: x.configuration().n_qubits == 5 and not x.configuration().simulator)\n",
    "        backend = least_busy(small_devices)\n",
    "        \n",
    "    transpiled_circuit = transpile(qc, backend, initial_layout=layout, optimization_level=3)\n",
    "    #job = execute(qc, backend, shots = 1024)\n",
    "    print(\"Quantum Computer in Use:\", str(backend))\n",
    "    #job_monitor(job)\n",
    "    #device_result = job.result()\n",
    "    \n",
    "    if(plot==1):\n",
    "        plothistogram(qc, job)\n",
    "    \n",
    "    cx = gatecount(qc, transpiled_circuit)\n",
    "    \n",
    "    return cx"
   ]
  },
  {
   "cell_type": "code",
   "execution_count": 6,
   "id": "99fbf583",
   "metadata": {},
   "outputs": [
    {
     "name": "stdout",
     "output_type": "stream",
     "text": [
      "Iteration 1\n",
      "Quantum Computer in Use: ibmq_quito\n",
      "Iteration 2\n",
      "Quantum Computer in Use: ibmq_quito\n",
      "Iteration 3\n",
      "Quantum Computer in Use: ibmq_quito\n",
      "Iteration 4\n",
      "Quantum Computer in Use: ibmq_quito\n",
      "Iteration 5\n",
      "Quantum Computer in Use: ibmq_quito\n",
      "Iteration 6\n",
      "Quantum Computer in Use: ibmq_quito\n",
      "Iteration 7\n",
      "Quantum Computer in Use: ibmq_quito\n",
      "Iteration 8\n",
      "Quantum Computer in Use: ibmq_quito\n",
      "Iteration 9\n",
      "Quantum Computer in Use: ibmq_quito\n",
      "Iteration 10\n",
      "Quantum Computer in Use: ibmq_quito\n",
      "Iteration 11\n",
      "Quantum Computer in Use: ibmq_quito\n",
      "Iteration 12\n",
      "Quantum Computer in Use: ibmq_quito\n",
      "Iteration 13\n",
      "Quantum Computer in Use: ibmq_quito\n",
      "Iteration 14\n",
      "Quantum Computer in Use: ibmq_quito\n",
      "Iteration 15\n",
      "Quantum Computer in Use: ibmq_quito\n",
      "Iteration 16\n",
      "Quantum Computer in Use: ibmq_belem\n",
      "Iteration 17\n",
      "Quantum Computer in Use: ibmq_belem\n",
      "Iteration 18\n",
      "Quantum Computer in Use: ibmq_belem\n",
      "Iteration 19\n",
      "Quantum Computer in Use: ibmq_belem\n",
      "Iteration 20\n",
      "Quantum Computer in Use: ibmq_belem\n",
      "Iteration 21\n",
      "Quantum Computer in Use: ibmq_belem\n",
      "Iteration 22\n",
      "Quantum Computer in Use: ibmq_belem\n",
      "Iteration 23\n",
      "Quantum Computer in Use: ibmq_belem\n",
      "Iteration 24\n",
      "Quantum Computer in Use: ibmq_belem\n"
     ]
    }
   ],
   "source": [
    "designspace = np.zeros(len(arr), dtype='int')\n",
    "for i in range(len(arr)):\n",
    "    print(\"Iteration\", i+1)\n",
    "    designspace[i] = run(qc=qc, layout=arr[i], computer=1)"
   ]
  },
  {
   "cell_type": "code",
   "execution_count": 7,
   "id": "b75bf266",
   "metadata": {},
   "outputs": [
    {
     "data": {
      "text/plain": [
       "Text(0, 0.5, 'CNOT Gate Count')"
      ]
     },
     "execution_count": 7,
     "metadata": {},
     "output_type": "execute_result"
    },
    {
     "data": {
      "image/png": "[encoded data removed]",
      "text/plain": [
       "<Figure size 432x288 with 1 Axes>"
      ]
     },
     "metadata": {
      "needs_background": "light"
     },
     "output_type": "display_data"
    }
   ],
   "source": [
    "x = np.arange(0, len(arr))\n",
    "plt.stem(x, designspace)\n",
    "plt.xlabel(\"Configuration Number\")\n",
    "plt.ylabel(\"CNOT Gate Count\")"
   ]
  },
  {
   "cell_type": "code",
   "execution_count": 8,
   "id": "4f70b4f9",
   "metadata": {},
   "outputs": [
    {
     "name": "stdout",
     "output_type": "stream",
     "text": [
      "[3 3 6 6 6 6 4 4 4 4 4 4 6 6 3 3 6 6 6 6 3 3 6 6]\n",
      "The minimum possible number of CNOT gates is 3\n"
     ]
    }
   ],
   "source": [
    "print(designspace)\n",
    "min = np.amin(designspace)\n",
    "print(\"The minimum possible number of CNOT gates is\", min)"
   ]
  },
  {
   "cell_type": "code",
   "execution_count": null,
   "id": "22540d10",
   "metadata": {},
   "outputs": [],
   "source": []
  }
 ],
 "metadata": {
  "kernelspec": {
   "display_name": "Python 3 (ipykernel)",
   "language": "python",
   "name": "python3"
  },
  "language_info": {
   "codemirror_mode": {
    "name": "ipython",
    "version": 3
   },
   "file_extension": ".py",
   "mimetype": "text/x-python",
   "name": "python",
   "nbconvert_exporter": "python",
   "pygments_lexer": "ipython3",
   "version": "3.9.7"
  }
 },
 "nbformat": 4,
 "nbformat_minor": 5
}
